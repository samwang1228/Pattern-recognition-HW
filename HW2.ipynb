{
 "cells": [
  {
   "cell_type": "markdown",
   "id": "af492403",
   "metadata": {},
   "source": [
    "# 想想看，你能做那些改進來提升正確率 (accuracy) ？\n",
    "1. 修改epoch和batch size\n",
    "2. 修改layer數\n",
    "3. 修改optimizer \n",
    "4. 修改loss function\n",
    "5. 修改activate function\n",
    "6. 用network.fit()來進行訓練\n",
    "7. 用network.evaluate()評估成果"
   ]
  },
  {
   "cell_type": "code",
   "execution_count": null,
   "id": "061f2a5c",
   "metadata": {},
   "outputs": [],
   "source": []
  },
  {
   "cell_type": "markdown",
   "id": "a2889fbe",
   "metadata": {},
   "source": [
    "## MINIST 資料集圖片辨識\n",
    "深度學習的「Hello World!」\n",
    "1. 載入mnist資料集，含(train_images,train_labels)和(test_images,test_labels)\n",
    "2. 用兩個Dense層架構(network.add())了一個神經網路\n",
    "3. 用network.compile()來編譯神經網路，此時要指定optimmizer、loss、metrices三個參數\n",
    "4.要將輸入資料集做前處理，用reshape()和astype()來做 \n",
    "5. 對輸入的標籤做分類標碼\n",
    "6. 用network.fit()來進行訓練\n",
    "7. 用network.evaluate()評估成果"
   ]
  },
  {
   "cell_type": "code",
   "execution_count": 1,
   "id": "78c4ede4",
   "metadata": {},
   "outputs": [],
   "source": [
    "# 在Keras中載入MNIST資料集\n",
    "from tensorflow.keras.datasets import mnist\n",
    "\n",
    "(train_images,train_labels),(test_images,test_labels) = mnist.load_data()"
   ]
  },
  {
   "cell_type": "code",
   "execution_count": 2,
   "id": "94c83bb8",
   "metadata": {},
   "outputs": [
    {
     "data": {
      "text/plain": [
       "((60000, 28, 28), (60000,), (10000, 28, 28), (10000,))"
      ]
     },
     "execution_count": 2,
     "metadata": {},
     "output_type": "execute_result"
    }
   ],
   "source": [
    "train_images.shape, train_labels.shape, test_images.shape, test_labels.shape "
   ]
  },
  {
   "cell_type": "code",
   "execution_count": 3,
   "id": "fc135968",
   "metadata": {},
   "outputs": [
    {
     "name": "stdout",
     "output_type": "stream",
     "text": [
      "  0  0  0  0  0  0  0  0  0  0  0  0  0  0  0  0  0  0  0  0  0  0  0  0  0  0  0  0\n",
      "  0  0  0  0  0  0  0  0  0  0  0  0  0  0  0  0  0  0  0  0  0  0  0  0  0  0  0  0\n",
      "  0  0  0  0  0  0  0  0  0  0  0  0  0  0  0  0  0  0  0  0  0  0  0  0  0  0  0  0\n",
      "  0  0  0  0  0  0  0  0  0  0116125171255255150 93  0  0  0  0  0  0  0  0  0  0  0\n",
      "  0  0  0  0  0  0  0  0  0169253253253253253253218 30  0  0  0  0  0  0  0  0  0  0\n",
      "  0  0  0  0  0  0  0  0169253253253213142176253253122  0  0  0  0  0  0  0  0  0  0\n",
      "  0  0  0  0  0  0  0 52250253210 32 12  0  6206253140  0  0  0  0  0  0  0  0  0  0\n",
      "  0  0  0  0  0  0  0 77251210 25  0  0  0122248253 65  0  0  0  0  0  0  0  0  0  0\n",
      "  0  0  0  0  0  0  0  0 31 18  0  0  0  0209253253 65  0  0  0  0  0  0  0  0  0  0\n",
      "  0  0  0  0  0  0  0  0  0  0  0  0  0117247253198 10  0  0  0  0  0  0  0  0  0  0\n",
      "  0  0  0  0  0  0  0  0  0  0  0  0 76247253231 63  0  0  0  0  0  0  0  0  0  0  0\n",
      "  0  0  0  0  0  0  0  0  0  0  0  0128253253144  0  0  0  0  0  0  0  0  0  0  0  0\n",
      "  0  0  0  0  0  0  0  0  0  0  0176246253159 12  0  0  0  0  0  0  0  0  0  0  0  0\n",
      "  0  0  0  0  0  0  0  0  0  0 25234253233 35  0  0  0  0  0  0  0  0  0  0  0  0  0\n",
      "  0  0  0  0  0  0  0  0  0  0198253253141  0  0  0  0  0  0  0  0  0  0  0  0  0  0\n",
      "  0  0  0  0  0  0  0  0  0 78248253189 12  0  0  0  0  0  0  0  0  0  0  0  0  0  0\n",
      "  0  0  0  0  0  0  0  0 19200253253141  0  0  0  0  0  0  0  0  0  0  0  0  0  0  0\n",
      "  0  0  0  0  0  0  0  0134253253173 12  0  0  0  0  0  0  0  0  0  0  0  0  0  0  0\n",
      "  0  0  0  0  0  0  0  0248253253 25  0  0  0  0  0  0  0  0  0  0  0  0  0  0  0  0\n",
      "  0  0  0  0  0  0  0  0248253253 43 20 20 20 20  5  0  5 20 20 37150150150147 10  0\n",
      "  0  0  0  0  0  0  0  0248253253253253253253253168143166253253253253253253253123  0\n",
      "  0  0  0  0  0  0  0  0174253253253253253253253253253253253249247247169117117 57  0\n",
      "  0  0  0  0  0  0  0  0  0118123123123166253253253155123123 41  0  0  0  0  0  0  0\n",
      "  0  0  0  0  0  0  0  0  0  0  0  0  0  0  0  0  0  0  0  0  0  0  0  0  0  0  0  0\n",
      "  0  0  0  0  0  0  0  0  0  0  0  0  0  0  0  0  0  0  0  0  0  0  0  0  0  0  0  0\n",
      "  0  0  0  0  0  0  0  0  0  0  0  0  0  0  0  0  0  0  0  0  0  0  0  0  0  0  0  0\n",
      "  0  0  0  0  0  0  0  0  0  0  0  0  0  0  0  0  0  0  0  0  0  0  0  0  0  0  0  0\n",
      "  0  0  0  0  0  0  0  0  0  0  0  0  0  0  0  0  0  0  0  0  0  0  0  0  0  0  0  0\n"
     ]
    }
   ],
   "source": [
    "x= test_images[1]\n",
    "#%%\n",
    "for i in range(28):\n",
    "    for j in range(28):\n",
    "        z= x[i,j]\n",
    "        print(f'{z:3d}', end='')\n",
    "    print()\n",
    "# 11612517125525515093"
   ]
  },
  {
   "cell_type": "code",
   "execution_count": 4,
   "id": "94bebf1c",
   "metadata": {},
   "outputs": [
    {
     "name": "stdout",
     "output_type": "stream",
     "text": [
      "       112    255555         1"
     ]
    }
   ],
   "source": [
    "a=[112,255555,1]\n",
    "for i in range(len(a)):\n",
    "    print(f'{a[i]:10d}',end='')"
   ]
  },
  {
   "cell_type": "code",
   "execution_count": 5,
   "id": "03b6beb3",
   "metadata": {},
   "outputs": [
    {
     "data": {
      "text/plain": [
       "<matplotlib.image.AxesImage at 0x25be5de5100>"
      ]
     },
     "execution_count": 5,
     "metadata": {},
     "output_type": "execute_result"
    },
    {
     "data": {
      "image/png": "[encoded data removed]",
      "text/plain": [
       "<Figure size 432x288 with 1 Axes>"
      ]
     },
     "metadata": {
      "needs_background": "light"
     },
     "output_type": "display_data"
    }
   ],
   "source": [
    "import matplotlib.pyplot as pl\n",
    "pl.imshow(x)\n",
    "pl.imshow(x,cmap='gray')"
   ]
  },
  {
   "cell_type": "code",
   "execution_count": 6,
   "id": "1b81cd8d",
   "metadata": {},
   "outputs": [],
   "source": [
    "from tensorflow.keras import models\n",
    "from tensorflow.keras import layers\n",
    "\n",
    "network = models.Sequential()\n",
    "network.add(layers.Dense(512,activation=\"relu\",input_shape=(28*28,)))\n",
    "network.add(layers.Dense(10,activation='softmax'))\n"
   ]
  },
  {
   "cell_type": "code",
   "execution_count": 13,
   "id": "aafcc975",
   "metadata": {},
   "outputs": [],
   "source": [
    "network.compile(\n",
    "    optimizer = 'adam', # 指定優化器→控制梯度下降的確切規則\n",
    "    loss = 'categorical_crossentropy', # 指定損失函數\n",
    "    metrics = ['accuracy'] # 指定評量準則\n",
    ")"
   ]
  },
  {
   "cell_type": "code",
   "execution_count": 8,
   "id": "bfd7caf4",
   "metadata": {},
   "outputs": [],
   "source": [
    "train_images = train_images.reshape((60000,28*28))\n",
    "train_images = train_images.astype('float32')/ 255\n",
    "\n",
    "test_images = test_images.reshape((10000,28*28))\n",
    "test_images = test_images.astype('float32')/ 255"
   ]
  },
  {
   "cell_type": "markdown",
   "id": "bd9546b4",
   "metadata": {},
   "source": [
    "# 建模"
   ]
  },
  {
   "cell_type": "code",
   "execution_count": 9,
   "id": "ad355ae7",
   "metadata": {},
   "outputs": [],
   "source": [
    "from tensorflow.keras.utils import to_categorical\n",
    "\n",
    "train_labels = to_categorical(train_labels)\n",
    "test_labels = to_categorical(test_labels)"
   ]
  },
  {
   "cell_type": "markdown",
   "id": "9ca66a2b",
   "metadata": {},
   "source": [
    "# ACC 100% 在training set\n"
   ]
  },
  {
   "cell_type": "code",
   "execution_count": 14,
   "id": "009462ea",
   "metadata": {},
   "outputs": [
    {
     "name": "stdout",
     "output_type": "stream",
     "text": [
      "Epoch 1/16\n",
      "469/469 [==============================] - 1s 2ms/step - loss: 0.0051 - accuracy: 0.9985\n",
      "Epoch 2/16\n",
      "469/469 [==============================] - 1s 2ms/step - loss: 0.0087 - accuracy: 0.9972\n",
      "Epoch 3/16\n",
      "469/469 [==============================] - 1s 2ms/step - loss: 0.0038 - accuracy: 0.9988\n",
      "Epoch 4/16\n",
      "469/469 [==============================] - 1s 2ms/step - loss: 0.0021 - accuracy: 0.9994\n",
      "Epoch 5/16\n",
      "469/469 [==============================] - 1s 2ms/step - loss: 0.0039 - accuracy: 0.9989\n",
      "Epoch 6/16\n",
      "469/469 [==============================] - 1s 2ms/step - loss: 0.0024 - accuracy: 0.9992\n",
      "Epoch 7/16\n",
      "469/469 [==============================] - 1s 2ms/step - loss: 0.0068 - accuracy: 0.9977\n",
      "Epoch 8/16\n",
      "469/469 [==============================] - 1s 2ms/step - loss: 0.0053 - accuracy: 0.9984\n",
      "Epoch 9/16\n",
      "469/469 [==============================] - 1s 2ms/step - loss: 0.0024 - accuracy: 0.9995\n",
      "Epoch 10/16\n",
      "469/469 [==============================] - 1s 2ms/step - loss: 0.0046 - accuracy: 0.9987\n",
      "Epoch 11/16\n",
      "469/469 [==============================] - 1s 2ms/step - loss: 0.0015 - accuracy: 0.9995\n",
      "Epoch 12/16\n",
      "469/469 [==============================] - 1s 2ms/step - loss: 3.7242e-04 - accuracy: 1.0000\n",
      "Epoch 13/16\n",
      "469/469 [==============================] - 1s 2ms/step - loss: 7.7927e-05 - accuracy: 1.0000\n",
      "Epoch 14/16\n",
      "469/469 [==============================] - 1s 2ms/step - loss: 5.5565e-05 - accuracy: 1.0000\n",
      "Epoch 15/16\n",
      "469/469 [==============================] - 1s 2ms/step - loss: 4.7232e-05 - accuracy: 1.0000\n",
      "Epoch 16/16\n",
      "469/469 [==============================] - 1s 2ms/step - loss: 3.5248e-05 - accuracy: 1.0000\n"
     ]
    },
    {
     "data": {
      "text/plain": [
       "<tensorflow.python.keras.callbacks.History at 0x25be9f132e0>"
      ]
     },
     "execution_count": 14,
     "metadata": {},
     "output_type": "execute_result"
    }
   ],
   "source": [
    "network.fit(train_images,train_labels,epochs=16,batch_size=128)"
   ]
  },
  {
   "cell_type": "code",
   "execution_count": 15,
   "id": "37d57437",
   "metadata": {},
   "outputs": [
    {
     "name": "stdout",
     "output_type": "stream",
     "text": [
      "Model: \"sequential\"\n",
      "_________________________________________________________________\n",
      "Layer (type)                 Output Shape              Param #   \n",
      "=================================================================\n",
      "dense (Dense)                (None, 512)               401920    \n",
      "_________________________________________________________________\n",
      "dense_1 (Dense)              (None, 10)                5130      \n",
      "=================================================================\n",
      "Total params: 407,050\n",
      "Trainable params: 407,050\n",
      "Non-trainable params: 0\n",
      "_________________________________________________________________\n"
     ]
    },
    {
     "data": {
      "image/png": "[encoded data removed]",
      "text/plain": [
       "<IPython.core.display.Image object>"
      ]
     },
     "execution_count": 15,
     "metadata": {},
     "output_type": "execute_result"
    }
   ],
   "source": [
    "from tensorflow.keras.utils import plot_model\n",
    "network.summary()\n",
    "\n",
    "plot_model(network, \n",
    "    show_shapes= True,\n",
    ")\n"
   ]
  },
  {
   "cell_type": "code",
   "execution_count": 16,
   "id": "f23d684a",
   "metadata": {},
   "outputs": [
    {
     "name": "stdout",
     "output_type": "stream",
     "text": [
      "313/313 [==============================] - 1s 2ms/step - loss: 0.0815 - accuracy: 0.9851\n",
      "test_acc: 0.9850999712944031\n"
     ]
    }
   ],
   "source": [
    "test_loss , test_acc = network.evaluate(test_images,test_labels)\n",
    "print('test_acc:',test_acc)"
   ]
  },
  {
   "cell_type": "code",
   "execution_count": null,
   "id": "428a6fa0",
   "metadata": {},
   "outputs": [],
   "source": []
  }
 ],
 "metadata": {
  "kernelspec": {
   "display_name": "Python 3 (ipykernel)",
   "language": "python",
   "name": "python3"
  },
  "language_info": {
   "codemirror_mode": {
    "name": "ipython",
    "version": 3
   },
   "file_extension": ".py",
   "mimetype": "text/x-python",
   "name": "python",
   "nbconvert_exporter": "python",
   "pygments_lexer": "ipython3",
   "version": "3.8.13"
  }
 },
 "nbformat": 4,
 "nbformat_minor": 5
}
