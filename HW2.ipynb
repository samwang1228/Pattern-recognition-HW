{
 "cells": [
  {
   "cell_type": "markdown",
   "id": "0fa6e073",
   "metadata": {},
   "source": [
    "# 想想看，你能做那些改進來提升正確率 (accuracy) ？\n",
    "1. 修改epoch和batch size\n",
    "2. 修改layer數\n",
    "3. 修改optimizer \n",
    "4. 修改loss function\n",
    "5. 修改activate function\n",
    "6. 分割Validation Set\n",
    "7. 調整learning rate\n",
    "8. 修改unit數目\n",
    "9. 正規化數據\n",
    "10. 增加data數量\n",
    "11. 改變問題本身ex binary --> category"
   ]
  },
  {
   "cell_type": "markdown",
   "id": "61d0ba91",
   "metadata": {},
   "source": [
    "## 我修改的部分\n",
    "1. epochs=16,batch_size=128\n",
    "2. optimizer = 'adam'\n",
    "3. dense unit 512 --> 10\n",
    "4. validation_split=0.2\n",
    "\n",
    "## <div style='color:red'>我的模型acc在train已達100% </div>"
   ]
  },
  {
   "cell_type": "markdown",
   "id": "5d7fa854",
   "metadata": {},
   "source": [
    "## 程式解釋\n",
    " \n",
    "1. 載入mnist資料集，含(train_images,train_labels)和(test_images,test_labels)\n",
    "2. 用兩個Dense層架構(network.add())了一個神經網路\n",
    "3. 用network.compile()來編譯神經網路，此時要指定optimmizer、loss、metrices三個參數\n",
    "4.要將輸入資料集做前處理，用reshape()和astype()來做 \n",
    "5. 對輸入的標籤做分類標碼\n",
    "6. 用network.fit()來進行訓練\n",
    "7. 用network.evaluate()評估成果"
   ]
  },
  {
   "cell_type": "markdown",
   "id": "fca3e1a4",
   "metadata": {},
   "source": [
    "## GPU已綁定"
   ]
  },
  {
   "cell_type": "code",
   "execution_count": 24,
   "id": "6940142c",
   "metadata": {},
   "outputs": [
    {
     "name": "stdout",
     "output_type": "stream",
     "text": [
      "PhysicalDevice(name='/physical_device:GPU:0', device_type='GPU')\n"
     ]
    }
   ],
   "source": [
    "import tensorflow as tf\n",
    "print(tf.config.list_physical_devices('GPU')[0])"
   ]
  },
  {
   "cell_type": "code",
   "execution_count": 1,
   "id": "78c4ede4",
   "metadata": {},
   "outputs": [],
   "source": [
    "# 在Keras中載入MNIST資料集\n",
    "from tensorflow.keras.datasets import mnist\n",
    "\n",
    "(train_images,train_labels),(test_images,test_labels) = mnist.load_data()"
   ]
  },
  {
   "cell_type": "code",
   "execution_count": 2,
   "id": "94c83bb8",
   "metadata": {},
   "outputs": [
    {
     "data": {
      "text/plain": [
       "((60000, 28, 28), (60000,), (10000, 28, 28), (10000,))"
      ]
     },
     "execution_count": 2,
     "metadata": {},
     "output_type": "execute_result"
    }
   ],
   "source": [
    "train_images.shape, train_labels.shape, test_images.shape, test_labels.shape "
   ]
  },
  {
   "cell_type": "code",
   "execution_count": 3,
   "id": "fc135968",
   "metadata": {},
   "outputs": [
    {
     "name": "stdout",
     "output_type": "stream",
     "text": [
      "  0  0  0  0  0  0  0  0  0  0  0  0  0  0  0  0  0  0  0  0  0  0  0  0  0  0  0  0\n",
      "  0  0  0  0  0  0  0  0  0  0  0  0  0  0  0  0  0  0  0  0  0  0  0  0  0  0  0  0\n",
      "  0  0  0  0  0  0  0  0  0  0  0  0  0  0  0  0  0  0  0  0  0  0  0  0  0  0  0  0\n",
      "  0  0  0  0  0  0  0  0  0  0116125171255255150 93  0  0  0  0  0  0  0  0  0  0  0\n",
      "  0  0  0  0  0  0  0  0  0169253253253253253253218 30  0  0  0  0  0  0  0  0  0  0\n",
      "  0  0  0  0  0  0  0  0169253253253213142176253253122  0  0  0  0  0  0  0  0  0  0\n",
      "  0  0  0  0  0  0  0 52250253210 32 12  0  6206253140  0  0  0  0  0  0  0  0  0  0\n",
      "  0  0  0  0  0  0  0 77251210 25  0  0  0122248253 65  0  0  0  0  0  0  0  0  0  0\n",
      "  0  0  0  0  0  0  0  0 31 18  0  0  0  0209253253 65  0  0  0  0  0  0  0  0  0  0\n",
      "  0  0  0  0  0  0  0  0  0  0  0  0  0117247253198 10  0  0  0  0  0  0  0  0  0  0\n",
      "  0  0  0  0  0  0  0  0  0  0  0  0 76247253231 63  0  0  0  0  0  0  0  0  0  0  0\n",
      "  0  0  0  0  0  0  0  0  0  0  0  0128253253144  0  0  0  0  0  0  0  0  0  0  0  0\n",
      "  0  0  0  0  0  0  0  0  0  0  0176246253159 12  0  0  0  0  0  0  0  0  0  0  0  0\n",
      "  0  0  0  0  0  0  0  0  0  0 25234253233 35  0  0  0  0  0  0  0  0  0  0  0  0  0\n",
      "  0  0  0  0  0  0  0  0  0  0198253253141  0  0  0  0  0  0  0  0  0  0  0  0  0  0\n",
      "  0  0  0  0  0  0  0  0  0 78248253189 12  0  0  0  0  0  0  0  0  0  0  0  0  0  0\n",
      "  0  0  0  0  0  0  0  0 19200253253141  0  0  0  0  0  0  0  0  0  0  0  0  0  0  0\n",
      "  0  0  0  0  0  0  0  0134253253173 12  0  0  0  0  0  0  0  0  0  0  0  0  0  0  0\n",
      "  0  0  0  0  0  0  0  0248253253 25  0  0  0  0  0  0  0  0  0  0  0  0  0  0  0  0\n",
      "  0  0  0  0  0  0  0  0248253253 43 20 20 20 20  5  0  5 20 20 37150150150147 10  0\n",
      "  0  0  0  0  0  0  0  0248253253253253253253253168143166253253253253253253253123  0\n",
      "  0  0  0  0  0  0  0  0174253253253253253253253253253253253249247247169117117 57  0\n",
      "  0  0  0  0  0  0  0  0  0118123123123166253253253155123123 41  0  0  0  0  0  0  0\n",
      "  0  0  0  0  0  0  0  0  0  0  0  0  0  0  0  0  0  0  0  0  0  0  0  0  0  0  0  0\n",
      "  0  0  0  0  0  0  0  0  0  0  0  0  0  0  0  0  0  0  0  0  0  0  0  0  0  0  0  0\n",
      "  0  0  0  0  0  0  0  0  0  0  0  0  0  0  0  0  0  0  0  0  0  0  0  0  0  0  0  0\n",
      "  0  0  0  0  0  0  0  0  0  0  0  0  0  0  0  0  0  0  0  0  0  0  0  0  0  0  0  0\n",
      "  0  0  0  0  0  0  0  0  0  0  0  0  0  0  0  0  0  0  0  0  0  0  0  0  0  0  0  0\n"
     ]
    }
   ],
   "source": [
    "x= test_images[1]\n",
    "#%%\n",
    "for i in range(28):\n",
    "    for j in range(28):\n",
    "        z= x[i,j]\n",
    "        print(f'{z:3d}', end='')\n",
    "    print()\n",
    "# 11612517125525515093"
   ]
  },
  {
   "cell_type": "code",
   "execution_count": 4,
   "id": "94bebf1c",
   "metadata": {},
   "outputs": [
    {
     "name": "stdout",
     "output_type": "stream",
     "text": [
      "       112    255555         1"
     ]
    }
   ],
   "source": [
    "a=[112,255555,1]\n",
    "for i in range(len(a)):\n",
    "    print(f'{a[i]:10d}',end='')"
   ]
  },
  {
   "cell_type": "code",
   "execution_count": 5,
   "id": "03b6beb3",
   "metadata": {},
   "outputs": [
    {
     "data": {
      "text/plain": [
       "<matplotlib.image.AxesImage at 0x25be5de5100>"
      ]
     },
     "execution_count": 5,
     "metadata": {},
     "output_type": "execute_result"
    },
    {
     "data": {
      "image/png": "[encoded data removed]",
      "text/plain": [
       "<Figure size 432x288 with 1 Axes>"
      ]
     },
     "metadata": {
      "needs_background": "light"
     },
     "output_type": "display_data"
    }
   ],
   "source": [
    "import matplotlib.pyplot as pl\n",
    "pl.imshow(x)\n",
    "pl.imshow(x,cmap='gray')"
   ]
  },
  {
   "cell_type": "code",
   "execution_count": 6,
   "id": "1b81cd8d",
   "metadata": {},
   "outputs": [],
   "source": [
    "from tensorflow.keras import models\n",
    "from tensorflow.keras import layers\n",
    "\n",
    "network = models.Sequential()\n",
    "network.add(layers.Dense(512,activation=\"relu\",input_shape=(28*28,)))\n",
    "network.add(layers.Dense(10,activation='softmax'))\n"
   ]
  },
  {
   "cell_type": "code",
   "execution_count": 13,
   "id": "aafcc975",
   "metadata": {},
   "outputs": [],
   "source": [
    "network.compile(\n",
    "    optimizer = 'adam', # 指定優化器→控制梯度下降的確切規則\n",
    "    loss = 'categorical_crossentropy', # 指定損失函數\n",
    "    metrics = ['accuracy'] # 指定評量準則\n",
    ")"
   ]
  },
  {
   "cell_type": "code",
   "execution_count": 8,
   "id": "bfd7caf4",
   "metadata": {},
   "outputs": [],
   "source": [
    "train_images = train_images.reshape((60000,28*28))\n",
    "train_images = train_images.astype('float32')/ 255\n",
    "\n",
    "test_images = test_images.reshape((10000,28*28))\n",
    "test_images = test_images.astype('float32')/ 255"
   ]
  },
  {
   "cell_type": "markdown",
   "id": "6fdb43de",
   "metadata": {},
   "source": [
    "# 建模"
   ]
  },
  {
   "cell_type": "code",
   "execution_count": 9,
   "id": "ad355ae7",
   "metadata": {},
   "outputs": [],
   "source": [
    "from tensorflow.keras.utils import to_categorical\n",
    "\n",
    "train_labels = to_categorical(train_labels)\n",
    "test_labels = to_categorical(test_labels)"
   ]
  },
  {
   "cell_type": "markdown",
   "id": "e1bb5a11",
   "metadata": {},
   "source": [
    "# ACC 100% 在training set\n"
   ]
  },
  {
   "cell_type": "code",
   "execution_count": 17,
   "id": "009462ea",
   "metadata": {
    "scrolled": false
   },
   "outputs": [
    {
     "name": "stdout",
     "output_type": "stream",
     "text": [
      "Epoch 1/16\n",
      "375/375 [==============================] - 2s 5ms/step - loss: 3.2062e-05 - accuracy: 1.0000 - val_loss: 3.4336e-05 - val_accuracy: 1.0000\n",
      "Epoch 2/16\n",
      "375/375 [==============================] - 1s 2ms/step - loss: 2.8000e-05 - accuracy: 1.0000 - val_loss: 3.3820e-05 - val_accuracy: 1.0000\n",
      "Epoch 3/16\n",
      "375/375 [==============================] - 1s 2ms/step - loss: 2.4265e-05 - accuracy: 1.0000 - val_loss: 3.3106e-05 - val_accuracy: 1.0000\n",
      "Epoch 4/16\n",
      "375/375 [==============================] - 1s 2ms/step - loss: 2.1306e-05 - accuracy: 1.0000 - val_loss: 3.2804e-05 - val_accuracy: 1.0000\n",
      "Epoch 5/16\n",
      "375/375 [==============================] - 1s 2ms/step - loss: 1.8775e-05 - accuracy: 1.0000 - val_loss: 3.2762e-05 - val_accuracy: 1.0000\n",
      "Epoch 6/16\n",
      "375/375 [==============================] - 1s 2ms/step - loss: 1.6392e-05 - accuracy: 1.0000 - val_loss: 3.2576e-05 - val_accuracy: 1.0000\n",
      "Epoch 7/16\n",
      "375/375 [==============================] - 1s 2ms/step - loss: 1.4438e-05 - accuracy: 1.0000 - val_loss: 3.4413e-05 - val_accuracy: 1.0000\n",
      "Epoch 8/16\n",
      "375/375 [==============================] - 1s 2ms/step - loss: 1.2790e-05 - accuracy: 1.0000 - val_loss: 3.4945e-05 - val_accuracy: 1.0000\n",
      "Epoch 9/16\n",
      "375/375 [==============================] - 1s 2ms/step - loss: 1.1168e-05 - accuracy: 1.0000 - val_loss: 3.7809e-05 - val_accuracy: 1.0000\n",
      "Epoch 10/16\n",
      "375/375 [==============================] - 1s 2ms/step - loss: 9.8599e-06 - accuracy: 1.0000 - val_loss: 3.5062e-05 - val_accuracy: 1.0000\n",
      "Epoch 11/16\n",
      "375/375 [==============================] - 1s 2ms/step - loss: 8.7887e-06 - accuracy: 1.0000 - val_loss: 3.8747e-05 - val_accuracy: 1.0000\n",
      "Epoch 12/16\n",
      "375/375 [==============================] - 1s 2ms/step - loss: 7.7576e-06 - accuracy: 1.0000 - val_loss: 3.8152e-05 - val_accuracy: 1.0000\n",
      "Epoch 13/16\n",
      "375/375 [==============================] - 1s 2ms/step - loss: 6.7224e-06 - accuracy: 1.0000 - val_loss: 5.0795e-05 - val_accuracy: 1.0000\n",
      "Epoch 14/16\n",
      "375/375 [==============================] - 1s 2ms/step - loss: 5.9334e-06 - accuracy: 1.0000 - val_loss: 4.2003e-05 - val_accuracy: 1.0000\n",
      "Epoch 15/16\n",
      "375/375 [==============================] - 1s 2ms/step - loss: 5.1075e-06 - accuracy: 1.0000 - val_loss: 6.0352e-05 - val_accuracy: 1.0000\n",
      "Epoch 16/16\n",
      "375/375 [==============================] - 1s 2ms/step - loss: 4.4795e-06 - accuracy: 1.0000 - val_loss: 6.0910e-05 - val_accuracy: 1.0000\n"
     ]
    },
    {
     "data": {
      "text/plain": [
       "<tensorflow.python.keras.callbacks.History at 0x25bf15b9c40>"
      ]
     },
     "execution_count": 17,
     "metadata": {},
     "output_type": "execute_result"
    }
   ],
   "source": [
    "network.fit(train_images,train_labels,epochs=16,batch_size=128,validation_split=0.2)"
   ]
  },
  {
   "cell_type": "code",
   "execution_count": 15,
   "id": "37d57437",
   "metadata": {},
   "outputs": [
    {
     "name": "stdout",
     "output_type": "stream",
     "text": [
      "Model: \"sequential\"\n",
      "_________________________________________________________________\n",
      "Layer (type)                 Output Shape              Param #   \n",
      "=================================================================\n",
      "dense (Dense)                (None, 512)               401920    \n",
      "_________________________________________________________________\n",
      "dense_1 (Dense)              (None, 10)                5130      \n",
      "=================================================================\n",
      "Total params: 407,050\n",
      "Trainable params: 407,050\n",
      "Non-trainable params: 0\n",
      "_________________________________________________________________\n"
     ]
    },
    {
     "data": {
      "image/png": "[encoded data removed]",
      "text/plain": [
       "<IPython.core.display.Image object>"
      ]
     },
     "execution_count": 15,
     "metadata": {},
     "output_type": "execute_result"
    }
   ],
   "source": [
    "from tensorflow.keras.utils import plot_model\n",
    "network.summary()\n",
    "\n",
    "plot_model(network, \n",
    "    show_shapes= True,\n",
    ")\n"
   ]
  },
  {
   "cell_type": "markdown",
   "id": "d43ea956",
   "metadata": {},
   "source": [
    "# 在testing set有98.5% acc"
   ]
  },
  {
   "cell_type": "code",
   "execution_count": 18,
   "id": "f23d684a",
   "metadata": {},
   "outputs": [
    {
     "name": "stdout",
     "output_type": "stream",
     "text": [
      "313/313 [==============================] - 0s 2ms/step - loss: 0.0913 - accuracy: 0.9848\n",
      "test_acc: 0.9847999811172485\n"
     ]
    }
   ],
   "source": [
    "test_loss , test_acc = network.evaluate(test_images,test_labels)\n",
    "print('test_acc:',test_acc)"
   ]
  },
  {
   "cell_type": "markdown",
   "id": "f46c5575",
   "metadata": {},
   "source": [
    "# 接下來為筆記"
   ]
  },
  {
   "cell_type": "markdown",
   "id": "51f3a6c1",
   "metadata": {
    "id": "EqcYNFbkZn7o"
   },
   "source": [
    "## 張量的類別"
   ]
  },
  {
   "cell_type": "code",
   "execution_count": 25,
   "id": "d66e903d",
   "metadata": {
    "id": "Rctm5NuOOJ2L"
   },
   "outputs": [],
   "source": [
    "import numpy as np"
   ]
  },
  {
   "cell_type": "markdown",
   "id": "64dbb107",
   "metadata": {
    "id": "7A8jv8zzK2Xq"
   },
   "source": [
    "### 純量 (0D張量)\n",
    "只包含一個數值的張量"
   ]
  },
  {
   "cell_type": "code",
   "execution_count": 26,
   "id": "cbda71a1",
   "metadata": {
    "colab": {
     "base_uri": "https://localhost:8080/"
    },
    "id": "BsvXCQr7LPIt",
    "outputId": "8a70176f-bbfa-4f96-fa88-8d1282700adb"
   },
   "outputs": [
    {
     "data": {
      "text/plain": [
       "array(12)"
      ]
     },
     "execution_count": 26,
     "metadata": {},
     "output_type": "execute_result"
    }
   ],
   "source": [
    "x = np.array(12)\n",
    "x"
   ]
  },
  {
   "cell_type": "code",
   "execution_count": 27,
   "id": "cac96bd5",
   "metadata": {
    "colab": {
     "base_uri": "https://localhost:8080/"
    },
    "id": "MrI8st9ULoii",
    "outputId": "1ea492c2-eb07-40a3-f029-ca1227638f56"
   },
   "outputs": [
    {
     "data": {
      "text/plain": [
       "0"
      ]
     },
     "execution_count": 27,
     "metadata": {},
     "output_type": "execute_result"
    }
   ],
   "source": [
    "x.ndim"
   ]
  },
  {
   "cell_type": "markdown",
   "id": "c9150a7e",
   "metadata": {
    "id": "Cb5hpyjBK77m"
   },
   "source": [
    "### 向量 (1D張量) vector\n",
    "由一組數值排列而成的陣列"
   ]
  },
  {
   "cell_type": "code",
   "execution_count": 28,
   "id": "410692f6",
   "metadata": {
    "colab": {
     "base_uri": "https://localhost:8080/"
    },
    "id": "vjaB8L4bLdcb",
    "outputId": "4e069098-7a53-4ad0-c7d8-4be1e63db281"
   },
   "outputs": [
    {
     "data": {
      "text/plain": [
       "array([12,  3,  6, 14,  7])"
      ]
     },
     "execution_count": 28,
     "metadata": {},
     "output_type": "execute_result"
    }
   ],
   "source": [
    "x = np.array([12,3,6,14,7])\n",
    "x"
   ]
  },
  {
   "cell_type": "code",
   "execution_count": 29,
   "id": "a5bd04e5",
   "metadata": {
    "colab": {
     "base_uri": "https://localhost:8080/"
    },
    "id": "cwyJlIvoL0AV",
    "outputId": "99f685e7-b82e-49f2-f2bb-22373166e72d"
   },
   "outputs": [
    {
     "data": {
      "text/plain": [
       "1"
      ]
     },
     "execution_count": 29,
     "metadata": {},
     "output_type": "execute_result"
    }
   ],
   "source": [
    "x.ndim"
   ]
  },
  {
   "cell_type": "markdown",
   "id": "1cdd5694",
   "metadata": {
    "id": "ME-kWE0qK8Cj"
   },
   "source": [
    "### 矩陣 (2D張量)\n",
    "一個矩陣"
   ]
  },
  {
   "cell_type": "code",
   "execution_count": 30,
   "id": "d3c136f6",
   "metadata": {
    "id": "OlcfYfTmLeq9"
   },
   "outputs": [],
   "source": [
    "x = np.array([[5,78,2,34,0],\n",
    "        [6,79,3,35,1],\n",
    "        [7,80,4,36,2]])"
   ]
  },
  {
   "cell_type": "code",
   "execution_count": 31,
   "id": "717fe36a",
   "metadata": {
    "colab": {
     "base_uri": "https://localhost:8080/"
    },
    "id": "a81ruHACL4Wf",
    "outputId": "2ab1e283-415f-479f-ac97-6f35bde5b2ef"
   },
   "outputs": [
    {
     "data": {
      "text/plain": [
       "2"
      ]
     },
     "execution_count": 31,
     "metadata": {},
     "output_type": "execute_result"
    }
   ],
   "source": [
    "x.ndim"
   ]
  },
  {
   "cell_type": "markdown",
   "id": "a523d225",
   "metadata": {
    "id": "DZvdsr3YK8IZ"
   },
   "source": [
    "### 高階張量 (3D張量與其上)\n",
    "將多個矩陣包裝在一個新陣列中"
   ]
  },
  {
   "cell_type": "code",
   "execution_count": 32,
   "id": "dd6a5d42",
   "metadata": {
    "id": "56SgJGZILfJb"
   },
   "outputs": [],
   "source": [
    "x = np.array([[[5,78,2,34,0],\n",
    "        [6,79,3,35,1],\n",
    "        [7,80,4,36,2]],\n",
    "        [[5,78,2,34,0],\n",
    "        [6,79,3,35,1],\n",
    "        [7,80,4,36,2]],\n",
    "        [[5,78,2,34,0],\n",
    "        [6,79,3,35,1],\n",
    "        [7,80,4,36,2]]])"
   ]
  },
  {
   "cell_type": "code",
   "execution_count": 33,
   "id": "ea5214ee",
   "metadata": {
    "colab": {
     "base_uri": "https://localhost:8080/"
    },
    "id": "JmtCrUPeL4q3",
    "outputId": "49339d6a-f46d-4828-b25d-45b80dba543e"
   },
   "outputs": [
    {
     "data": {
      "text/plain": [
       "3"
      ]
     },
     "execution_count": 33,
     "metadata": {},
     "output_type": "execute_result"
    }
   ],
   "source": [
    "x.ndim"
   ]
  },
  {
   "cell_type": "markdown",
   "id": "f8664297",
   "metadata": {
    "id": "X2VA2HPuPM7i"
   },
   "source": [
    "## 張量屬性\n",
    "* 軸的數量(階數)：ndim\n",
    "* 形狀：描述一個張量上每個軸有多少個維度\n",
    "* 資料型別(dtype)：張量所存放的型別\n",
    " * float32\n",
    " * unit8\n",
    " * float64\n",
    " * char:Numpy中不存在字串張量"
   ]
  },
  {
   "cell_type": "code",
   "execution_count": 35,
   "id": "4d9ae981",
   "metadata": {
    "id": "UdkVNEvhQLqD"
   },
   "outputs": [],
   "source": [
    "from tensorflow.keras.datasets import mnist\n",
    "\n",
    "(train_images,train_labels),(test_images,test_labels) = mnist.load_data() "
   ]
  },
  {
   "cell_type": "markdown",
   "id": "e6774661",
   "metadata": {
    "id": "hJsOjtFtQWL8"
   },
   "source": [
    "ndim屬性"
   ]
  },
  {
   "cell_type": "code",
   "execution_count": 36,
   "id": "93cd9b5e",
   "metadata": {
    "colab": {
     "base_uri": "https://localhost:8080/"
    },
    "id": "gdiGFIonQYaa",
    "outputId": "76ddae6d-d998-43de-de95-e2302502bdef"
   },
   "outputs": [
    {
     "name": "stdout",
     "output_type": "stream",
     "text": [
      "3\n"
     ]
    }
   ],
   "source": [
    "print(train_images.ndim)"
   ]
  },
  {
   "cell_type": "markdown",
   "id": "606c7f8c",
   "metadata": {
    "id": "j_7KxzzgQcVj"
   },
   "source": [
    "張量的形狀"
   ]
  },
  {
   "cell_type": "code",
   "execution_count": 37,
   "id": "f1af7460",
   "metadata": {
    "colab": {
     "base_uri": "https://localhost:8080/"
    },
    "id": "-szy5t_bQem6",
    "outputId": "5e9e89d4-ae1a-4328-c154-76876bf14025"
   },
   "outputs": [
    {
     "name": "stdout",
     "output_type": "stream",
     "text": [
      "(60000, 28, 28)\n"
     ]
    }
   ],
   "source": [
    "print(train_images.shape)"
   ]
  },
  {
   "cell_type": "markdown",
   "id": "d5cc0402",
   "metadata": {
    "id": "t7AwaGAQQkT6"
   },
   "source": [
    "dtype(資料型別)"
   ]
  },
  {
   "cell_type": "code",
   "execution_count": 38,
   "id": "6d49fc8b",
   "metadata": {
    "colab": {
     "base_uri": "https://localhost:8080/"
    },
    "id": "jV8xUy2jQnHC",
    "outputId": "edfc79e2-13e1-4003-dc19-e124f6303120"
   },
   "outputs": [
    {
     "name": "stdout",
     "output_type": "stream",
     "text": [
      "uint8\n"
     ]
    }
   ],
   "source": [
    "print(train_images.dtype)"
   ]
  },
  {
   "cell_type": "markdown",
   "id": "889086c6",
   "metadata": {
    "id": "Kg4h68KYRFHZ"
   },
   "source": [
    "train_images 是一個由8為元整數所組成的3D張量。  \n",
    "由 60000個 28×28的矩陣組成  \n",
    "每個矩陣是一個灰階圖像，像素值在0~255之間"
   ]
  },
  {
   "cell_type": "code",
   "execution_count": 39,
   "id": "f98dcbd1",
   "metadata": {
    "colab": {
     "base_uri": "https://localhost:8080/",
     "height": 265
    },
    "id": "zuxk_uSXRkSx",
    "outputId": "9a2a4c07-3c07-4cda-8a87-5eb134d12412"
   },
   "outputs": [
    {
     "data": {
      "image/png": "[encoded data removed]",
      "text/plain": [
       "<Figure size 432x288 with 1 Axes>"
      ]
     },
     "metadata": {
      "needs_background": "light"
     },
     "output_type": "display_data"
    }
   ],
   "source": [
    "digit = train_images[4]\n",
    "\n",
    "import matplotlib.pyplot as plt\n",
    "plt.imshow(digit,cmap=plt.cm.binary)\n",
    "plt.show()"
   ]
  },
  {
   "cell_type": "markdown",
   "id": "501307b7",
   "metadata": {
    "id": "tCt17DSKSGMM"
   },
   "source": [
    "## 張量切片 Tensor Slicing"
   ]
  },
  {
   "cell_type": "code",
   "execution_count": 40,
   "id": "ac87aebb",
   "metadata": {
    "colab": {
     "base_uri": "https://localhost:8080/"
    },
    "id": "qTIDHujYSPaS",
    "outputId": "3e33434b-85a7-4e5d-8755-6d8bb3ecbf1a"
   },
   "outputs": [
    {
     "name": "stdout",
     "output_type": "stream",
     "text": [
      "(90, 28, 28)\n"
     ]
    }
   ],
   "source": [
    "my_slice = train_images[10:100]\n",
    "print(my_slice.shape)"
   ]
  },
  {
   "cell_type": "code",
   "execution_count": 41,
   "id": "812e2731",
   "metadata": {
    "colab": {
     "base_uri": "https://localhost:8080/"
    },
    "id": "DhhfW2jCSZVr",
    "outputId": "51f2f98c-0bf5-4e15-a2ec-e98a1a556ef1"
   },
   "outputs": [
    {
     "name": "stdout",
     "output_type": "stream",
     "text": [
      "(90, 28, 28)\n"
     ]
    }
   ],
   "source": [
    "my_slice = train_images[10:100, : , : ]\n",
    "print(my_slice.shape)"
   ]
  },
  {
   "cell_type": "code",
   "execution_count": 42,
   "id": "34f690e8",
   "metadata": {
    "colab": {
     "base_uri": "https://localhost:8080/"
    },
    "id": "GqmLWOIAShc6",
    "outputId": "3fab3ef5-6a82-47c3-cbfc-7c9b1d675ac6"
   },
   "outputs": [
    {
     "name": "stdout",
     "output_type": "stream",
     "text": [
      "(90, 28, 28)\n"
     ]
    }
   ],
   "source": [
    "my_slice = train_images[10:100,0:28,0:28]\n",
    "print(my_slice.shape)"
   ]
  },
  {
   "cell_type": "markdown",
   "id": "357bc1ca",
   "metadata": {
    "id": "YsZboUFvSpQR"
   },
   "source": [
    "## 資料批次(batch)\n",
    "深度學習模型不會一次學習整個模型，而是將資料分成一小批一小批來學習。  \n",
    "這些批次向量被稱為批次軸或批次維度。"
   ]
  },
  {
   "cell_type": "markdown",
   "id": "3f71e5b2",
   "metadata": {
    "id": "NcIISK6vXBXa"
   },
   "source": [
    "# 2-3 張量運算"
   ]
  },
  {
   "cell_type": "markdown",
   "id": "eb4486af",
   "metadata": {
    "id": "6A6oPNqcYJf_"
   },
   "source": [
    "## 元素間的運算\n",
    "以relu運算為例"
   ]
  },
  {
   "cell_type": "markdown",
   "id": "944c6b35",
   "metadata": {
    "id": "lhOyTlfnY7SA"
   },
   "source": [
    "### 透過for迴圈運算"
   ]
  },
  {
   "cell_type": "code",
   "execution_count": 46,
   "id": "e20b2a9b",
   "metadata": {
    "id": "X0Bsp2NcZGZF"
   },
   "outputs": [],
   "source": [
    "def naive_relu(x):\n",
    "    assert len(x.shape) == 2 ,\" x 不是2D張量\"\n",
    "\n",
    "    x = x.copy()\n",
    "    for i in range(x.shape[0]):\n",
    "        for j in range(x.shape(1)):\n",
    "            x[i,j] = max(x[i,j],0)\n",
    "\n",
    "    return x"
   ]
  },
  {
   "cell_type": "code",
   "execution_count": 47,
   "id": "c1e5e7d6",
   "metadata": {
    "id": "Bx7J-IKHaM5B"
   },
   "outputs": [],
   "source": [
    "def naive_add(x,y):\n",
    "    assert len(x.shape) == 2\n",
    "    assert x.shape == y.shape\n",
    "\n",
    "    x = x.copy()\n",
    "    for i in range(x.shape[0]):\n",
    "        for j in range(x.shape(1)):\n",
    "            x[i,j] += y[i,j]\n",
    "\n",
    "    return x"
   ]
  },
  {
   "cell_type": "markdown",
   "id": "b7665b0d",
   "metadata": {
    "id": "GwaaFY0KY-Ns"
   },
   "source": [
    "### 向量化執行 (vectorized implementations)\n",
    "\n",
    "```python\n",
    "import numpy as np\n",
    "\n",
    "z = x + y\n",
    "z = x * y\n",
    "z = np.maximun(z,0.)\n",
    "```\n",
    "\n"
   ]
  },
  {
   "cell_type": "markdown",
   "id": "90c26925",
   "metadata": {
    "id": "4MPEMGYhcd8u"
   },
   "source": [
    "## 張量擴張(Broadcasting)\n",
    "使較小的張量進行擴張以匹配形狀較大的張量\n",
    "\n",
    "① 較小的向量會加入新的軸，以匹配較大的向量  \n",
    "② 較小的向量會在這些新的軸重複寫入元素，以匹配較大張量的shape"
   ]
  },
  {
   "cell_type": "markdown",
   "id": "10f8aef4",
   "metadata": {
    "id": "4Q-Eblh-gKuD"
   },
   "source": [
    "### 透過for迴圈運算"
   ]
  },
  {
   "cell_type": "code",
   "execution_count": 48,
   "id": "c184e32c",
   "metadata": {
    "id": "cIhweaavgKuZ"
   },
   "outputs": [],
   "source": [
    "def naive_add_matrix_and_vector(x,y):\n",
    "    assert len(x.shape) == 2 ,\" x 不是2D張量\"\n",
    "    assert len(y.shape) == 1 ,\" x 不是2D張量\"\n",
    "    assert x.shape[1] == y.shape[0]\n",
    "\n",
    "    x = x.copy()\n",
    "    for i in range(x.shape[0]):\n",
    "        for j in range(x.shape(1)):\n",
    "            x[i,j] += y[j]\n",
    "\n",
    "    return x"
   ]
  },
  {
   "cell_type": "markdown",
   "id": "3e54e45e",
   "metadata": {
    "id": "aouo8AJnhM0f"
   },
   "source": [
    "## 點積運算 (dot)"
   ]
  },
  {
   "cell_type": "code",
   "execution_count": 55,
   "id": "58152609",
   "metadata": {
    "id": "85xM54i0sGqn"
   },
   "outputs": [],
   "source": [
    "def naive_vector_dot(x,y):\n",
    "    assert len(x.shape) == 1\n",
    "    assert len(y.shape) == 1\n",
    "    assert x.shape[0] == y.shape[0]\n",
    "    z = 0.\n",
    "    for i in range(x,shape[0]):\n",
    "        z += x[i] * j[i]\n",
    "    return z\n",
    "# naive_vector_dot(t,t)"
   ]
  },
  {
   "cell_type": "markdown",
   "id": "69990650",
   "metadata": {
    "id": "232Y81wAuBd9"
   },
   "source": []
  },
  {
   "cell_type": "code",
   "execution_count": 58,
   "id": "52799039",
   "metadata": {
    "id": "J5l9wB0IuBlB"
   },
   "outputs": [],
   "source": [
    "import numpy as np\n",
    "\n",
    "def native_matrix_vector_dot(x,y):\n",
    "    assert len(x.shape) == 2\n",
    "    assert len(y.shape) == 1\n",
    "    assert x.shape[1] == y.shape[0]\n",
    "\n",
    "    z = np.zeros(z.shape[0])\n",
    "    for i in range(x.shape[0]):\n",
    "        for j in range(x.shape[1]):\n",
    "            z[i] += x[i,j] * y[j]\n",
    "  \n",
    "    return z"
   ]
  },
  {
   "cell_type": "code",
   "execution_count": 59,
   "id": "f77dc06d",
   "metadata": {
    "id": "YnrcZNydx4kM"
   },
   "outputs": [],
   "source": [
    "def native_matrix_vector_dot(x,y):\n",
    "    z = np.zeros(x.shape[0])\n",
    "    for i in range(x.shape[0]):\n",
    "        z[i] = native_vector_dot(x[i,:],y)\n",
    "    return z"
   ]
  },
  {
   "cell_type": "markdown",
   "id": "5e24b32b",
   "metadata": {
    "id": "cFG39IiZ9Az_"
   },
   "source": [
    "## 張量重塑 (reshaping)\n",
    "調整各軸的元素數"
   ]
  },
  {
   "cell_type": "code",
   "execution_count": 60,
   "id": "bf0d0cc9",
   "metadata": {
    "id": "zjj-dtWo9R5-"
   },
   "outputs": [
    {
     "name": "stdout",
     "output_type": "stream",
     "text": [
      "(3, 2)\n"
     ]
    }
   ],
   "source": [
    "x = np.array([[0.,1.],\n",
    "        [2.,3.],\n",
    "        [4.,5.]])\n",
    "\n",
    "print(x.shape)"
   ]
  },
  {
   "cell_type": "code",
   "execution_count": 61,
   "id": "000332fd",
   "metadata": {
    "id": "ZDCuREAD9j9n"
   },
   "outputs": [
    {
     "data": {
      "text/plain": [
       "array([[0.],\n",
       "       [1.],\n",
       "       [2.],\n",
       "       [3.],\n",
       "       [4.],\n",
       "       [5.]])"
      ]
     },
     "execution_count": 61,
     "metadata": {},
     "output_type": "execute_result"
    }
   ],
   "source": [
    "x = x.reshape((6,1))\n",
    "x"
   ]
  },
  {
   "cell_type": "code",
   "execution_count": 62,
   "id": "ee3204a5",
   "metadata": {
    "id": "RckFKQ4b9rJ9"
   },
   "outputs": [
    {
     "data": {
      "text/plain": [
       "array([[0., 1., 2.],\n",
       "       [3., 4., 5.]])"
      ]
     },
     "execution_count": 62,
     "metadata": {},
     "output_type": "execute_result"
    }
   ],
   "source": [
    "x = x.reshape((2,3))\n",
    "x"
   ]
  },
  {
   "cell_type": "markdown",
   "id": "dfc99b9c",
   "metadata": {
    "id": "DWLbJrFx90b-"
   },
   "source": [
    "### 矩陣轉置(transposition)\n",
    "使x[i,:] 變成 [:,i]"
   ]
  },
  {
   "cell_type": "code",
   "execution_count": 63,
   "id": "87ed0e62",
   "metadata": {
    "id": "XkNU3wQo9_Ge"
   },
   "outputs": [
    {
     "name": "stdout",
     "output_type": "stream",
     "text": [
      "(20, 300)\n"
     ]
    }
   ],
   "source": [
    "x = np.zeros((300,20))\n",
    "x = np.transpose(x)\n",
    "print(x.shape)"
   ]
  },
  {
   "cell_type": "markdown",
   "id": "0a59cbb4",
   "metadata": {
    "id": "_U5JY7RLD9Ly"
   },
   "source": [
    "# 2-4 以梯度為基礎的最佳化\n",
    "\n",
    "```\n",
    "output = relu(dot(W,input)+b)\n",
    "```\n",
    "權重(weights)/可訓練參數(trainable parameters):W、b → **屬性張量**  \n",
    "* W ：內核(kernel)\n",
    "* b ：偏值(bias)\n",
    "  \n",
    "**訓練循環**  \n",
    "① 取出一批訓練樣本x和對應的目標y  \n",
    "② 以x為輸入資料，開始執行神經網路(正向傳遞)已獲得預測值y_pred  \n",
    "③ 計算神經網路的批次量損失值(y與y_pred間的差距)  \n",
    "④ 更新神經網路的所有權重值，以稍微減少損失值  \n",
    "  \n",
    "![2-1](https://github.com/hank199599/deep_learning_keras_log/blob/main/pictures/2-1.png?raw=true)"
   ]
  },
  {
   "cell_type": "markdown",
   "id": "1a48e570",
   "metadata": {
    "id": "WVRxt3oiHoXO"
   },
   "source": [
    "## [隨機梯度下降](https://colab.research.google.com/github/hank199599/data_science_from_scratch_reading_log/blob/main/Chapter8.ipynb#scrollTo=8ftOmpRQ__rB&line=1&uniqifier=1)\n",
    "1. 函數f(x)在x點的斜率就是該函數的導函數f'(x)\n",
    "\n",
    "2. 函數f(W) 在W點的梯度就是該函數的張量導函數f'(W)   \n",
    "  \n",
    "![2-2](https://github.com/hank199599/deep_learning_keras_log/blob/main/pictures/2-2.png?raw=true)"
   ]
  },
  {
   "cell_type": "markdown",
   "id": "43e7830e",
   "metadata": {
    "id": "MaYc8PC1IaCD"
   },
   "source": [
    "## 小批次隨機梯度下降(mini-batch stochastic gradient descent,mini-batch SGD)\n",
    "① 取出一批次量的訓練樣本x和對應的目標y  \n",
    "② 以x為輸入資料，開始執行神經網路(正向傳遞)已獲得預測值y_pred  \n",
    "③ 計算神經網路的批次量損失值(y與y_pred間的差距)  \n",
    "④ 計算損失值對神經網路權重的梯度(反向傳播)  \n",
    "⑤ 將參數稍微往梯度的反方向移動，如 W -= step*gradient，降低一點批次的損失  "
   ]
  },
  {
   "cell_type": "markdown",
   "id": "0999cc44",
   "metadata": {
    "id": "ffZnldXwgfW6"
   },
   "source": [
    "## 連串的導數：反向傳播 Backpropagation\n",
    "自最終的損失值開始，從最後面層像前面反向運作  \n",
    "透過連鎖法則(train rule)來計算每個神經網路參數\n",
    "使用具符號微分(symbolic differentiation)運算能力的框架來建構神經網路"
   ]
  },
  {
   "cell_type": "code",
   "execution_count": null,
   "id": "b7f8e863",
   "metadata": {},
   "outputs": [],
   "source": []
  },
  {
   "cell_type": "code",
   "execution_count": null,
   "id": "4d412371",
   "metadata": {},
   "outputs": [],
   "source": []
  },
  {
   "cell_type": "code",
   "execution_count": null,
   "id": "3d501cbd",
   "metadata": {},
   "outputs": [],
   "source": []
  },
  {
   "cell_type": "code",
   "execution_count": null,
   "id": "4f688f53",
   "metadata": {},
   "outputs": [],
   "source": []
  },
  {
   "cell_type": "code",
   "execution_count": null,
   "id": "c1cdc86c",
   "metadata": {},
   "outputs": [],
   "source": []
  }
 ],
 "metadata": {
  "kernelspec": {
   "display_name": "Python 3 (ipykernel)",
   "language": "python",
   "name": "python3"
  },
  "language_info": {
   "codemirror_mode": {
    "name": "ipython",
    "version": 3
   },
   "file_extension": ".py",
   "mimetype": "text/x-python",
   "name": "python",
   "nbconvert_exporter": "python",
   "pygments_lexer": "ipython3",
   "version": "3.8.13"
  }
 },
 "nbformat": 4,
 "nbformat_minor": 5
}
