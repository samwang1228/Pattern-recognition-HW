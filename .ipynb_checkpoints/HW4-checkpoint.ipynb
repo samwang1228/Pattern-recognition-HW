{
 "cells": [
  {
   "cell_type": "markdown",
   "id": "7959d405",
   "metadata": {},
   "source": [
    "# 4-1 核心元件\n",
    "![3-1](https://github.com/hank199599/deep_learning_keras_log/blob/main/pictures/3-1.png?raw=true)  \n",
    "* 層(layers)：組成一個神經網路模型\n",
    "* 輸入資料(input data) 與 目標(target)：用來訓練及檢測一個神經網路\n",
    "* 損失函數(loss functions)：取得學習的回饋信號\n",
    "* 優化器(optimizer)：決定學習進行的方式"
   ]
  },
  {
   "cell_type": "markdown",
   "id": "a8fcb22f",
   "metadata": {
    "id": "N9Gz7uWYmAGd"
   },
   "source": [
    "## 層(layers)\n",
    "|向量資料|儲存的張量|使用的層|\n",
    "|---|---|---|\n",
    "|1D|2D|densely-connected layer 密集連接層\n",
    "|2D|3D|recurrent layer 循環層\n",
    "|3D|4D|Conv2D 2D卷積層  \n",
    "  \n",
    "須包含一層batch 維度，因此在儲存時的維度較訓練資料多一維"
   ]
  },
  {
   "cell_type": "markdown",
   "id": "2df2bed4",
   "metadata": {
    "id": "w1YCOrvPrlT9"
   },
   "source": [
    "## 模型\n",
    "神經網路拓樸定義了一個**假設空間(hypothesis space，只在該神經網路拓樸下權重參數所有可能的組態)**"
   ]
  },
  {
   "cell_type": "markdown",
   "id": "ba82d5f8",
   "metadata": {
    "id": "f5olH7E8vq69"
   },
   "source": [
    "## 損失函數 (loss function)\n",
    "* 二元分類問題：二元交叉熵(binary crossentropy)\n",
    "* 多類別分類問題：分類交叉熵(categorical crossentropy)\n",
    "* 迴歸問題：均方差(meansquared error)\n",
    "* 序列學習問題：連結時序問題(connectionist temporal classfication)\n"
   ]
  },
  {
   "cell_type": "markdown",
   "id": "d86eeae2",
   "metadata": {},
   "source": [
    "## GPU綁定\n",
    "* cuda 11.3\n",
    "* cudnn 8.1\n",
    "* tensorflow 2.8 "
   ]
  },
  {
   "cell_type": "code",
   "execution_count": 1,
   "id": "d17edf94",
   "metadata": {},
   "outputs": [
    {
     "name": "stdout",
     "output_type": "stream",
     "text": [
      "device: 0, name: NVIDIA GeForce RTX 3060 Laptop GPU, pci bus id: 0000:01:00.0, compute capability: 8.6\n",
      "[PhysicalDevice(name='/physical_device:GPU:0', device_type='GPU')]\n"
     ]
    }
   ],
   "source": [
    "from tensorflow.python.client import device_lib\n",
    "import tensorflow as tf\n",
    "local_device_protos = device_lib.list_local_devices()\n",
    "for x in local_device_protos:\n",
    "    if x.device_type=='GPU':\n",
    "        print(x.physical_device_desc)\n",
    "print(tf.config.list_physical_devices('GPU'))"
   ]
  },
  {
   "cell_type": "markdown",
   "id": "c551c2e5",
   "metadata": {
    "id": "G9q3tyDG4VhI"
   },
   "source": [
    "# 二元分類：電影評論為正評或負評\n",
    "[IMDb,Internet Movie Database](https://www.imdb.com)"
   ]
  },
  {
   "cell_type": "markdown",
   "id": "9e4b9e8d",
   "metadata": {
    "id": "EKvah1THxKCl"
   },
   "source": [
    "載入IMBD資料集"
   ]
  },
  {
   "cell_type": "code",
   "execution_count": 2,
   "id": "03e67d3a",
   "metadata": {
    "colab": {
     "base_uri": "https://localhost:8080/"
    },
    "id": "LqBXkSRpxPTE",
    "outputId": "4f183c3a-b3b4-476a-c457-d2741401b3be"
   },
   "outputs": [
    {
     "name": "stderr",
     "output_type": "stream",
     "text": [
      "<__array_function__ internals>:180: VisibleDeprecationWarning: Creating an ndarray from ragged nested sequences (which is a list-or-tuple of lists-or-tuples-or ndarrays with different lengths or shapes) is deprecated. If you meant to do this, you must specify 'dtype=object' when creating the ndarray.\n",
      "D:\\anaconda\\envs\\mediapipe\\lib\\site-packages\\tensorflow\\python\\keras\\datasets\\imdb.py:159: VisibleDeprecationWarning: Creating an ndarray from ragged nested sequences (which is a list-or-tuple of lists-or-tuples-or ndarrays with different lengths or shapes) is deprecated. If you meant to do this, you must specify 'dtype=object' when creating the ndarray.\n",
      "  x_train, y_train = np.array(xs[:idx]), np.array(labels[:idx])\n",
      "D:\\anaconda\\envs\\mediapipe\\lib\\site-packages\\tensorflow\\python\\keras\\datasets\\imdb.py:160: VisibleDeprecationWarning: Creating an ndarray from ragged nested sequences (which is a list-or-tuple of lists-or-tuples-or ndarrays with different lengths or shapes) is deprecated. If you meant to do this, you must specify 'dtype=object' when creating the ndarray.\n",
      "  x_test, y_test = np.array(xs[idx:]), np.array(labels[idx:])\n"
     ]
    }
   ],
   "source": [
    "from tensorflow.keras.datasets import imdb\n",
    "\n",
    "(train_data,train_labels),(test_data,test_labels) = imdb.load_data(num_words=10000)"
   ]
  },
  {
   "cell_type": "markdown",
   "id": "44c0d988",
   "metadata": {
    "id": "98KrY9xEx7P8"
   },
   "source": [
    "### num_words\n",
    "表示讀取資料時，只允許「單字對應數字的字典」中編號0~9999的單字載入"
   ]
  },
  {
   "cell_type": "code",
   "execution_count": 3,
   "id": "6cbb024b",
   "metadata": {
    "colab": {
     "base_uri": "https://localhost:8080/"
    },
    "id": "ErqTkxRjyJqL",
    "outputId": "cb651c47-4e57-47b1-efd5-ee88ff268352"
   },
   "outputs": [
    {
     "data": {
      "text/plain": [
       "9999"
      ]
     },
     "execution_count": 3,
     "metadata": {},
     "output_type": "execute_result"
    }
   ],
   "source": [
    "max([max(sequence) for sequence in train_data])"
   ]
  },
  {
   "cell_type": "markdown",
   "id": "246ffddf",
   "metadata": {
    "id": "li9eb6nD0izW"
   },
   "source": [
    "將數字還原成文字"
   ]
  },
  {
   "cell_type": "code",
   "execution_count": 4,
   "id": "89f964d1",
   "metadata": {
    "id": "5bvfUJdc0mxd"
   },
   "outputs": [],
   "source": [
    "word_index = imdb.get_word_index() #取得單字對應數字的字典\n",
    "reverse_word_index = dict(\n",
    "    [(value,key) for (key,value) in word_index.items()] #反轉為數字對應單字的字典\n",
    ")"
   ]
  },
  {
   "cell_type": "code",
   "execution_count": 12,
   "id": "6691c6c7",
   "metadata": {},
   "outputs": [
    {
     "name": "stdout",
     "output_type": "stream",
     "text": [
      "34701-->fawn\n",
      "52006-->tsukino\n",
      "52007-->nunnery\n",
      "16816-->sonja\n",
      "63951-->vani\n",
      "1408-->woods\n",
      "16115-->spiders\n",
      "2345-->hanging\n",
      "2289-->woody\n",
      "52008-->trawling\n",
      "52009-->hold's\n",
      "11307-->comically\n",
      "40830-->localized\n",
      "30568-->disobeying\n",
      "52010-->'royale\n",
      "40831-->harpo's\n",
      "52011-->canet\n",
      "19313-->aileen\n",
      "52012-->acurately\n",
      "52013-->diplomat's\n",
      "25242-->rickman\n"
     ]
    }
   ],
   "source": [
    "# word_index\n",
    "counter=0\n",
    "for key in reverse_word_index:\n",
    "    if counter<=20:\n",
    "        print(f'{key}-->{reverse_word_index[key]}')\n",
    "    counter+=1"
   ]
  },
  {
   "cell_type": "code",
   "execution_count": 5,
   "id": "6281f3ab",
   "metadata": {
    "colab": {
     "base_uri": "https://localhost:8080/",
     "height": 153
    },
    "id": "iBjZYAKf2Lon",
    "outputId": "2c1bdc78-2099-4382-e7f5-ea9ab44d3729"
   },
   "outputs": [
    {
     "data": {
      "text/plain": [
       "\"? this film was just brilliant casting location scenery story direction everyone's really suited the part they played and you could just imagine being there robert ? is an amazing actor and now the same being director ? father came from the same scottish island as myself so i loved the fact there was a real connection with this film the witty remarks throughout the film were great it was just brilliant so much that i bought the film as soon as it was released for ? and would recommend it to everyone to watch and the fly fishing was amazing really cried at the end it was so sad and you know what they say if you cry at a film it must have been good and this definitely was also ? to the two little boy's that played the ? of norman and paul they were just brilliant children are often left out of the ? list i think because the stars that play them all grown up are such a big profile for the whole film but these children are amazing and should be praised for what they have done don't you think the whole story was so lovely because it was true and was someone's life after all that was shared with us all\""
      ]
     },
     "execution_count": 5,
     "metadata": {},
     "output_type": "execute_result"
    }
   ],
   "source": [
    "decord_review = ' '.join([reverse_word_index.get(i-3,'?') for i in train_data[0]])\n",
    "decord_review"
   ]
  },
  {
   "cell_type": "markdown",
   "id": "838a1bec",
   "metadata": {
    "id": "uEdtOxAY2XUe"
   },
   "source": [
    "## 準備資料\n",
    "方法一：\n",
    "1. 填補資料中每個子list的內容，使它們具有相同的長度\n",
    "2. 在將整筆資料轉換成shape (樣本數、填補後的樣本長度)\n",
    "3. 輸入到崁入層(Embedding layer)\n",
    "  \n",
    "方法二： \n",
    "1. 對資料中每個子list做[One-shot編碼](https://colab.research.google.com/github/hank199599/data_science_from_scratch_reading_log/blob/main/Chapter19.ipynb#scrollTo=QzUQbu-DtfQa)，將其轉換成由0與1組成的向量\n",
    "\n",
    "```python\n",
    "def one_hot_encode(i:int,num_labels:int=10)->List[float]:\n",
    "  return [1.0 if j==i else 0.0 for j in range(num_labels)]\n",
    "```\n",
    "2. 輸入到可處理浮點數的密集層(Dense layer)\n"
   ]
  },
  {
   "cell_type": "code",
   "execution_count": 6,
   "id": "eda435c3",
   "metadata": {
    "id": "ufOW1gsK48Cg"
   },
   "outputs": [],
   "source": [
    "import numpy as np\n",
    "\n",
    "def vectorize_sequences(sequences,dimension=10000):\n",
    "    results = np.zeros((len(sequences),dimension))\n",
    "    for i,sequences in enumerate(sequences):\n",
    "        results[i,sequences] = 1.\n",
    "    return results"
   ]
  },
  {
   "cell_type": "markdown",
   "id": "2d3c0e00",
   "metadata": {
    "id": "WYSWI3_E7L9H"
   },
   "source": [
    "### 將訓練資料轉換為維度為10000的向量"
   ]
  },
  {
   "cell_type": "code",
   "execution_count": 7,
   "id": "94333ae3",
   "metadata": {
    "id": "tGgO-vbb5jyv"
   },
   "outputs": [
    {
     "data": {
      "text/plain": [
       "array([[0., 1., 1., ..., 0., 0., 0.],\n",
       "       [0., 1., 1., ..., 0., 0., 0.],\n",
       "       [0., 1., 1., ..., 0., 0., 0.],\n",
       "       ...,\n",
       "       [0., 1., 1., ..., 0., 0., 0.],\n",
       "       [0., 1., 1., ..., 0., 0., 0.],\n",
       "       [0., 1., 1., ..., 0., 0., 0.]])"
      ]
     },
     "execution_count": 7,
     "metadata": {},
     "output_type": "execute_result"
    }
   ],
   "source": [
    "x_train = vectorize_sequences(train_data) # 將訓練資料向量化\n",
    "x_train"
   ]
  },
  {
   "cell_type": "code",
   "execution_count": 8,
   "id": "379128ee",
   "metadata": {
    "id": "ESnI3SLH5yhO"
   },
   "outputs": [
    {
     "data": {
      "text/plain": [
       "(array([0., 1., 1., ..., 0., 0., 0.]),\n",
       " [1,\n",
       "  591,\n",
       "  202,\n",
       "  14,\n",
       "  31,\n",
       "  6,\n",
       "  717,\n",
       "  10,\n",
       "  10,\n",
       "  2,\n",
       "  2,\n",
       "  5,\n",
       "  4,\n",
       "  360,\n",
       "  7,\n",
       "  4,\n",
       "  177,\n",
       "  5760,\n",
       "  394,\n",
       "  354,\n",
       "  4,\n",
       "  123,\n",
       "  9,\n",
       "  1035,\n",
       "  1035,\n",
       "  1035,\n",
       "  10,\n",
       "  10,\n",
       "  13,\n",
       "  92,\n",
       "  124,\n",
       "  89,\n",
       "  488,\n",
       "  7944,\n",
       "  100,\n",
       "  28,\n",
       "  1668,\n",
       "  14,\n",
       "  31,\n",
       "  23,\n",
       "  27,\n",
       "  7479,\n",
       "  29,\n",
       "  220,\n",
       "  468,\n",
       "  8,\n",
       "  124,\n",
       "  14,\n",
       "  286,\n",
       "  170,\n",
       "  8,\n",
       "  157,\n",
       "  46,\n",
       "  5,\n",
       "  27,\n",
       "  239,\n",
       "  16,\n",
       "  179,\n",
       "  2,\n",
       "  38,\n",
       "  32,\n",
       "  25,\n",
       "  7944,\n",
       "  451,\n",
       "  202,\n",
       "  14,\n",
       "  6,\n",
       "  717],\n",
       " (10000,),\n",
       " 68)"
      ]
     },
     "execution_count": 8,
     "metadata": {},
     "output_type": "execute_result"
    }
   ],
   "source": [
    "x_test = vectorize_sequences(test_data)\n",
    "x_test[0],test_data[0],x_test[0].shape,len(test_data[0]) "
   ]
  },
  {
   "cell_type": "markdown",
   "id": "8830030b",
   "metadata": {
    "id": "-6X_steF55zg"
   },
   "source": []
  },
  {
   "cell_type": "code",
   "execution_count": 9,
   "id": "e2dd0c80",
   "metadata": {
    "colab": {
     "base_uri": "https://localhost:8080/"
    },
    "id": "CqokQILv55rP",
    "outputId": "c050b7e2-d001-49c1-9cfa-32c75ceaf4c1"
   },
   "outputs": [
    {
     "data": {
      "text/plain": [
       "array([0., 1., 1., ..., 0., 0., 0.])"
      ]
     },
     "execution_count": 9,
     "metadata": {},
     "output_type": "execute_result"
    }
   ],
   "source": [
    "x_train[0]"
   ]
  },
  {
   "cell_type": "markdown",
   "id": "68cbd9d9",
   "metadata": {
    "id": "QJ0DmbzT7YTW"
   },
   "source": [
    "### 將標籤資料向量化"
   ]
  },
  {
   "cell_type": "code",
   "execution_count": 10,
   "id": "66ca8b4b",
   "metadata": {
    "id": "Hmyo2C9s7cwe"
   },
   "outputs": [
    {
     "data": {
      "text/plain": [
       "array([1., 0., 0., ..., 0., 1., 0.], dtype=float32)"
      ]
     },
     "execution_count": 10,
     "metadata": {},
     "output_type": "execute_result"
    }
   ],
   "source": [
    "y_train = np.array(train_labels).astype('float32')\n",
    "y_train"
   ]
  },
  {
   "cell_type": "code",
   "execution_count": 11,
   "id": "af0f27ea",
   "metadata": {
    "id": "hsLJM5E77mWL"
   },
   "outputs": [],
   "source": [
    "y_test = np.array(test_labels).astype('float32')"
   ]
  },
  {
   "cell_type": "markdown",
   "id": "4433c88a",
   "metadata": {
    "id": "kYzzxHZt7tMB"
   },
   "source": [
    "## 建立神經網路"
   ]
  },
  {
   "cell_type": "markdown",
   "id": "94a8deec",
   "metadata": {
    "id": "NLipmDmd77Qw"
   },
   "source": [
    "### 建立密集層Dense堆疊結構，需確認的關鍵：\n",
    "* 需要使用多少層?\n",
    "* 每一層要有多少個神經元?"
   ]
  },
  {
   "cell_type": "code",
   "execution_count": 13,
   "id": "9a6aa04c",
   "metadata": {
    "id": "19hK5I7O8V9O"
   },
   "outputs": [],
   "source": [
    "from tensorflow.keras import models\n",
    "from tensorflow.keras import layers\n",
    "from tensorflow.keras.layers import Dropout\n",
    "model = models.Sequential()\n",
    "model.add(Dropout(0.2, input_shape=(10000,)))\n",
    "model.add(layers.Dense(16,activation='relu',input_shape=(10000,)))\n",
    "model.add(layers.Dense(16,activation='relu'))\n",
    "model.add(layers.Dense(1,activation='sigmoid'))\n"
   ]
  },
  {
   "cell_type": "markdown",
   "id": "3081a1fa",
   "metadata": {
    "id": "KbyFY3zmBFZe"
   },
   "source": [
    "編譯模型"
   ]
  },
  {
   "cell_type": "code",
   "execution_count": 14,
   "id": "bb2ed70a",
   "metadata": {
    "id": "pcz1lJsuA3dS"
   },
   "outputs": [],
   "source": [
    "model.compile(optimizer='adam',\n",
    "       loss='binary_crossentropy', # 指定損失函數，並進行compile\n",
    "       metrics=['accuracy'])"
   ]
  },
  {
   "cell_type": "markdown",
   "id": "9aff5f6e",
   "metadata": {
    "id": "WMHebFurBMGX"
   },
   "source": [
    "調整優化器"
   ]
  },
  {
   "cell_type": "code",
   "execution_count": 15,
   "id": "39da1fcb",
   "metadata": {
    "id": "qA49Af0MBOMW"
   },
   "outputs": [],
   "source": [
    "from tensorflow.keras import optimizers\n",
    "\n",
    "model.compile(optimizer=optimizers.Adam(lr=0.001), #調整優化器參數lr的值\n",
    "       loss='binary_crossentropy',\n",
    "       metrics=['accuracy'])"
   ]
  },
  {
   "cell_type": "markdown",
   "id": "2ae68369",
   "metadata": {
    "id": "8s6jwHPZC3KI"
   },
   "source": [
    "使用自行定義的損失函數與metrics函數"
   ]
  },
  {
   "cell_type": "code",
   "execution_count": 16,
   "id": "6c722251",
   "metadata": {
    "id": "wFmROI7NC98A"
   },
   "outputs": [],
   "source": [
    "from tensorflow.keras import losses\n",
    "from tensorflow.keras import metrics\n",
    "\n",
    "model.compile(optimizer=optimizers.Adam(lr=0.001), #調整優化器參數lr的值\n",
    "       loss=losses.binary_crossentropy, # 自行指定其他的損失函數與metrics函數\n",
    "       metrics=[metrics.binary_accuracy])"
   ]
  },
  {
   "cell_type": "markdown",
   "id": "b9dd91a4",
   "metadata": {
    "id": "ooTWmOGsDS4f"
   },
   "source": [
    "## 設定驗證資料集  \n",
    "從原始訓練資料中分離出10000樣本來建立驗證資料集"
   ]
  },
  {
   "cell_type": "code",
   "execution_count": 17,
   "id": "cd8a1ff0",
   "metadata": {
    "id": "YXHIyPuGDgjW"
   },
   "outputs": [],
   "source": [
    "x_val = x_train[:10000]\n",
    "partial_x_train = x_train[10000:]\n",
    "\n",
    "y_val = y_train[:10000]\n",
    "partial_y_train = y_train[10000:]"
   ]
  },
  {
   "cell_type": "markdown",
   "id": "7dd12336",
   "metadata": {
    "id": "OXhXOnuXFqZR"
   },
   "source": [
    "## 訓練模型"
   ]
  },
  {
   "cell_type": "code",
   "execution_count": 18,
   "id": "7d968391",
   "metadata": {
    "colab": {
     "base_uri": "https://localhost:8080/"
    },
    "id": "Yc9-iCOQFxT4",
    "outputId": "587ecb1e-c8e0-4b4b-d116-b1885b1e44ac"
   },
   "outputs": [
    {
     "name": "stdout",
     "output_type": "stream",
     "text": [
      "Epoch 1/20\n",
      "30/30 [==============================] - 6s 124ms/step - loss: 0.6214 - acc: 0.6700 - val_loss: 0.3901 - val_acc: 0.8575\n",
      "Epoch 2/20\n",
      "30/30 [==============================] - 1s 21ms/step - loss: 0.3304 - acc: 0.8853 - val_loss: 0.2921 - val_acc: 0.8878\n",
      "Epoch 3/20\n",
      "30/30 [==============================] - 1s 20ms/step - loss: 0.2259 - acc: 0.9181 - val_loss: 0.2758 - val_acc: 0.8919\n",
      "Epoch 4/20\n",
      "30/30 [==============================] - 1s 22ms/step - loss: 0.1879 - acc: 0.9332 - val_loss: 0.2891 - val_acc: 0.8845\n",
      "Epoch 5/20\n",
      "30/30 [==============================] - 1s 20ms/step - loss: 0.1617 - acc: 0.9392 - val_loss: 0.2899 - val_acc: 0.8854\n",
      "Epoch 6/20\n",
      "30/30 [==============================] - 1s 18ms/step - loss: 0.1397 - acc: 0.9494 - val_loss: 0.3023 - val_acc: 0.8826\n",
      "Epoch 7/20\n",
      "30/30 [==============================] - 1s 18ms/step - loss: 0.1245 - acc: 0.9551 - val_loss: 0.3152 - val_acc: 0.8828\n",
      "Epoch 8/20\n",
      "30/30 [==============================] - 1s 19ms/step - loss: 0.1223 - acc: 0.9549 - val_loss: 0.3303 - val_acc: 0.8804\n",
      "Epoch 9/20\n",
      "30/30 [==============================] - 1s 20ms/step - loss: 0.1063 - acc: 0.9616 - val_loss: 0.3478 - val_acc: 0.8771\n",
      "Epoch 10/20\n",
      "30/30 [==============================] - 1s 23ms/step - loss: 0.1047 - acc: 0.9607 - val_loss: 0.3621 - val_acc: 0.8791\n",
      "Epoch 11/20\n",
      "30/30 [==============================] - 1s 24ms/step - loss: 0.0971 - acc: 0.9630 - val_loss: 0.3708 - val_acc: 0.8781\n",
      "Epoch 12/20\n",
      "30/30 [==============================] - 1s 22ms/step - loss: 0.1026 - acc: 0.9582 - val_loss: 0.3820 - val_acc: 0.8775\n",
      "Epoch 13/20\n",
      "30/30 [==============================] - 1s 20ms/step - loss: 0.0969 - acc: 0.9661 - val_loss: 0.4042 - val_acc: 0.8734\n",
      "Epoch 14/20\n",
      "30/30 [==============================] - 1s 21ms/step - loss: 0.0853 - acc: 0.9679 - val_loss: 0.4115 - val_acc: 0.8737\n",
      "Epoch 15/20\n",
      "30/30 [==============================] - 1s 20ms/step - loss: 0.0880 - acc: 0.9677 - val_loss: 0.4252 - val_acc: 0.8710\n",
      "Epoch 16/20\n",
      "30/30 [==============================] - 1s 21ms/step - loss: 0.0860 - acc: 0.9672 - val_loss: 0.4401 - val_acc: 0.8657\n",
      "Epoch 17/20\n",
      "30/30 [==============================] - 1s 22ms/step - loss: 0.0813 - acc: 0.9692 - val_loss: 0.4468 - val_acc: 0.8680\n",
      "Epoch 18/20\n",
      "30/30 [==============================] - 1s 21ms/step - loss: 0.0834 - acc: 0.9680 - val_loss: 0.4530 - val_acc: 0.8705\n",
      "Epoch 19/20\n",
      "30/30 [==============================] - 1s 21ms/step - loss: 0.0821 - acc: 0.9683 - val_loss: 0.4660 - val_acc: 0.8678\n",
      "Epoch 20/20\n",
      "30/30 [==============================] - 1s 19ms/step - loss: 0.0819 - acc: 0.9686 - val_loss: 0.4818 - val_acc: 0.8682\n"
     ]
    }
   ],
   "source": [
    "model.compile(optimizer='adam', #調整優化器參數lr的值\n",
    "       loss='binary_crossentropy', # 自行指定其他的損失函數與metrics函數\n",
    "       metrics=['acc'])\n",
    "\n",
    "history = model.fit(partial_x_train,\n",
    "           partial_y_train,\n",
    "           epochs=20,\n",
    "           batch_size=512,\n",
    "           validation_data=(x_val,y_val))\n",
    "\n",
    "# model.fit()會回傳一個history的物件\n"
   ]
  },
  {
   "cell_type": "code",
   "execution_count": 19,
   "id": "7105305c",
   "metadata": {
    "colab": {
     "base_uri": "https://localhost:8080/"
    },
    "id": "qZ1tFLEKLlkD",
    "outputId": "0c750958-bef4-4199-8591-39b5de3527aa"
   },
   "outputs": [
    {
     "data": {
      "text/plain": [
       "dict_keys(['loss', 'acc', 'val_loss', 'val_acc'])"
      ]
     },
     "execution_count": 19,
     "metadata": {},
     "output_type": "execute_result"
    }
   ],
   "source": [
    "history_dict = history.history\n",
    "history_dict.keys()"
   ]
  },
  {
   "cell_type": "markdown",
   "id": "0bd7e7c4",
   "metadata": {
    "id": "3mHAZ8r3L2pp"
   },
   "source": [
    "繪製訓練與驗證的損失函數"
   ]
  },
  {
   "cell_type": "code",
   "execution_count": 20,
   "id": "87e81b87",
   "metadata": {
    "colab": {
     "base_uri": "https://localhost:8080/",
     "height": 295
    },
    "id": "LBTezclZL1lp",
    "outputId": "cb84e446-c863-4a80-c4a7-650706a0fe04"
   },
   "outputs": [
    {
     "data": {
      "image/png": "[encoded data removed]",
      "text/plain": [
       "<Figure size 432x288 with 1 Axes>"
      ]
     },
     "metadata": {
      "needs_background": "light"
     },
     "output_type": "display_data"
    }
   ],
   "source": [
    "import matplotlib.pyplot as plt\n",
    "\n",
    "history_dict = history.history\n",
    "loss_values = history_dict['loss']\n",
    "val_loss_values = history_dict['val_loss']\n",
    "\n",
    "epochs = range(1,len(loss_values)+1)\n",
    "\n",
    "plt.plot(epochs,loss_values,'bo',label='Training loss')\n",
    "plt.plot(epochs,val_loss_values,'b',label='Validation loss')\n",
    "plt.title('Training and validation loss')\n",
    "plt.xlabel('Epochs')\n",
    "plt.ylabel('Loss')\n",
    "plt.legend()\n",
    "\n",
    "plt.show()"
   ]
  },
  {
   "cell_type": "markdown",
   "id": "ab925783",
   "metadata": {
    "id": "JYqkA-NtNJgC"
   },
   "source": [
    "繪製訓練與驗證的準確度"
   ]
  },
  {
   "cell_type": "code",
   "execution_count": 21,
   "id": "c3ab593f",
   "metadata": {
    "colab": {
     "base_uri": "https://localhost:8080/",
     "height": 295
    },
    "id": "SVN-XK16NJgb",
    "outputId": "f30ccf82-92ac-4242-b14f-1b7e373ca1bd"
   },
   "outputs": [
    {
     "data": {
      "image/png": "[encoded data removed]",
      "text/plain": [
       "<Figure size 432x288 with 1 Axes>"
      ]
     },
     "metadata": {
      "needs_background": "light"
     },
     "output_type": "display_data"
    }
   ],
   "source": [
    "import matplotlib.pyplot as plt\n",
    "\n",
    "plt.clf()\n",
    "acc = history_dict['acc']\n",
    "val_acc = history_dict['val_acc']\n",
    "\n",
    "plt.plot(epochs,acc,'bo',label='Training acc')\n",
    "plt.plot(epochs,val_acc,'b',label='Validation acc')\n",
    "plt.title('Training and validation accuracy')\n",
    "plt.xlabel('Epochs')\n",
    "plt.ylabel('Accuracy')\n",
    "plt.legend()\n",
    "\n",
    "plt.show()"
   ]
  },
  {
   "cell_type": "markdown",
   "id": "a20928ef",
   "metadata": {
    "id": "eR6mMCfuOjbs"
   },
   "source": [
    "驗證準確度在第四個周期後，準確度就下降  \n",
    "發生**過度適配(Overfitting)**"
   ]
  },
  {
   "cell_type": "code",
   "execution_count": 22,
   "id": "d9c18b73",
   "metadata": {},
   "outputs": [
    {
     "name": "stdout",
     "output_type": "stream",
     "text": [
      "782/782 [==============================] - 2s 2ms/step - loss: 0.5226 - acc: 0.8536\n"
     ]
    },
    {
     "data": {
      "text/plain": [
       "[0.5226362347602844, 0.8535599708557129]"
      ]
     },
     "execution_count": 22,
     "metadata": {},
     "output_type": "execute_result"
    }
   ],
   "source": [
    "model.evaluate(x_test,y_test)"
   ]
  },
  {
   "cell_type": "markdown",
   "id": "a3af1037",
   "metadata": {
    "id": "lrqFWkGkO2g_"
   },
   "source": [
    "## 重新建立訓練模型\n",
    "為了防止過度適配，將訓練週期限制在第四個周期後即結束訓練"
   ]
  },
  {
   "cell_type": "code",
   "execution_count": 23,
   "id": "47bfa486",
   "metadata": {
    "colab": {
     "base_uri": "https://localhost:8080/"
    },
    "id": "kyBrn5wPO0_p",
    "outputId": "70a6435a-5465-4dc3-f93a-eb3947091a6f"
   },
   "outputs": [
    {
     "name": "stdout",
     "output_type": "stream",
     "text": [
      "Epoch 1/4\n",
      "49/49 [==============================] - 1s 12ms/step - loss: 0.5498 - accuracy: 0.7432\n",
      "Epoch 2/4\n",
      "49/49 [==============================] - 1s 12ms/step - loss: 0.2931 - accuracy: 0.8930\n",
      "Epoch 3/4\n",
      "49/49 [==============================] - 1s 11ms/step - loss: 0.2384 - accuracy: 0.9092\n",
      "Epoch 4/4\n",
      "49/49 [==============================] - 1s 11ms/step - loss: 0.2084 - accuracy: 0.9203\n",
      "782/782 [==============================] - 2s 2ms/step - loss: 0.2831 - accuracy: 0.8874\n"
     ]
    }
   ],
   "source": [
    "from tensorflow.keras.layers import Dropout\n",
    "model = models.Sequential()\n",
    "model.add(Dropout(0.2, input_shape=(10000,)))\n",
    "model.add(layers.Dense(16,activation='relu',input_shape=(10000,)))\n",
    "model.add(layers.Dense(16,activation='relu'))\n",
    "model.add(layers.Dense(1,activation='sigmoid'))\n",
    "\n",
    "model.compile(optimizer='rmsprop', #調整優化器參數lr的值\n",
    "       loss='binary_crossentropy', # 自行指定其他的損失函數與metrics函數\n",
    "       metrics=['accuracy'])\n",
    "\n",
    "model.fit(x_train,y_train,epochs=4,batch_size=512)\n",
    "results=model.evaluate(x_test,y_test)"
   ]
  },
  {
   "cell_type": "code",
   "execution_count": 24,
   "id": "ae7ff4b6",
   "metadata": {
    "colab": {
     "base_uri": "https://localhost:8080/"
    },
    "id": "ysutO-b1Psz8",
    "outputId": "fc4af346-a151-48c8-b789-2b07a022ff84"
   },
   "outputs": [
    {
     "data": {
      "text/plain": [
       "[0.2830534279346466, 0.8873599767684937]"
      ]
     },
     "execution_count": 24,
     "metadata": {},
     "output_type": "execute_result"
    }
   ],
   "source": [
    "results"
   ]
  },
  {
   "cell_type": "markdown",
   "id": "ef9269d4",
   "metadata": {
    "id": "clF3sYgBQalR"
   },
   "source": [
    "將準確度提升到88%準確度"
   ]
  },
  {
   "cell_type": "markdown",
   "id": "395e5f6f",
   "metadata": {
    "id": "gihTGhT7QooD"
   },
   "source": [
    "## 使用神經網路對新資料進行預測"
   ]
  },
  {
   "cell_type": "code",
   "execution_count": 25,
   "id": "fd4ecf69",
   "metadata": {
    "colab": {
     "base_uri": "https://localhost:8080/"
    },
    "id": "Al2fb27xQ0Zj",
    "outputId": "6b4b1a73-edc1-4d09-96da-f8cee0128aa9"
   },
   "outputs": [
    {
     "data": {
      "text/plain": [
       "array([[0.26211566],\n",
       "       [0.9996147 ],\n",
       "       [0.9665518 ],\n",
       "       ...,\n",
       "       [0.16024373],\n",
       "       [0.08001458],\n",
       "       [0.4813676 ]], dtype=float32)"
      ]
     },
     "execution_count": 25,
     "metadata": {},
     "output_type": "execute_result"
    }
   ],
   "source": [
    "model.predict(x_test)"
   ]
  },
  {
   "cell_type": "markdown",
   "id": "4af08380",
   "metadata": {
    "id": "b36pPqiBRbhB"
   },
   "source": [
    "## 延伸實作"
   ]
  },
  {
   "cell_type": "markdown",
   "id": "870d6e9b",
   "metadata": {
    "id": "G7MfCUgoRdqq"
   },
   "source": [
    "### 1. 使用一個隱藏層"
   ]
  },
  {
   "cell_type": "code",
   "execution_count": 26,
   "id": "b8f67145",
   "metadata": {
    "colab": {
     "base_uri": "https://localhost:8080/"
    },
    "id": "8yqHAKCoR_yb",
    "outputId": "bd5e5d3e-6f70-4558-ab7e-858b2f80e5fa"
   },
   "outputs": [
    {
     "name": "stdout",
     "output_type": "stream",
     "text": [
      "Epoch 1/4\n",
      "49/49 [==============================] - 3s 13ms/step - loss: 0.5149 - accuracy: 0.7624\n",
      "Epoch 2/4\n",
      "49/49 [==============================] - 0s 10ms/step - loss: 0.2703 - accuracy: 0.9106\n",
      "Epoch 3/4\n",
      "49/49 [==============================] - 0s 10ms/step - loss: 0.2084 - accuracy: 0.9312\n",
      "Epoch 4/4\n",
      "49/49 [==============================] - 0s 9ms/step - loss: 0.1715 - accuracy: 0.9450\n",
      "782/782 [==============================] - 1s 2ms/step - loss: 0.2835 - accuracy: 0.8859\n"
     ]
    }
   ],
   "source": [
    "model = models.Sequential()\n",
    "model.add(layers.Dense(16,activation='relu',input_shape=(10000,)))\n",
    "model.add(layers.Dense(1,activation='sigmoid'))\n",
    "\n",
    "model.compile(optimizer='rmsprop', #調整優化器參數lr的值\n",
    "       loss='binary_crossentropy', # 自行指定其他的損失函數與metrics函數\n",
    "       metrics=['accuracy'])\n",
    "\n",
    "model.fit(x_train,y_train,epochs=4,batch_size=512)\n",
    "results=model.evaluate(x_test,y_test)"
   ]
  },
  {
   "cell_type": "markdown",
   "id": "0fc5158a",
   "metadata": {
    "id": "UR0TMnutRiE1"
   },
   "source": [
    "### 2. 使用三個隱藏層"
   ]
  },
  {
   "cell_type": "code",
   "execution_count": 27,
   "id": "8a07b990",
   "metadata": {
    "colab": {
     "base_uri": "https://localhost:8080/"
    },
    "id": "Omw_eUuGSAQi",
    "outputId": "81c70b2b-fb7b-4353-9a73-727af481ba60"
   },
   "outputs": [
    {
     "name": "stdout",
     "output_type": "stream",
     "text": [
      "Epoch 1/4\n",
      "49/49 [==============================] - 1s 14ms/step - loss: 0.5677 - accuracy: 0.7154\n",
      "Epoch 2/4\n",
      "49/49 [==============================] - 0s 10ms/step - loss: 0.2596 - accuracy: 0.9089\n",
      "Epoch 3/4\n",
      "49/49 [==============================] - 0s 10ms/step - loss: 0.1950 - accuracy: 0.9293\n",
      "Epoch 4/4\n",
      "49/49 [==============================] - 0s 10ms/step - loss: 0.1514 - accuracy: 0.9456\n",
      "782/782 [==============================] - 1s 2ms/step - loss: 0.3588 - accuracy: 0.8652\n"
     ]
    }
   ],
   "source": [
    "model = models.Sequential()\n",
    "model.add(layers.Dense(16,activation='relu',input_shape=(10000,)))\n",
    "model.add(layers.Dense(16,activation='relu'))\n",
    "model.add(layers.Dense(16,activation='relu'))\n",
    "model.add(layers.Dense(1,activation='sigmoid'))\n",
    "\n",
    "model.compile(optimizer='rmsprop', #調整優化器參數lr的值\n",
    "       loss='binary_crossentropy', # 自行指定其他的損失函數與metrics函數\n",
    "       metrics=['accuracy'])\n",
    "\n",
    "model.fit(x_train,y_train,epochs=4,batch_size=512)\n",
    "results=model.evaluate(x_test,y_test)"
   ]
  },
  {
   "cell_type": "markdown",
   "id": "babb127a",
   "metadata": {
    "id": "V6cn-I2WRi7n"
   },
   "source": [
    "### 3. 使用32個單元"
   ]
  },
  {
   "cell_type": "code",
   "execution_count": 28,
   "id": "e366f0c4",
   "metadata": {
    "colab": {
     "base_uri": "https://localhost:8080/"
    },
    "id": "5t6ZsY8tSBw5",
    "outputId": "dc53a833-812c-44c1-8784-c21502633e11"
   },
   "outputs": [
    {
     "name": "stdout",
     "output_type": "stream",
     "text": [
      "Epoch 1/4\n",
      "49/49 [==============================] - 1s 14ms/step - loss: 0.5511 - accuracy: 0.6919\n",
      "Epoch 2/4\n",
      "49/49 [==============================] - 1s 10ms/step - loss: 0.2419 - accuracy: 0.9093\n",
      "Epoch 3/4\n",
      "49/49 [==============================] - 0s 10ms/step - loss: 0.1723 - accuracy: 0.9366\n",
      "Epoch 4/4\n",
      "49/49 [==============================] - 0s 9ms/step - loss: 0.1297 - accuracy: 0.9500\n",
      "782/782 [==============================] - 1s 2ms/step - loss: 0.3702 - accuracy: 0.8689\n"
     ]
    }
   ],
   "source": [
    "model = models.Sequential()\n",
    "model.add(layers.Dense(128,activation='relu',input_shape=(10000,)))\n",
    "model.add(layers.Dense(64,activation='relu'))\n",
    "model.add(layers.Dense(32,activation='relu'))\n",
    "model.add(layers.Dense(1,activation='sigmoid'))\n",
    "\n",
    "model.compile(optimizer='rmsprop', #調整優化器參數lr的值\n",
    "       loss='binary_crossentropy', # 自行指定其他的損失函數與metrics函數\n",
    "       metrics=['accuracy'])\n",
    "\n",
    "model.fit(x_train,y_train,epochs=4,batch_size=512)\n",
    "results=model.evaluate(x_test,y_test)"
   ]
  },
  {
   "cell_type": "markdown",
   "id": "507d59d3",
   "metadata": {
    "id": "NRh23NwzRjDJ"
   },
   "source": [
    "### 4. 使用64個單元"
   ]
  },
  {
   "cell_type": "code",
   "execution_count": 29,
   "id": "b1a968fd",
   "metadata": {
    "colab": {
     "base_uri": "https://localhost:8080/"
    },
    "id": "nHmNlUMvSBee",
    "outputId": "a4612115-3fc5-4174-90ec-decda63bdf9c"
   },
   "outputs": [
    {
     "name": "stdout",
     "output_type": "stream",
     "text": [
      "Epoch 1/4\n",
      "49/49 [==============================] - 1s 15ms/step - loss: 0.5278 - accuracy: 0.7240\n",
      "Epoch 2/4\n",
      "49/49 [==============================] - 0s 10ms/step - loss: 0.2431 - accuracy: 0.9092\n",
      "Epoch 3/4\n",
      "49/49 [==============================] - 0s 10ms/step - loss: 0.1775 - accuracy: 0.9359\n",
      "Epoch 4/4\n",
      "49/49 [==============================] - 0s 9ms/step - loss: 0.1443 - accuracy: 0.9485\n",
      "782/782 [==============================] - 2s 2ms/step - loss: 0.3813 - accuracy: 0.8645\n"
     ]
    }
   ],
   "source": [
    "model = models.Sequential()\n",
    "model.add(layers.Dense(64,activation='relu',input_shape=(10000,)))\n",
    "model.add(layers.Dense(64,activation='relu'))\n",
    "model.add(layers.Dense(1,activation='sigmoid'))\n",
    "\n",
    "model.compile(optimizer='rmsprop', #調整優化器參數lr的值\n",
    "       loss='binary_crossentropy', # 自行指定其他的損失函數與metrics函數\n",
    "       metrics=['accuracy'])\n",
    "\n",
    "model.fit(x_train,y_train,epochs=4,batch_size=512)\n",
    "results=model.evaluate(x_test,y_test)"
   ]
  },
  {
   "cell_type": "markdown",
   "id": "e442717d",
   "metadata": {
    "id": "1snTRfbKRw4a"
   },
   "source": [
    "### 5. 使用mse損失函數"
   ]
  },
  {
   "cell_type": "code",
   "execution_count": 30,
   "id": "3b8e2f8f",
   "metadata": {
    "colab": {
     "base_uri": "https://localhost:8080/"
    },
    "id": "3mntUv7hSBOF",
    "outputId": "8fb4dec1-9b75-400d-a8d8-7ab5c5269936"
   },
   "outputs": [
    {
     "name": "stdout",
     "output_type": "stream",
     "text": [
      "Epoch 1/4\n",
      "49/49 [==============================] - 1s 14ms/step - loss: 0.1917 - accuracy: 0.7413\n",
      "Epoch 2/4\n",
      "49/49 [==============================] - 1s 11ms/step - loss: 0.0877 - accuracy: 0.9085\n",
      "Epoch 3/4\n",
      "49/49 [==============================] - 1s 11ms/step - loss: 0.0626 - accuracy: 0.9294\n",
      "Epoch 4/4\n",
      "49/49 [==============================] - 0s 10ms/step - loss: 0.0502 - accuracy: 0.9433\n",
      "782/782 [==============================] - 1s 1ms/step - loss: 0.0856 - accuracy: 0.8852\n"
     ]
    }
   ],
   "source": [
    "model = models.Sequential()\n",
    "model.add(layers.Dense(16,activation='relu',input_shape=(10000,)))\n",
    "model.add(layers.Dense(16,activation='relu'))\n",
    "model.add(layers.Dense(1,activation='sigmoid'))\n",
    "\n",
    "model.compile(optimizer='rmsprop', #調整優化器參數lr的值\n",
    "       loss='mse', # 自行指定其他的損失函數與metrics函數\n",
    "       metrics=['accuracy'])\n",
    "\n",
    "model.fit(x_train,y_train,epochs=4,batch_size=512)\n",
    "results=model.evaluate(x_test,y_test)"
   ]
  },
  {
   "cell_type": "markdown",
   "id": "2a4a773a",
   "metadata": {
    "id": "VMAbeBqmR2JK"
   },
   "source": [
    "### 6. 使用tanh啟動函數"
   ]
  },
  {
   "cell_type": "code",
   "execution_count": 31,
   "id": "dbcac339",
   "metadata": {
    "colab": {
     "base_uri": "https://localhost:8080/"
    },
    "id": "Y_DQPFGiSA7e",
    "outputId": "9d3851da-b10d-4665-ce81-2036bd60d925"
   },
   "outputs": [
    {
     "name": "stdout",
     "output_type": "stream",
     "text": [
      "Epoch 1/4\n",
      "49/49 [==============================] - 1s 14ms/step - loss: 0.5289 - accuracy: 0.7455\n",
      "Epoch 2/4\n",
      "49/49 [==============================] - 0s 10ms/step - loss: 0.2549 - accuracy: 0.9115\n",
      "Epoch 3/4\n",
      "49/49 [==============================] - 0s 10ms/step - loss: 0.1803 - accuracy: 0.9351\n",
      "Epoch 4/4\n",
      "49/49 [==============================] - 0s 9ms/step - loss: 0.1409 - accuracy: 0.9517\n",
      "782/782 [==============================] - 1s 2ms/step - loss: 0.3164 - accuracy: 0.8796\n"
     ]
    }
   ],
   "source": [
    "model = models.Sequential()\n",
    "model.add(layers.Dense(16,activation='tanh',input_shape=(10000,)))\n",
    "model.add(layers.Dense(16,activation='tanh'))\n",
    "model.add(layers.Dense(1,activation='sigmoid'))\n",
    "\n",
    "model.compile(optimizer='rmsprop', #調整優化器參數lr的值\n",
    "       loss='binary_crossentropy', # 自行指定其他的損失函數與metrics函數\n",
    "       metrics=['accuracy'])\n",
    "\n",
    "model.fit(x_train,y_train,epochs=4,batch_size=512)\n",
    "results=model.evaluate(x_test,y_test)"
   ]
  },
  {
   "cell_type": "markdown",
   "id": "f39e14cd",
   "metadata": {
    "id": "EFV_yHJM4g-P"
   },
   "source": [
    "# 多元分類：數位新聞專欄\n",
    "建構神經網路，將路透社的新聞專欄分成46個完全不同的主題  \n",
    "**單標籤多類別分類(signal-label,multiclass classfication)**"
   ]
  },
  {
   "cell_type": "markdown",
   "id": "b71b70a9",
   "metadata": {
    "id": "zvmpDhYjVJYK"
   },
   "source": [
    "載入路透社資料集"
   ]
  },
  {
   "cell_type": "code",
   "execution_count": 32,
   "id": "390eb6a7",
   "metadata": {
    "colab": {
     "base_uri": "https://localhost:8080/"
    },
    "id": "24VEloE2VN3Q",
    "outputId": "8bc95f99-3350-4837-c540-24ea5a746168"
   },
   "outputs": [
    {
     "name": "stdout",
     "output_type": "stream",
     "text": [
      "Downloading data from https://storage.googleapis.com/tensorflow/tf-keras-datasets/reuters.npz\n",
      "2113536/2110848 [==============================] - 1s 0us/step\n"
     ]
    },
    {
     "name": "stderr",
     "output_type": "stream",
     "text": [
      "d:\\anaconda\\envs\\mediapipe\\lib\\site-packages\\tensorflow\\python\\keras\\datasets\\reuters.py:148: VisibleDeprecationWarning: Creating an ndarray from ragged nested sequences (which is a list-or-tuple of lists-or-tuples-or ndarrays with different lengths or shapes) is deprecated. If you meant to do this, you must specify 'dtype=object' when creating the ndarray.\n",
      "  x_train, y_train = np.array(xs[:idx]), np.array(labels[:idx])\n",
      "d:\\anaconda\\envs\\mediapipe\\lib\\site-packages\\tensorflow\\python\\keras\\datasets\\reuters.py:149: VisibleDeprecationWarning: Creating an ndarray from ragged nested sequences (which is a list-or-tuple of lists-or-tuples-or ndarrays with different lengths or shapes) is deprecated. If you meant to do this, you must specify 'dtype=object' when creating the ndarray.\n",
      "  x_test, y_test = np.array(xs[idx:]), np.array(labels[idx:])\n"
     ]
    }
   ],
   "source": [
    "from tensorflow.keras.datasets import reuters\n",
    "\n",
    "(train_data,train_labels),(test_data,test_labels) = reuters.load_data(num_words=10000)"
   ]
  },
  {
   "cell_type": "code",
   "execution_count": 33,
   "id": "d0ec96a0",
   "metadata": {
    "colab": {
     "base_uri": "https://localhost:8080/"
    },
    "id": "uYkfd96cVsnL",
    "outputId": "ed17e115-5b8c-46a0-b3c0-eecfedda74f9"
   },
   "outputs": [
    {
     "data": {
      "text/plain": [
       "8982"
      ]
     },
     "execution_count": 33,
     "metadata": {},
     "output_type": "execute_result"
    }
   ],
   "source": [
    "len(train_data)"
   ]
  },
  {
   "cell_type": "code",
   "execution_count": 34,
   "id": "52a295fd",
   "metadata": {
    "colab": {
     "base_uri": "https://localhost:8080/"
    },
    "id": "DNLHEL31Vu8r",
    "outputId": "27845c8f-5d81-4fd6-b2b5-8b13f4e86ddc"
   },
   "outputs": [
    {
     "data": {
      "text/plain": [
       "2246"
      ]
     },
     "execution_count": 34,
     "metadata": {},
     "output_type": "execute_result"
    }
   ],
   "source": [
    "len(test_data)"
   ]
  },
  {
   "cell_type": "code",
   "execution_count": 35,
   "id": "e18ad6a5",
   "metadata": {
    "colab": {
     "base_uri": "https://localhost:8080/"
    },
    "id": "0bI3yK4NVzvr",
    "outputId": "4300805d-cfb0-4f5f-8990-808be96c329a"
   },
   "outputs": [
    {
     "data": {
      "text/plain": [
       "[1,\n",
       " 245,\n",
       " 273,\n",
       " 207,\n",
       " 156,\n",
       " 53,\n",
       " 74,\n",
       " 160,\n",
       " 26,\n",
       " 14,\n",
       " 46,\n",
       " 296,\n",
       " 26,\n",
       " 39,\n",
       " 74,\n",
       " 2979,\n",
       " 3554,\n",
       " 14,\n",
       " 46,\n",
       " 4689,\n",
       " 4329,\n",
       " 86,\n",
       " 61,\n",
       " 3499,\n",
       " 4795,\n",
       " 14,\n",
       " 61,\n",
       " 451,\n",
       " 4329,\n",
       " 17,\n",
       " 12]"
      ]
     },
     "execution_count": 35,
     "metadata": {},
     "output_type": "execute_result"
    }
   ],
   "source": [
    "train_data[10]"
   ]
  },
  {
   "cell_type": "markdown",
   "id": "597da968",
   "metadata": {
    "id": "9zoZi86rXH3p"
   },
   "source": [
    "將數字還原成文字"
   ]
  },
  {
   "cell_type": "code",
   "execution_count": 36,
   "id": "842a1cfb",
   "metadata": {
    "id": "7BxDRAbUXH3w"
   },
   "outputs": [
    {
     "name": "stdout",
     "output_type": "stream",
     "text": [
      "Downloading data from https://storage.googleapis.com/tensorflow/tf-keras-datasets/reuters_word_index.json\n",
      "557056/550378 [==============================] - 0s 0us/step\n"
     ]
    }
   ],
   "source": [
    "word_index = reuters.get_word_index() #取得單字對應數字的字典\n",
    "reverse_word_index = dict(\n",
    "    [(value,key) for (key,value) in word_index.items()] #反轉為數字對應單字的字典\n",
    ")"
   ]
  },
  {
   "cell_type": "code",
   "execution_count": 37,
   "id": "c622b11c",
   "metadata": {
    "colab": {
     "base_uri": "https://localhost:8080/",
     "height": 85
    },
    "id": "ZvHy6ZT9XH3y",
    "outputId": "eed84967-26c7-49af-db51-d08acb1444d3"
   },
   "outputs": [
    {
     "data": {
      "text/plain": [
       "'? ? ? said as a result of its december acquisition of space co it expects earnings per share in 1987 of 1 15 to 1 30 dlrs per share up from 70 cts in 1986 the company said pretax net should rise to nine to 10 mln dlrs from six mln dlrs in 1986 and rental operation revenues to 19 to 22 mln dlrs from 12 5 mln dlrs it said cash flow per share this year should be 2 50 to three dlrs reuter 3'"
      ]
     },
     "execution_count": 37,
     "metadata": {},
     "output_type": "execute_result"
    }
   ],
   "source": [
    "decord_newseire = ' '.join([reverse_word_index.get(i-3,'?') for i in train_data[0]])\n",
    "decord_newseire"
   ]
  },
  {
   "cell_type": "code",
   "execution_count": 38,
   "id": "a748a2dc",
   "metadata": {
    "colab": {
     "base_uri": "https://localhost:8080/"
    },
    "id": "AA6hGL3-XUzV",
    "outputId": "6fd4fa27-ddd2-42af-b7b0-6726a19c8698"
   },
   "outputs": [
    {
     "data": {
      "text/plain": [
       "3"
      ]
     },
     "execution_count": 38,
     "metadata": {},
     "output_type": "execute_result"
    }
   ],
   "source": [
    "train_labels[10] #第10筆訓練資料的標籤為第3類"
   ]
  },
  {
   "cell_type": "markdown",
   "id": "8f6edd5e",
   "metadata": {
    "id": "WdwNfYXRXfps"
   },
   "source": [
    "## 準備資料"
   ]
  },
  {
   "cell_type": "code",
   "execution_count": 39,
   "id": "3a2e4ce1",
   "metadata": {
    "id": "ccqP2VrDXizz"
   },
   "outputs": [],
   "source": [
    "import numpy as np\n",
    "\n",
    "def vectorize_sequences(sequences,dimension=10000):\n",
    "  results=np.zeros((len(sequences),dimension))\n",
    "  for i,sequence in enumerate(sequences):\n",
    "    results[i,sequence]=1.\n",
    "  return results"
   ]
  },
  {
   "cell_type": "markdown",
   "id": "24fd2af2",
   "metadata": {
    "id": "T68HIFbuYFHI"
   },
   "source": [
    "### 將訓練資料轉換為維度為10000的向量"
   ]
  },
  {
   "cell_type": "code",
   "execution_count": 40,
   "id": "8b3cd509",
   "metadata": {
    "id": "wUwQxgNiYFHg"
   },
   "outputs": [],
   "source": [
    "x_train = vectorize_sequences(train_data) # 將訓練資料向量化"
   ]
  },
  {
   "cell_type": "code",
   "execution_count": 41,
   "id": "54cdda00",
   "metadata": {
    "id": "Z-viCDgMYFHh"
   },
   "outputs": [],
   "source": [
    "x_test = vectorize_sequences(test_data)"
   ]
  },
  {
   "cell_type": "markdown",
   "id": "f55e4ec9",
   "metadata": {
    "id": "SPyR6fQ_Xh5G"
   },
   "source": [
    "## 對向量進行one-hot編碼"
   ]
  },
  {
   "cell_type": "code",
   "execution_count": 42,
   "id": "76862471",
   "metadata": {
    "id": "Ti_cuud1YhjV"
   },
   "outputs": [],
   "source": [
    "from tensorflow.keras.utils import to_categorical\n",
    "\n",
    "one_hot_train_labels = to_categorical(train_labels)\n",
    "one_hot_test_labels = to_categorical(test_labels)"
   ]
  },
  {
   "cell_type": "markdown",
   "id": "b5f96f39",
   "metadata": {
    "id": "ibrTo5v9bejN"
   },
   "source": [
    "## 建立神經網路\n",
    "輸出空間的維度會大很多"
   ]
  },
  {
   "cell_type": "code",
   "execution_count": 44,
   "id": "7b58f5c5",
   "metadata": {
    "id": "MDxAjRs3bsrj"
   },
   "outputs": [],
   "source": [
    "from tensorflow.keras import models\n",
    "from tensorflow.keras import layers\n",
    "\n",
    "model = models.Sequential()\n",
    "model.add(layers.Dense(64,activation='relu',input_shape=(10000,)))\n",
    "model.add(layers.Dense(64,activation='relu'))\n",
    "model.add(layers.Dense(46,activation='softmax'))"
   ]
  },
  {
   "cell_type": "markdown",
   "id": "0291d6f0",
   "metadata": {
    "id": "5yUGQPS-c3hO"
   },
   "source": [
    "### 編譯模型"
   ]
  },
  {
   "cell_type": "code",
   "execution_count": 45,
   "id": "48dedc41",
   "metadata": {
    "id": "Een9CKjec8ws"
   },
   "outputs": [],
   "source": [
    "model.compile(\n",
    "  optimizer='rmsprop',\n",
    "  loss='categorical_crossentropy',\n",
    "  metrics=['accuracy']\n",
    ")"
   ]
  },
  {
   "cell_type": "markdown",
   "id": "cb4327ff",
   "metadata": {
    "id": "CQnGeQqAdMLc"
   },
   "source": [
    "## 驗證"
   ]
  },
  {
   "cell_type": "code",
   "execution_count": 46,
   "id": "494ef357",
   "metadata": {
    "id": "Jx_uMyFfdOZA"
   },
   "outputs": [],
   "source": [
    "x_val = x_train[:1000]\n",
    "partial_x_train = x_train[1000:]\n",
    "\n",
    "y_val = one_hot_train_labels[:1000]\n",
    "partial_y_train = one_hot_train_labels[1000:]"
   ]
  },
  {
   "cell_type": "markdown",
   "id": "be23547b",
   "metadata": {
    "id": "ZVYnkB5ydsPu"
   },
   "source": [
    "進行訓練神經網路20個週期"
   ]
  },
  {
   "cell_type": "code",
   "execution_count": 47,
   "id": "980967ea",
   "metadata": {
    "colab": {
     "base_uri": "https://localhost:8080/"
    },
    "id": "maXoB6MFdwKN",
    "outputId": "d2465356-33f6-4b9d-91b3-b82949bf7f17"
   },
   "outputs": [
    {
     "name": "stdout",
     "output_type": "stream",
     "text": [
      "Epoch 1/20\n",
      "16/16 [==============================] - 2s 51ms/step - loss: 3.1206 - accuracy: 0.4226 - val_loss: 1.7260 - val_accuracy: 0.6460\n",
      "Epoch 2/20\n",
      "16/16 [==============================] - 0s 16ms/step - loss: 1.5048 - accuracy: 0.6971 - val_loss: 1.3143 - val_accuracy: 0.7180\n",
      "Epoch 3/20\n",
      "16/16 [==============================] - 0s 15ms/step - loss: 1.1194 - accuracy: 0.7592 - val_loss: 1.1738 - val_accuracy: 0.7400\n",
      "Epoch 4/20\n",
      "16/16 [==============================] - 0s 14ms/step - loss: 0.8757 - accuracy: 0.8120 - val_loss: 1.0527 - val_accuracy: 0.7850\n",
      "Epoch 5/20\n",
      "16/16 [==============================] - 0s 14ms/step - loss: 0.6879 - accuracy: 0.8582 - val_loss: 0.9839 - val_accuracy: 0.7960\n",
      "Epoch 6/20\n",
      "16/16 [==============================] - 0s 14ms/step - loss: 0.5682 - accuracy: 0.8816 - val_loss: 0.9475 - val_accuracy: 0.8010\n",
      "Epoch 7/20\n",
      "16/16 [==============================] - 0s 14ms/step - loss: 0.4416 - accuracy: 0.9128 - val_loss: 0.9305 - val_accuracy: 0.8030\n",
      "Epoch 8/20\n",
      "16/16 [==============================] - 0s 14ms/step - loss: 0.3477 - accuracy: 0.9282 - val_loss: 0.9060 - val_accuracy: 0.8160\n",
      "Epoch 9/20\n",
      "16/16 [==============================] - 0s 14ms/step - loss: 0.2879 - accuracy: 0.9413 - val_loss: 0.9084 - val_accuracy: 0.8160\n",
      "Epoch 10/20\n",
      "16/16 [==============================] - 0s 14ms/step - loss: 0.2494 - accuracy: 0.9476 - val_loss: 0.9052 - val_accuracy: 0.8180\n",
      "Epoch 11/20\n",
      "16/16 [==============================] - 0s 14ms/step - loss: 0.1990 - accuracy: 0.9521 - val_loss: 0.9229 - val_accuracy: 0.8120\n",
      "Epoch 12/20\n",
      "16/16 [==============================] - 0s 15ms/step - loss: 0.1852 - accuracy: 0.9531 - val_loss: 0.9446 - val_accuracy: 0.8140\n",
      "Epoch 13/20\n",
      "16/16 [==============================] - 0s 15ms/step - loss: 0.1594 - accuracy: 0.9579 - val_loss: 0.9730 - val_accuracy: 0.8070\n",
      "Epoch 14/20\n",
      "16/16 [==============================] - 0s 15ms/step - loss: 0.1588 - accuracy: 0.9538 - val_loss: 0.9771 - val_accuracy: 0.8070\n",
      "Epoch 15/20\n",
      "16/16 [==============================] - 0s 15ms/step - loss: 0.1323 - accuracy: 0.9575 - val_loss: 1.0291 - val_accuracy: 0.8030\n",
      "Epoch 16/20\n",
      "16/16 [==============================] - 0s 14ms/step - loss: 0.1301 - accuracy: 0.9560 - val_loss: 0.9943 - val_accuracy: 0.8080\n",
      "Epoch 17/20\n",
      "16/16 [==============================] - 0s 15ms/step - loss: 0.1191 - accuracy: 0.9616 - val_loss: 1.0048 - val_accuracy: 0.8140\n",
      "Epoch 18/20\n",
      "16/16 [==============================] - 0s 15ms/step - loss: 0.1187 - accuracy: 0.9606 - val_loss: 1.0693 - val_accuracy: 0.7990\n",
      "Epoch 19/20\n",
      "16/16 [==============================] - 0s 18ms/step - loss: 0.1072 - accuracy: 0.9611 - val_loss: 1.1230 - val_accuracy: 0.7910\n",
      "Epoch 20/20\n",
      "16/16 [==============================] - 0s 12ms/step - loss: 0.1068 - accuracy: 0.9591 - val_loss: 1.1025 - val_accuracy: 0.8020\n"
     ]
    }
   ],
   "source": [
    "history = model.fit(\n",
    "    partial_x_train,\n",
    "    partial_y_train,\n",
    "    epochs=20,\n",
    "    batch_size=512,\n",
    "    validation_data=(x_val,y_val))"
   ]
  },
  {
   "cell_type": "markdown",
   "id": "e8542b25",
   "metadata": {
    "id": "ABHYH46vhagC"
   },
   "source": [
    "繪製訓練與驗證的損失函數"
   ]
  },
  {
   "cell_type": "code",
   "execution_count": 48,
   "id": "e266bbff",
   "metadata": {
    "colab": {
     "base_uri": "https://localhost:8080/",
     "height": 295
    },
    "id": "5ZUH1tsxhagF",
    "outputId": "e6bc4b77-2246-4006-c941-7feb95ecb18c"
   },
   "outputs": [
    {
     "data": {
      "image/png": "[encoded data removed]",
      "text/plain": [
       "<Figure size 432x288 with 1 Axes>"
      ]
     },
     "metadata": {
      "needs_background": "light"
     },
     "output_type": "display_data"
    }
   ],
   "source": [
    "import matplotlib.pyplot as plt\n",
    "\n",
    "loss = history.history['loss']\n",
    "val_loss = history.history['val_loss']\n",
    "\n",
    "epochs = range(1,len(loss)+1)\n",
    "\n",
    "plt.plot(epochs,loss,'bo',label='Training loss')\n",
    "plt.plot(epochs,val_loss,'b',label='Validation loss')\n",
    "plt.title('Training and validation loss')\n",
    "plt.xlabel('Epochs')\n",
    "plt.ylabel('Loss')\n",
    "plt.legend()\n",
    "\n",
    "plt.show()"
   ]
  },
  {
   "cell_type": "markdown",
   "id": "9a303c04",
   "metadata": {
    "id": "-fm8Fa0nhagI"
   },
   "source": [
    "繪製訓練與驗證的準確度"
   ]
  },
  {
   "cell_type": "code",
   "execution_count": 49,
   "id": "3c1e8329",
   "metadata": {
    "colab": {
     "base_uri": "https://localhost:8080/",
     "height": 295
    },
    "id": "Hu-h_h8rhagJ",
    "outputId": "f58a014e-e6f3-45ab-f5ce-8aa46e682487"
   },
   "outputs": [
    {
     "data": {
      "image/png": "[encoded data removed]",
      "text/plain": [
       "<Figure size 432x288 with 1 Axes>"
      ]
     },
     "metadata": {
      "needs_background": "light"
     },
     "output_type": "display_data"
    }
   ],
   "source": [
    "import matplotlib.pyplot as plt\n",
    "\n",
    "plt.clf()\n",
    "acc = history.history['accuracy']\n",
    "val_acc = history.history['val_accuracy']\n",
    "\n",
    "plt.plot(epochs,acc,'bo',label='Training acc')\n",
    "plt.plot(epochs,val_acc,'b',label='Validation acc')\n",
    "plt.title('Training and validation accuracy')\n",
    "plt.xlabel('Epochs')\n",
    "plt.ylabel('Accuracy')\n",
    "plt.legend()\n",
    "\n",
    "plt.show()"
   ]
  },
  {
   "cell_type": "markdown",
   "id": "9b2ca6b8",
   "metadata": {
    "id": "wNiMGrsKUtEG"
   },
   "source": [
    "驗證準確度在第九個周期後，準確度就下降  \n",
    "發生**過度適配(Overfitting)**"
   ]
  },
  {
   "cell_type": "markdown",
   "id": "ee06b677",
   "metadata": {
    "id": "JBaaF39kUtEQ"
   },
   "source": [
    "## 重新建立訓練模型\n",
    "為了防止過度適配，將訓練週期限制在第四個周期後即結束訓練"
   ]
  },
  {
   "cell_type": "code",
   "execution_count": null,
   "id": "cb515cac",
   "metadata": {
    "colab": {
     "base_uri": "https://localhost:8080/"
    },
    "id": "XRbKgB83UtEQ",
    "outputId": "68898321-bb6f-40f4-fe11-a8c03ae388e5"
   },
   "outputs": [
    {
     "name": "stdout",
     "output_type": "stream",
     "text": [
      "Epoch 1/9\n",
      "16/16 [==============================] - 1s 48ms/step - loss: 3.1010 - accuracy: 0.3698 - val_loss: 1.7667 - val_accuracy: 0.6360\n",
      "Epoch 2/9\n",
      "16/16 [==============================] - 1s 37ms/step - loss: 1.5206 - accuracy: 0.6930 - val_loss: 1.2999 - val_accuracy: 0.7330\n",
      "Epoch 3/9\n",
      "16/16 [==============================] - 1s 45ms/step - loss: 1.0736 - accuracy: 0.7777 - val_loss: 1.0981 - val_accuracy: 0.7650\n",
      "Epoch 4/9\n",
      "16/16 [==============================] - 1s 38ms/step - loss: 0.8162 - accuracy: 0.8248 - val_loss: 1.0119 - val_accuracy: 0.8000\n",
      "Epoch 5/9\n",
      "16/16 [==============================] - 1s 36ms/step - loss: 0.6469 - accuracy: 0.8665 - val_loss: 0.9416 - val_accuracy: 0.8070\n",
      "Epoch 6/9\n",
      "16/16 [==============================] - 1s 37ms/step - loss: 0.5121 - accuracy: 0.8987 - val_loss: 0.9278 - val_accuracy: 0.8020\n",
      "Epoch 7/9\n",
      "16/16 [==============================] - 1s 36ms/step - loss: 0.4121 - accuracy: 0.9197 - val_loss: 0.8979 - val_accuracy: 0.8160\n",
      "Epoch 8/9\n",
      "16/16 [==============================] - 1s 36ms/step - loss: 0.3332 - accuracy: 0.9314 - val_loss: 0.9002 - val_accuracy: 0.8190\n",
      "Epoch 9/9\n",
      "16/16 [==============================] - 1s 35ms/step - loss: 0.2628 - accuracy: 0.9446 - val_loss: 0.9280 - val_accuracy: 0.8080\n",
      "71/71 [==============================] - 0s 2ms/step - loss: 1.0085 - accuracy: 0.7823\n"
     ]
    }
   ],
   "source": [
    "model = models.Sequential()\n",
    "model.add(layers.Dense(64,activation='relu',input_shape=(10000,)))\n",
    "model.add(layers.Dense(64,activation='relu'))\n",
    "model.add(layers.Dense(46,activation='softmax'))\n",
    "\n",
    "model.compile(\n",
    "  optimizer='rmsprop',\n",
    "  loss='categorical_crossentropy',\n",
    "  metrics=['accuracy']\n",
    ")\n",
    "\n",
    "model.fit(\n",
    "    partial_x_train,\n",
    "    partial_y_train,\n",
    "    epochs=9,\n",
    "    batch_size=512,\n",
    "    validation_data=(x_val,y_val))\n",
    "results=model.evaluate(x_test,one_hot_test_labels)"
   ]
  },
  {
   "cell_type": "code",
   "execution_count": null,
   "id": "cedb15e4",
   "metadata": {
    "colab": {
     "base_uri": "https://localhost:8080/"
    },
    "id": "I9tElpiZUtER",
    "outputId": "1fde4b89-a5c1-45c6-bfd8-193da2b8b7d0"
   },
   "outputs": [
    {
     "data": {
      "text/plain": [
       "[1.0085341930389404, 0.7822796106338501]"
      ]
     },
     "execution_count": 33,
     "metadata": {
      "tags": []
     },
     "output_type": "execute_result"
    }
   ],
   "source": [
    "results"
   ]
  },
  {
   "cell_type": "markdown",
   "id": "89d27596",
   "metadata": {
    "id": "sEmi56NtUtER"
   },
   "source": [
    "將準確度提升到88%準確度"
   ]
  },
  {
   "cell_type": "markdown",
   "id": "71987590",
   "metadata": {
    "id": "lNDrCYvIhSdn"
   },
   "source": [
    "## 資料瓶頸\n",
    "假定最終輸出有46個神經元，中間層應避免使用少於46神經元來傳遞資訊。 \n",
    "避免資訊被壓縮。"
   ]
  },
  {
   "cell_type": "markdown",
   "id": "c2ba701c",
   "metadata": {
    "id": "o_0uQTApTu2S"
   },
   "source": [
    "## 延伸實作"
   ]
  },
  {
   "cell_type": "markdown",
   "id": "632694a4",
   "metadata": {
    "id": "BOMsFdcVTu2a"
   },
   "source": [
    "### 1. 使用一個隱藏層"
   ]
  },
  {
   "cell_type": "code",
   "execution_count": null,
   "id": "0d3a8d58",
   "metadata": {
    "colab": {
     "base_uri": "https://localhost:8080/"
    },
    "id": "lUgHZbMhTu2b",
    "outputId": "226cf06e-caa1-4dd7-997c-83f50a990d61"
   },
   "outputs": [
    {
     "name": "stdout",
     "output_type": "stream",
     "text": [
      "Epoch 1/9\n",
      "16/16 [==============================] - 1s 48ms/step - loss: 3.0221 - accuracy: 0.4674 - val_loss: 1.7696 - val_accuracy: 0.6620\n",
      "Epoch 2/9\n",
      "16/16 [==============================] - 1s 38ms/step - loss: 1.5300 - accuracy: 0.7113 - val_loss: 1.3219 - val_accuracy: 0.7240\n",
      "Epoch 3/9\n",
      "16/16 [==============================] - 1s 37ms/step - loss: 1.0790 - accuracy: 0.7836 - val_loss: 1.1241 - val_accuracy: 0.7710\n",
      "Epoch 4/9\n",
      "16/16 [==============================] - 1s 38ms/step - loss: 0.8304 - accuracy: 0.8342 - val_loss: 1.0060 - val_accuracy: 0.7940\n",
      "Epoch 5/9\n",
      "16/16 [==============================] - 1s 36ms/step - loss: 0.6705 - accuracy: 0.8690 - val_loss: 0.9382 - val_accuracy: 0.8050\n",
      "Epoch 6/9\n",
      "16/16 [==============================] - 1s 38ms/step - loss: 0.5373 - accuracy: 0.8974 - val_loss: 0.8934 - val_accuracy: 0.8150\n",
      "Epoch 7/9\n",
      "16/16 [==============================] - 1s 37ms/step - loss: 0.4464 - accuracy: 0.9157 - val_loss: 0.8647 - val_accuracy: 0.8160\n",
      "Epoch 8/9\n",
      "16/16 [==============================] - 1s 37ms/step - loss: 0.3839 - accuracy: 0.9270 - val_loss: 0.8373 - val_accuracy: 0.8220\n",
      "Epoch 9/9\n",
      "16/16 [==============================] - 1s 36ms/step - loss: 0.3112 - accuracy: 0.9371 - val_loss: 0.8218 - val_accuracy: 0.8200\n",
      "71/71 [==============================] - 0s 2ms/step - loss: 0.8978 - accuracy: 0.7988\n"
     ]
    }
   ],
   "source": [
    "model = models.Sequential()\n",
    "model.add(layers.Dense(64,activation='relu',input_shape=(10000,)))\n",
    "model.add(layers.Dense(46,activation='softmax'))\n",
    "\n",
    "model.compile(\n",
    "  optimizer='rmsprop',\n",
    "  loss='categorical_crossentropy',\n",
    "  metrics=['accuracy']\n",
    ")\n",
    "\n",
    "model.fit(\n",
    "    partial_x_train,\n",
    "    partial_y_train,\n",
    "    epochs=9,\n",
    "    batch_size=512,\n",
    "    validation_data=(x_val,y_val))\n",
    "results=model.evaluate(x_test,one_hot_test_labels)"
   ]
  },
  {
   "cell_type": "markdown",
   "id": "ff00e439",
   "metadata": {
    "id": "EYkhsyu1Tu2c"
   },
   "source": [
    "### 2. 使用三個隱藏層"
   ]
  },
  {
   "cell_type": "code",
   "execution_count": null,
   "id": "f645f70e",
   "metadata": {
    "colab": {
     "base_uri": "https://localhost:8080/"
    },
    "id": "ejQ2ckNOTu2c",
    "outputId": "487fa419-06fc-4f05-83d0-f7ff4aa74567"
   },
   "outputs": [
    {
     "name": "stdout",
     "output_type": "stream",
     "text": [
      "Epoch 1/9\n",
      "16/16 [==============================] - 1s 48ms/step - loss: 3.1435 - accuracy: 0.4162 - val_loss: 1.7653 - val_accuracy: 0.6310\n",
      "Epoch 2/9\n",
      "16/16 [==============================] - 1s 38ms/step - loss: 1.4881 - accuracy: 0.6965 - val_loss: 1.3421 - val_accuracy: 0.7140\n",
      "Epoch 3/9\n",
      "16/16 [==============================] - 1s 39ms/step - loss: 1.0851 - accuracy: 0.7710 - val_loss: 1.1444 - val_accuracy: 0.7680\n",
      "Epoch 4/9\n",
      "16/16 [==============================] - 1s 38ms/step - loss: 0.8491 - accuracy: 0.8236 - val_loss: 1.0467 - val_accuracy: 0.7890\n",
      "Epoch 5/9\n",
      "16/16 [==============================] - 1s 41ms/step - loss: 0.6695 - accuracy: 0.8584 - val_loss: 0.9854 - val_accuracy: 0.7890\n",
      "Epoch 6/9\n",
      "16/16 [==============================] - 1s 38ms/step - loss: 0.5403 - accuracy: 0.8869 - val_loss: 0.9531 - val_accuracy: 0.8160\n",
      "Epoch 7/9\n",
      "16/16 [==============================] - 1s 38ms/step - loss: 0.4276 - accuracy: 0.9124 - val_loss: 0.9139 - val_accuracy: 0.8150\n",
      "Epoch 8/9\n",
      "16/16 [==============================] - 1s 38ms/step - loss: 0.3387 - accuracy: 0.9289 - val_loss: 0.9247 - val_accuracy: 0.8140\n",
      "Epoch 9/9\n",
      "16/16 [==============================] - 1s 37ms/step - loss: 0.2869 - accuracy: 0.9386 - val_loss: 0.9037 - val_accuracy: 0.8220\n",
      "71/71 [==============================] - 0s 2ms/step - loss: 0.9731 - accuracy: 0.7841\n"
     ]
    }
   ],
   "source": [
    "model = models.Sequential()\n",
    "model.add(layers.Dense(64,activation='relu',input_shape=(10000,)))\n",
    "model.add(layers.Dense(64,activation='relu'))\n",
    "model.add(layers.Dense(46,activation='softmax'))\n",
    "\n",
    "model.compile(\n",
    "  optimizer='rmsprop',\n",
    "  loss='categorical_crossentropy',\n",
    "  metrics=['accuracy']\n",
    ")\n",
    "\n",
    "model.fit(\n",
    "    partial_x_train,\n",
    "    partial_y_train,\n",
    "    epochs=9,\n",
    "    batch_size=512,\n",
    "    validation_data=(x_val,y_val))\n",
    "results=model.evaluate(x_test,one_hot_test_labels)"
   ]
  },
  {
   "cell_type": "markdown",
   "id": "074cf6a4",
   "metadata": {
    "id": "C1rnBWiZTu2c"
   },
   "source": [
    "### 3. 使用32個單元"
   ]
  },
  {
   "cell_type": "code",
   "execution_count": null,
   "id": "76bcfb97",
   "metadata": {
    "colab": {
     "base_uri": "https://localhost:8080/"
    },
    "id": "FBPn3p6TTu2c",
    "outputId": "23472ff0-7f81-484d-b16a-e7ef070bd208"
   },
   "outputs": [
    {
     "name": "stdout",
     "output_type": "stream",
     "text": [
      "Epoch 1/9\n",
      "16/16 [==============================] - 1s 40ms/step - loss: 3.3485 - accuracy: 0.3252 - val_loss: 2.2853 - val_accuracy: 0.5800\n",
      "Epoch 2/9\n",
      "16/16 [==============================] - 0s 30ms/step - loss: 2.0021 - accuracy: 0.6265 - val_loss: 1.6580 - val_accuracy: 0.6510\n",
      "Epoch 3/9\n",
      "16/16 [==============================] - 1s 42ms/step - loss: 1.4701 - accuracy: 0.6967 - val_loss: 1.3805 - val_accuracy: 0.7050\n",
      "Epoch 4/9\n",
      "16/16 [==============================] - 1s 32ms/step - loss: 1.2098 - accuracy: 0.7474 - val_loss: 1.2428 - val_accuracy: 0.7250\n",
      "Epoch 5/9\n",
      "16/16 [==============================] - 0s 31ms/step - loss: 1.0231 - accuracy: 0.7813 - val_loss: 1.1491 - val_accuracy: 0.7520\n",
      "Epoch 6/9\n",
      "16/16 [==============================] - 1s 32ms/step - loss: 0.8722 - accuracy: 0.8200 - val_loss: 1.0913 - val_accuracy: 0.7620\n",
      "Epoch 7/9\n",
      "16/16 [==============================] - 0s 31ms/step - loss: 0.7546 - accuracy: 0.8428 - val_loss: 1.0513 - val_accuracy: 0.7810\n",
      "Epoch 8/9\n",
      "16/16 [==============================] - 1s 32ms/step - loss: 0.6392 - accuracy: 0.8647 - val_loss: 1.0107 - val_accuracy: 0.7850\n",
      "Epoch 9/9\n",
      "16/16 [==============================] - 0s 30ms/step - loss: 0.5663 - accuracy: 0.8788 - val_loss: 0.9803 - val_accuracy: 0.7900\n",
      "71/71 [==============================] - 0s 2ms/step - loss: 1.0588 - accuracy: 0.7707\n"
     ]
    }
   ],
   "source": [
    "model = models.Sequential()\n",
    "model.add(layers.Dense(32,activation='relu',input_shape=(10000,)))\n",
    "model.add(layers.Dense(32,activation='relu'))\n",
    "model.add(layers.Dense(46,activation='softmax'))\n",
    "\n",
    "model.compile(\n",
    "  optimizer='rmsprop',\n",
    "  loss='categorical_crossentropy',\n",
    "  metrics=['accuracy']\n",
    ")\n",
    "\n",
    "model.fit(\n",
    "    partial_x_train,\n",
    "    partial_y_train,\n",
    "    epochs=9,\n",
    "    batch_size=512,\n",
    "    validation_data=(x_val,y_val))\n",
    "results=model.evaluate(x_test,one_hot_test_labels)"
   ]
  },
  {
   "cell_type": "markdown",
   "id": "3a3381d1",
   "metadata": {
    "id": "StiLrkuyTu2d"
   },
   "source": [
    "### 4. 使用128個單元"
   ]
  },
  {
   "cell_type": "code",
   "execution_count": null,
   "id": "4101dac9",
   "metadata": {
    "colab": {
     "base_uri": "https://localhost:8080/"
    },
    "id": "Bl9j_3PETu2d",
    "outputId": "63aab294-0e0a-493d-dcdd-b0707d750ea0"
   },
   "outputs": [
    {
     "name": "stdout",
     "output_type": "stream",
     "text": [
      "Epoch 1/9\n",
      "16/16 [==============================] - 1s 65ms/step - loss: 2.7893 - accuracy: 0.4535 - val_loss: 1.3531 - val_accuracy: 0.6980\n",
      "Epoch 2/9\n",
      "16/16 [==============================] - 1s 57ms/step - loss: 1.1454 - accuracy: 0.7578 - val_loss: 1.0936 - val_accuracy: 0.7630\n",
      "Epoch 3/9\n",
      "16/16 [==============================] - 1s 54ms/step - loss: 0.7825 - accuracy: 0.8333 - val_loss: 0.9593 - val_accuracy: 0.8050\n",
      "Epoch 4/9\n",
      "16/16 [==============================] - 1s 51ms/step - loss: 0.5486 - accuracy: 0.8816 - val_loss: 0.8798 - val_accuracy: 0.8200\n",
      "Epoch 5/9\n",
      "16/16 [==============================] - 1s 54ms/step - loss: 0.4040 - accuracy: 0.9146 - val_loss: 0.8472 - val_accuracy: 0.8170\n",
      "Epoch 6/9\n",
      "16/16 [==============================] - 1s 54ms/step - loss: 0.3024 - accuracy: 0.9317 - val_loss: 0.8754 - val_accuracy: 0.8130\n",
      "Epoch 7/9\n",
      "16/16 [==============================] - 1s 53ms/step - loss: 0.2360 - accuracy: 0.9469 - val_loss: 0.9095 - val_accuracy: 0.8020\n",
      "Epoch 8/9\n",
      "16/16 [==============================] - 1s 53ms/step - loss: 0.1888 - accuracy: 0.9536 - val_loss: 0.8981 - val_accuracy: 0.8230\n",
      "Epoch 9/9\n",
      "16/16 [==============================] - 1s 53ms/step - loss: 0.1794 - accuracy: 0.9516 - val_loss: 1.0168 - val_accuracy: 0.7930\n",
      "71/71 [==============================] - 0s 2ms/step - loss: 1.1019 - accuracy: 0.7698\n"
     ]
    }
   ],
   "source": [
    "model = models.Sequential()\n",
    "model.add(layers.Dense(128,activation='relu',input_shape=(10000,)))\n",
    "model.add(layers.Dense(128,activation='relu'))\n",
    "model.add(layers.Dense(46,activation='softmax'))\n",
    "\n",
    "model.compile(\n",
    "  optimizer='rmsprop',\n",
    "  loss='categorical_crossentropy',\n",
    "  metrics=['accuracy']\n",
    ")\n",
    "\n",
    "model.fit(\n",
    "    partial_x_train,\n",
    "    partial_y_train,\n",
    "    epochs=9,\n",
    "    batch_size=512,\n",
    "    validation_data=(x_val,y_val))\n",
    "results=model.evaluate(x_test,one_hot_test_labels)"
   ]
  },
  {
   "cell_type": "markdown",
   "id": "67bf4c50",
   "metadata": {
    "id": "jUO5Tlvk4nCA"
   },
   "source": [
    "# 迴歸：預測房價\n",
    "預測連續值而不是離散標籤"
   ]
  },
  {
   "cell_type": "markdown",
   "id": "fe8a3c99",
   "metadata": {
    "id": "pS_3oNaGa6EH"
   },
   "source": [
    "## 準備資料\n",
    "載入1970年代中期波士頓的郊區資料  \n",
    "本例有506筆資料，分為404個訓練樣本和102個測試資料"
   ]
  },
  {
   "cell_type": "code",
   "execution_count": null,
   "id": "7f444269",
   "metadata": {
    "colab": {
     "base_uri": "https://localhost:8080/"
    },
    "id": "MrlyhwJbbu4R",
    "outputId": "3801fcba-1456-4737-cf3d-88790f307c09"
   },
   "outputs": [
    {
     "name": "stdout",
     "output_type": "stream",
     "text": [
      "Downloading data from https://storage.googleapis.com/tensorflow/tf-keras-datasets/boston_housing.npz\n",
      "57344/57026 [==============================] - 0s 0us/step\n"
     ]
    }
   ],
   "source": [
    "from keras.datasets import boston_housing\n",
    "\n",
    "(train_data,train_targets),(test_data,test_targets) = boston_housing.load_data()"
   ]
  },
  {
   "cell_type": "code",
   "execution_count": null,
   "id": "f7b1f994",
   "metadata": {
    "colab": {
     "base_uri": "https://localhost:8080/"
    },
    "id": "otLDBVidcKhD",
    "outputId": "67627714-829a-4bb5-f226-7a0e0e68da14"
   },
   "outputs": [
    {
     "data": {
      "text/plain": [
       "(404, 13)"
      ]
     },
     "execution_count": 2,
     "metadata": {
      "tags": []
     },
     "output_type": "execute_result"
    }
   ],
   "source": [
    "train_data.shape"
   ]
  },
  {
   "cell_type": "code",
   "execution_count": null,
   "id": "8f57acdc",
   "metadata": {
    "colab": {
     "base_uri": "https://localhost:8080/"
    },
    "id": "GiwclzYycO28",
    "outputId": "bafd5997-c701-4181-b1a3-9597ac65ce4f"
   },
   "outputs": [
    {
     "data": {
      "text/plain": [
       "(102, 13)"
      ]
     },
     "execution_count": 3,
     "metadata": {
      "tags": []
     },
     "output_type": "execute_result"
    }
   ],
   "source": [
    "test_data.shape"
   ]
  },
  {
   "cell_type": "code",
   "execution_count": null,
   "id": "81e830f7",
   "metadata": {
    "colab": {
     "base_uri": "https://localhost:8080/"
    },
    "id": "CSipspQOcU2L",
    "outputId": "b82680ed-ce69-422f-f879-e672884f6c90"
   },
   "outputs": [
    {
     "data": {
      "text/plain": [
       "array([15.2, 42.3, 50. , 21.1, 17.7, 18.5, 11.3, 15.6, 15.6, 14.4, 12.1,\n",
       "       17.9, 23.1, 19.9, 15.7,  8.8, 50. , 22.5, 24.1, 27.5, 10.9, 30.8,\n",
       "       32.9, 24. , 18.5, 13.3, 22.9, 34.7, 16.6, 17.5, 22.3, 16.1, 14.9,\n",
       "       23.1, 34.9, 25. , 13.9, 13.1, 20.4, 20. , 15.2, 24.7, 22.2, 16.7,\n",
       "       12.7, 15.6, 18.4, 21. , 30.1, 15.1, 18.7,  9.6, 31.5, 24.8, 19.1,\n",
       "       22. , 14.5, 11. , 32. , 29.4, 20.3, 24.4, 14.6, 19.5, 14.1, 14.3,\n",
       "       15.6, 10.5,  6.3, 19.3, 19.3, 13.4, 36.4, 17.8, 13.5, 16.5,  8.3,\n",
       "       14.3, 16. , 13.4, 28.6, 43.5, 20.2, 22. , 23. , 20.7, 12.5, 48.5,\n",
       "       14.6, 13.4, 23.7, 50. , 21.7, 39.8, 38.7, 22.2, 34.9, 22.5, 31.1,\n",
       "       28.7, 46. , 41.7, 21. , 26.6, 15. , 24.4, 13.3, 21.2, 11.7, 21.7,\n",
       "       19.4, 50. , 22.8, 19.7, 24.7, 36.2, 14.2, 18.9, 18.3, 20.6, 24.6,\n",
       "       18.2,  8.7, 44. , 10.4, 13.2, 21.2, 37. , 30.7, 22.9, 20. , 19.3,\n",
       "       31.7, 32. , 23.1, 18.8, 10.9, 50. , 19.6,  5. , 14.4, 19.8, 13.8,\n",
       "       19.6, 23.9, 24.5, 25. , 19.9, 17.2, 24.6, 13.5, 26.6, 21.4, 11.9,\n",
       "       22.6, 19.6,  8.5, 23.7, 23.1, 22.4, 20.5, 23.6, 18.4, 35.2, 23.1,\n",
       "       27.9, 20.6, 23.7, 28. , 13.6, 27.1, 23.6, 20.6, 18.2, 21.7, 17.1,\n",
       "        8.4, 25.3, 13.8, 22.2, 18.4, 20.7, 31.6, 30.5, 20.3,  8.8, 19.2,\n",
       "       19.4, 23.1, 23. , 14.8, 48.8, 22.6, 33.4, 21.1, 13.6, 32.2, 13.1,\n",
       "       23.4, 18.9, 23.9, 11.8, 23.3, 22.8, 19.6, 16.7, 13.4, 22.2, 20.4,\n",
       "       21.8, 26.4, 14.9, 24.1, 23.8, 12.3, 29.1, 21. , 19.5, 23.3, 23.8,\n",
       "       17.8, 11.5, 21.7, 19.9, 25. , 33.4, 28.5, 21.4, 24.3, 27.5, 33.1,\n",
       "       16.2, 23.3, 48.3, 22.9, 22.8, 13.1, 12.7, 22.6, 15. , 15.3, 10.5,\n",
       "       24. , 18.5, 21.7, 19.5, 33.2, 23.2,  5. , 19.1, 12.7, 22.3, 10.2,\n",
       "       13.9, 16.3, 17. , 20.1, 29.9, 17.2, 37.3, 45.4, 17.8, 23.2, 29. ,\n",
       "       22. , 18. , 17.4, 34.6, 20.1, 25. , 15.6, 24.8, 28.2, 21.2, 21.4,\n",
       "       23.8, 31. , 26.2, 17.4, 37.9, 17.5, 20. ,  8.3, 23.9,  8.4, 13.8,\n",
       "        7.2, 11.7, 17.1, 21.6, 50. , 16.1, 20.4, 20.6, 21.4, 20.6, 36.5,\n",
       "        8.5, 24.8, 10.8, 21.9, 17.3, 18.9, 36.2, 14.9, 18.2, 33.3, 21.8,\n",
       "       19.7, 31.6, 24.8, 19.4, 22.8,  7.5, 44.8, 16.8, 18.7, 50. , 50. ,\n",
       "       19.5, 20.1, 50. , 17.2, 20.8, 19.3, 41.3, 20.4, 20.5, 13.8, 16.5,\n",
       "       23.9, 20.6, 31.5, 23.3, 16.8, 14. , 33.8, 36.1, 12.8, 18.3, 18.7,\n",
       "       19.1, 29. , 30.1, 50. , 50. , 22. , 11.9, 37.6, 50. , 22.7, 20.8,\n",
       "       23.5, 27.9, 50. , 19.3, 23.9, 22.6, 15.2, 21.7, 19.2, 43.8, 20.3,\n",
       "       33.2, 19.9, 22.5, 32.7, 22. , 17.1, 19. , 15. , 16.1, 25.1, 23.7,\n",
       "       28.7, 37.2, 22.6, 16.4, 25. , 29.8, 22.1, 17.4, 18.1, 30.3, 17.5,\n",
       "       24.7, 12.6, 26.5, 28.7, 13.3, 10.4, 24.4, 23. , 20. , 17.8,  7. ,\n",
       "       11.8, 24.4, 13.8, 19.4, 25.2, 19.4, 19.4, 29.1])"
      ]
     },
     "execution_count": 4,
     "metadata": {
      "tags": []
     },
     "output_type": "execute_result"
    }
   ],
   "source": [
    "train_targets"
   ]
  },
  {
   "cell_type": "markdown",
   "id": "3f94e863",
   "metadata": {
    "id": "K_iWURfZcuOm"
   },
   "source": [
    "## 準備資料\n",
    "對資料進行**正規化(normalization)**  \n",
    "對每個特徵值減去平均值並減去標準差，簡化問題"
   ]
  },
  {
   "cell_type": "code",
   "execution_count": null,
   "id": "49c74e62",
   "metadata": {
    "id": "AoCrAcKJcwai"
   },
   "outputs": [],
   "source": [
    "mean = train_data.mean(axis=0)\n",
    "train_data -= mean\n",
    "std = train_data.std(axis=0)\n",
    "train_data /= std\n",
    "\n",
    "test_data -= mean\n",
    "test_data /= std "
   ]
  },
  {
   "cell_type": "markdown",
   "id": "be957ae3",
   "metadata": {
    "id": "oIZ8eheSd6aE"
   },
   "source": [
    "## 建立神經網路\n",
    "以單一unit結束且沒有啟動函數(代表將是線性層)"
   ]
  },
  {
   "cell_type": "code",
   "execution_count": null,
   "id": "8fbe35d3",
   "metadata": {
    "id": "gu1vaNKRgVx9"
   },
   "outputs": [],
   "source": [
    "from keras import models\n",
    "from keras import layers\n",
    "\n",
    "def build_model():\n",
    "    model = models.Sequential()\n",
    "    model.add(layers.Dense(64,activation='relu',input_shape=(train_data.shape[1],)))\n",
    "    model.add(layers.Dense(64,activation='relu'))\n",
    "    model.add(layers.Dense(1))\n",
    "    model.compile(optimizer='rmsprop',loss='mse',metrics=['mae'])\n",
    "    return model"
   ]
  },
  {
   "cell_type": "markdown",
   "id": "c891425e",
   "metadata": {
    "id": "A7vCiNDRb3If"
   },
   "source": [
    "## K-fold cross validation(K折交叉驗證)：驗證模型的成效\n",
    "將可用資料拆分成K個區塊，保持模型不變的情況下：  \n",
    "選一個區塊作為驗證集，而其餘區做當作訓練集。  \n",
    "![pic3-2](https://github.com/hank199599/deep_learning_keras_log/blob/main/pictures/3-2.png?raw=true)  \n",
    "\n",
    "**使資料集太小，使變異性增大的缺點平均掉。**"
   ]
  },
  {
   "cell_type": "code",
   "execution_count": null,
   "id": "89c8f86e",
   "metadata": {
    "colab": {
     "base_uri": "https://localhost:8080/"
    },
    "id": "9Ik7nxUfeA0D",
    "outputId": "87d592a0-abef-445c-f182-581e1152f784"
   },
   "outputs": [
    {
     "name": "stdout",
     "output_type": "stream",
     "text": [
      "process fold # 0\n",
      "process fold # 1\n",
      "process fold # 2\n",
      "process fold # 3\n"
     ]
    }
   ],
   "source": [
    "import numpy as np\n",
    "import os\n",
    "os.environ['TF_CPP_MIN_LOG_LEVEL'] = '3'  #關掉TensorFlow的警告\n",
    "\n",
    "k=4 # 進行4折交叉驗證\n",
    "num_val_samples = len(train_data)//k\n",
    "num_epochs=100\n",
    "all_scores=[]\n",
    "\n",
    "for i in range(k):\n",
    "    print(\"process fold #\",i)\n",
    "    # 準備驗證資料，來自#k區塊\n",
    "    val_data = train_data[i*num_val_samples:(i+1)*num_val_samples]\n",
    "    val_targets = train_targets[i*num_val_samples:(i+1)*num_val_samples]\n",
    "\n",
    "    # 準備訓練資料，來自#k以外的區塊\n",
    "    partical_train_data = np.concatenate([train_data[:i*num_val_samples],train_data[(i+1)*num_val_samples:]],axis=0)\n",
    "    partical_train_targets = np.concatenate([train_targets[:i*num_val_samples],train_targets[(i+1)*num_val_samples:]],axis=0)  \n",
    "\n",
    "    model = build_model()\n",
    "    model.fit(partical_train_data,partical_train_targets,epochs=num_epochs,batch_size=1,verbose=0)\n",
    "\n",
    "    val_mse,val_mae = model.evaluate(val_data,val_targets,verbose=0)\n",
    "    all_scores.append(val_mae)"
   ]
  },
  {
   "cell_type": "code",
   "execution_count": null,
   "id": "4c627f74",
   "metadata": {
    "colab": {
     "base_uri": "https://localhost:8080/"
    },
    "id": "4wwyj7A2fnrl",
    "outputId": "61937b30-84ad-4460-bd83-4bdc27da1b3d"
   },
   "outputs": [
    {
     "data": {
      "text/plain": [
       "[2.5371220111846924, 2.5387237071990967, 2.766490936279297, 2.494704484939575]"
      ]
     },
     "execution_count": 8,
     "metadata": {
      "tags": []
     },
     "output_type": "execute_result"
    }
   ],
   "source": [
    "all_scores"
   ]
  },
  {
   "cell_type": "code",
   "execution_count": null,
   "id": "805a523c",
   "metadata": {
    "colab": {
     "base_uri": "https://localhost:8080/"
    },
    "id": "WfPBUiJHfqJS",
    "outputId": "89d33ec0-685a-40b3-b0a6-3cb6cb518499"
   },
   "outputs": [
    {
     "data": {
      "text/plain": [
       "2.5842602849006653"
      ]
     },
     "execution_count": 9,
     "metadata": {
      "tags": []
     },
     "output_type": "execute_result"
    }
   ],
   "source": [
    "np.mean(all_scores)"
   ]
  },
  {
   "cell_type": "markdown",
   "id": "4173be93",
   "metadata": {
    "id": "g_4InBXDyq1f"
   },
   "source": [
    "## 嘗試500 epochs來訓練"
   ]
  },
  {
   "cell_type": "code",
   "execution_count": null,
   "id": "893f54e7",
   "metadata": {
    "colab": {
     "base_uri": "https://localhost:8080/"
    },
    "id": "LabIAiY-yvSv",
    "outputId": "c5e1c319-e28d-4455-be6f-4106ead71a5b"
   },
   "outputs": [
    {
     "name": "stdout",
     "output_type": "stream",
     "text": [
      "process fold # 0\n",
      "process fold # 1\n",
      "process fold # 2\n",
      "process fold # 3\n"
     ]
    }
   ],
   "source": [
    "import numpy as np\n",
    "import os\n",
    "os.environ['TF_CPP_MIN_LOG_LEVEL'] = '3'  #關掉TensorFlow的警告\n",
    "\n",
    "k=4 # 進行4折交叉驗證\n",
    "num_val_samples = len(train_data)//k\n",
    "num_epochs=500\n",
    "all_mae_history=[]\n",
    "\n",
    "for i in range(k):\n",
    "    print(\"process fold #\",i)\n",
    "    # 準備驗證資料，來自#k區塊\n",
    "    val_data = train_data[i*num_val_samples:(i+1)*num_val_samples]\n",
    "    val_targets = train_targets[i*num_val_samples:(i+1)*num_val_samples]\n",
    "\n",
    "    # 準備訓練資料，來自#k以外的區塊\n",
    "    partical_train_data = np.concatenate([train_data[:i*num_val_samples],train_data[(i+1)*num_val_samples:]],axis=0)\n",
    "    partical_train_targets = np.concatenate([train_targets[:i*num_val_samples],train_targets[(i+1)*num_val_samples:]],axis=0)  \n",
    "\n",
    "    model = build_model()\n",
    "    history = model.fit(partical_train_data,partical_train_targets,validation_data=(val_data,val_targets),epochs=num_epochs,batch_size=1,verbose=0)\n",
    "    mae_history = history.history['val_mae']\n",
    "    all_mae_history.append(mae_history)"
   ]
  },
  {
   "cell_type": "markdown",
   "id": "b380e24b",
   "metadata": {
    "id": "Y9_F0gKVzkR-"
   },
   "source": [
    "建立平均K折驗證分數的歷史"
   ]
  },
  {
   "cell_type": "code",
   "execution_count": null,
   "id": "13181378",
   "metadata": {
    "id": "TpABSmaNzjt_"
   },
   "outputs": [],
   "source": [
    "average_mae_history = [np.mean([x[i] for x in all_mae_history]) for i in range(num_epochs)]"
   ]
  },
  {
   "cell_type": "markdown",
   "id": "b117d54b",
   "metadata": {
    "id": "q_nxzE6Nz_i3"
   },
   "source": [
    "## 繪製驗證分數"
   ]
  },
  {
   "cell_type": "code",
   "execution_count": null,
   "id": "6d7da3fc",
   "metadata": {
    "colab": {
     "base_uri": "https://localhost:8080/",
     "height": 279
    },
    "id": "I8m__2eX0BYt",
    "outputId": "a7e31af2-69b3-4c85-87bc-a74d7422166c"
   },
   "outputs": [
    {
     "data": {
      "image/png": "[encoded data removed]",
      "text/plain": [
       "<Figure size 432x288 with 1 Axes>"
      ]
     },
     "metadata": {
      "needs_background": "light",
      "tags": []
     },
     "output_type": "display_data"
    }
   ],
   "source": [
    "import matplotlib.pyplot as plt\n",
    "\n",
    "plt.plot(range(1,len(average_mae_history)+1),average_mae_history)\n",
    "plt.xlabel('Epochs')\n",
    "plt.ylabel('Validation MAE')\n",
    "plt.show()"
   ]
  },
  {
   "cell_type": "markdown",
   "id": "38ed051b",
   "metadata": {
    "id": "gJPj8vGdARXx"
   },
   "source": [
    "## 指數平均移動值\n",
    "使現在的資料會被過去的資料所影響  \n",
    "時間點越近的資料影響越大，越遠則越小\n"
   ]
  },
  {
   "cell_type": "code",
   "execution_count": null,
   "id": "d98ff613",
   "metadata": {
    "id": "IV0MehTPA81F"
   },
   "outputs": [],
   "source": [
    "def smooth_curve(points,factor=0.9):\n",
    "    smoothed_points=[]\n",
    "    for point in points:\n",
    "        if smoothed_points:\n",
    "            previous=smoothed_points[-1]\n",
    "            smoothed_points.append(previous*factor+point*(1-factor))\n",
    "        else:\n",
    "            smoothed_points.append(point)\n",
    "    return smoothed_points"
   ]
  },
  {
   "cell_type": "markdown",
   "id": "e475032d",
   "metadata": {
    "id": "-PJVSy5tBpog"
   },
   "source": [
    "省略前10個資料點，並套用指數移動平均值"
   ]
  },
  {
   "cell_type": "code",
   "execution_count": null,
   "id": "1e195b59",
   "metadata": {
    "id": "YFNsX-v8Bi8F"
   },
   "outputs": [],
   "source": [
    "smooth_mae_history = smooth_curve(average_mae_history[10:])"
   ]
  },
  {
   "cell_type": "markdown",
   "id": "83dbd2e3",
   "metadata": {
    "id": "5kzV3NEXB7H_"
   },
   "source": [
    "### 圖3.13 每個訓練週期的驗證分數MAE，不包括前10個資料點"
   ]
  },
  {
   "cell_type": "code",
   "execution_count": null,
   "id": "c5368072",
   "metadata": {
    "colab": {
     "base_uri": "https://localhost:8080/",
     "height": 279
    },
    "id": "YcFE8gBZCGnX",
    "outputId": "cc2b839c-4594-4626-bee8-2da1808ac5a3"
   },
   "outputs": [
    {
     "data": {
      "image/png": "[encoded data removed]",
      "text/plain": [
       "<Figure size 432x288 with 1 Axes>"
      ]
     },
     "metadata": {
      "needs_background": "light",
      "tags": []
     },
     "output_type": "display_data"
    }
   ],
   "source": [
    "plt.plot(range(1,len(smooth_mae_history)+1),smooth_mae_history)\n",
    "plt.xlabel('Epochs')\n",
    "plt.ylabel('Validation MAE')\n",
    "plt.show()"
   ]
  },
  {
   "cell_type": "markdown",
   "id": "51345eb0",
   "metadata": {
    "id": "s1f2Nz0_Cllw"
   },
   "source": [
    "MAE在第80個週期後停止改善並開始往上升\n",
    "發生過度適配的情形"
   ]
  },
  {
   "cell_type": "markdown",
   "id": "a0b53dfa",
   "metadata": {
    "id": "GaBz6fsgCxwy"
   },
   "source": [
    "## 訓練最終模型"
   ]
  },
  {
   "cell_type": "code",
   "execution_count": null,
   "id": "1ba1170e",
   "metadata": {
    "colab": {
     "base_uri": "https://localhost:8080/"
    },
    "id": "n16FMYs_CzgM",
    "outputId": "afd4e3d4-af1d-42a1-897d-3997a7cf00ed"
   },
   "outputs": [
    {
     "name": "stdout",
     "output_type": "stream",
     "text": [
      "4/4 [==============================] - 0s 2ms/step - loss: 17.7433 - mae: 2.6968\n"
     ]
    }
   ],
   "source": [
    "model = build_model()\n",
    "model.fit(train_data,train_targets,epochs=80,batch_size=16,verbose=0)\n",
    "\n",
    "test_mse_score,test_mae_score = model.evaluate(test_data,test_targets)"
   ]
  },
  {
   "cell_type": "code",
   "execution_count": null,
   "id": "01c4ff48",
   "metadata": {
    "colab": {
     "base_uri": "https://localhost:8080/"
    },
    "id": "pTGtej0YDM--",
    "outputId": "795c3afc-07f2-4dcc-ff2b-60b9b65eaef8"
   },
   "outputs": [
    {
     "data": {
      "text/plain": [
       "2.696845054626465"
      ]
     },
     "execution_count": 26,
     "metadata": {
      "tags": []
     },
     "output_type": "execute_result"
    }
   ],
   "source": [
    "test_mae_score"
   ]
  },
  {
   "cell_type": "markdown",
   "id": "cf18dc49",
   "metadata": {
    "id": "pNxJwEB-DghJ"
   },
   "source": [
    "仍有$2,550美元左右的誤差"
   ]
  },
  {
   "cell_type": "code",
   "execution_count": null,
   "id": "41f95df1",
   "metadata": {},
   "outputs": [],
   "source": []
  }
 ],
 "metadata": {
  "kernelspec": {
   "display_name": "Python 3 (ipykernel)",
   "language": "python",
   "name": "python3"
  },
  "language_info": {
   "codemirror_mode": {
    "name": "ipython",
    "version": 3
   },
   "file_extension": ".py",
   "mimetype": "text/x-python",
   "name": "python",
   "nbconvert_exporter": "python",
   "pygments_lexer": "ipython3",
   "version": "3.8.13"
  },
  "vscode": {
   "interpreter": {
    "hash": "9ebf9cfd872009544a161647ac82c48f4cc096aba58631b69e515c7576d66293"
   }
  }
 },
 "nbformat": 4,
 "nbformat_minor": 5
}
