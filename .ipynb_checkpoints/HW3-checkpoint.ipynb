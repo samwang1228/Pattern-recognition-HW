{
 "cells": [
  {
   "cell_type": "markdown",
   "id": "f7268570",
   "metadata": {},
   "source": [
    "# tensorflow 創建tensor(張量)"
   ]
  },
  {
   "cell_type": "markdown",
   "id": "fb9cb737",
   "metadata": {},
   "source": [
    "## 元素皆為1"
   ]
  },
  {
   "cell_type": "code",
   "execution_count": 2,
   "id": "643bbdea",
   "metadata": {},
   "outputs": [
    {
     "name": "stdout",
     "output_type": "stream",
     "text": [
      "tf.Tensor(\n",
      "[[1.]\n",
      " [1.]], shape=(2, 1), dtype=float32)\n"
     ]
    }
   ],
   "source": [
    "import tensorflow as tf\n",
    "x = tf.ones(shape=(2, 1))\n",
    "print(x)"
   ]
  },
  {
   "cell_type": "markdown",
   "id": "87090928",
   "metadata": {},
   "source": [
    "## 元素皆為0"
   ]
  },
  {
   "cell_type": "code",
   "execution_count": 3,
   "id": "0b26f49e",
   "metadata": {},
   "outputs": [
    {
     "name": "stdout",
     "output_type": "stream",
     "text": [
      "tf.Tensor(\n",
      "[[0.]\n",
      " [0.]], shape=(2, 1), dtype=float32)\n"
     ]
    }
   ],
   "source": [
    "x = tf.zeros(shape=(2, 1))\n",
    "print(x)"
   ]
  },
  {
   "cell_type": "markdown",
   "id": "c658f4fc",
   "metadata": {},
   "source": [
    "## 創建random matrix\n",
    "* normal  --> normal distribution 設立標準差與平均的常態分佈\n",
    "* uniform --> range(min,max) 取隨機值"
   ]
  },
  {
   "cell_type": "code",
   "execution_count": 4,
   "id": "360f12fd",
   "metadata": {},
   "outputs": [
    {
     "name": "stdout",
     "output_type": "stream",
     "text": [
      "tf.Tensor(\n",
      "[[-0.713831  ]\n",
      " [-0.16434248]\n",
      " [-0.00761328]], shape=(3, 1), dtype=float32)\n",
      "tf.Tensor(\n",
      "[[4.045563 ]\n",
      " [1.0718942]\n",
      " [4.271026 ]], shape=(3, 1), dtype=float32)\n"
     ]
    }
   ],
   "source": [
    "x = tf.random.normal(shape=(3, 1), mean=0., stddev=1.)\n",
    "print(x)\n",
    "x = tf.random.uniform(shape=(3, 1), minval=0., maxval=5.)\n",
    "print(x)"
   ]
  },
  {
   "cell_type": "markdown",
   "id": "b0914385",
   "metadata": {},
   "source": [
    "## 給定matrix value in  np"
   ]
  },
  {
   "cell_type": "code",
   "execution_count": 5,
   "id": "b07b9953",
   "metadata": {},
   "outputs": [
    {
     "data": {
      "text/plain": [
       "array([[0., 1.],\n",
       "       [1., 1.]])"
      ]
     },
     "execution_count": 5,
     "metadata": {},
     "output_type": "execute_result"
    }
   ],
   "source": [
    "import numpy as np\n",
    "x = np.ones(shape=(2, 2))\n",
    "x[0, 0] = 0.\n",
    "x"
   ]
  },
  {
   "cell_type": "markdown",
   "id": "1a1a19e6",
   "metadata": {},
   "source": [
    "## 創建tensor 變數與修改\n",
    "* 不能直接=\n",
    "* 要用assign"
   ]
  },
  {
   "cell_type": "code",
   "execution_count": 6,
   "id": "26ea072c",
   "metadata": {},
   "outputs": [
    {
     "name": "stdout",
     "output_type": "stream",
     "text": [
      "random tensor :\n",
      " <tf.Variable 'Variable:0' shape=(3, 1) dtype=float32, numpy=\n",
      "array([[-1.0072868 ],\n",
      "       [ 0.44868422],\n",
      "       [ 0.04236373]], dtype=float32)>\n",
      "ones tensor :\n",
      " <tf.Variable 'Variable:0' shape=(3, 1) dtype=float32, numpy=\n",
      "array([[1.],\n",
      "       [1.],\n",
      "       [1.]], dtype=float32)>\n",
      "modify tensor[0,0]:\n",
      "<tf.Variable 'Variable:0' shape=(3, 1) dtype=float32, numpy=\n",
      "array([[3.],\n",
      "       [1.],\n",
      "       [1.]], dtype=float32)>\n",
      "add other tensor to v add(ones,v):\n",
      "<tf.Variable 'Variable:0' shape=(3, 1) dtype=float32, numpy=\n",
      "array([[4.],\n",
      "       [2.],\n",
      "       [2.]], dtype=float32)>\n"
     ]
    }
   ],
   "source": [
    "v = tf.Variable(initial_value=tf.random.normal(shape=(3, 1)))\n",
    "print(f'random tensor :\\n {v}')\n",
    "v.assign(tf.ones((3, 1)))\n",
    "print(f'ones tensor :\\n {v}')\n",
    "# v[0, 0]=3. 違法必須用assign\n",
    "v[0, 0].assign(3.)\n",
    "print(f'modify tensor[0,0]:\\n{v}')\n",
    "v.assign_add(tf.ones((3, 1)))\n",
    "print(f'add other tensor to v add(ones,v):\\n{v}')"
   ]
  },
  {
   "cell_type": "markdown",
   "id": "5beafaca",
   "metadata": {},
   "source": [
    "tensor 運算"
   ]
  },
  {
   "cell_type": "code",
   "execution_count": 7,
   "id": "279f1fa6",
   "metadata": {},
   "outputs": [
    {
     "name": "stdout",
     "output_type": "stream",
     "text": [
      "a:[[1. 1.]\n",
      " [1. 1.]]\n",
      " b:[[1. 1.]\n",
      " [1. 1.]]\n",
      "c:[[1. 1.]\n",
      " [1. 1.]]\n",
      "d:[[2. 2.]\n",
      " [2. 2.]]\n",
      "e:[[4. 4.]\n",
      " [4. 4.]]\n"
     ]
    }
   ],
   "source": [
    "a = tf.ones((2, 2))\n",
    "b = tf.square(a)\n",
    "c = tf.sqrt(a)\n",
    "d = b + c\n",
    "e = tf.matmul(a, b) # 矩陣相乘\n",
    "e *= 2 # 乘係數\n",
    "print(f'a:{a}\\n b:{b}\\nc:{c}\\nd:{d}\\ne:{e}')"
   ]
  },
  {
   "cell_type": "markdown",
   "id": "8ebbaf6e",
   "metadata": {},
   "source": [
    "## 微分tensor"
   ]
  },
  {
   "cell_type": "code",
   "execution_count": 8,
   "id": "5adf689b",
   "metadata": {},
   "outputs": [
    {
     "name": "stdout",
     "output_type": "stream",
     "text": [
      "input:\n",
      "<tf.Variable 'Variable:0' shape=() dtype=float32, numpy=3.0>\n",
      " gradient:\n",
      "6.0\n"
     ]
    }
   ],
   "source": [
    "input_var = tf.Variable(initial_value=3.)\n",
    "with tf.GradientTape() as tape:\n",
    "    result = tf.square(input_var) # result = x^2\n",
    "gradient = tape.gradient(result, input_var) # 對 x^2微分 x=3帶入\n",
    "print(f'input:\\n{input_var}\\n gradient:\\n{gradient}')"
   ]
  },
  {
   "cell_type": "code",
   "execution_count": 9,
   "id": "1313c8fa",
   "metadata": {},
   "outputs": [
    {
     "data": {
      "text/plain": [
       "<tf.Tensor: shape=(), dtype=float32, numpy=6.0>"
      ]
     },
     "execution_count": 9,
     "metadata": {},
     "output_type": "execute_result"
    }
   ],
   "source": [
    "input_const = tf.constant(3.)\n",
    "with tf.GradientTape() as tape:\n",
    "   tape.watch(input_const)\n",
    "   result = tf.square(input_const)\n",
    "gradient = tape.gradient(result, input_const)\n",
    "gradient"
   ]
  },
  {
   "cell_type": "markdown",
   "id": "bc3fd57e",
   "metadata": {},
   "source": [
    "## 微分兩次"
   ]
  },
  {
   "cell_type": "code",
   "execution_count": 10,
   "id": "6a2da40d",
   "metadata": {},
   "outputs": [
    {
     "data": {
      "text/plain": [
       "(<tf.Tensor: shape=(), dtype=float32, numpy=19.6>,\n",
       " <tf.Tensor: shape=(), dtype=float32, numpy=9.8>)"
      ]
     },
     "execution_count": 10,
     "metadata": {},
     "output_type": "execute_result"
    }
   ],
   "source": [
    "time = tf.Variable(2.)\n",
    "with tf.GradientTape() as outer_tape:\n",
    "    with tf.GradientTape() as inner_tape:\n",
    "        position =  4.9 * time ** 2\n",
    "    speed = inner_tape.gradient(position, time) # x=2 4.9x\n",
    "acceleration = outer_tape.gradient(speed, time) # x=2 9.8\n",
    "speed,acceleration"
   ]
  },
  {
   "cell_type": "markdown",
   "id": "e67fda44",
   "metadata": {},
   "source": [
    "看不懂"
   ]
  },
  {
   "cell_type": "code",
   "execution_count": 11,
   "id": "0ebd6063",
   "metadata": {},
   "outputs": [
    {
     "data": {
      "text/plain": [
       "((1000, 2),\n",
       " array([[-0.37992732,  2.73035013],\n",
       "        [ 0.23031991,  3.86017262],\n",
       "        [ 0.86659707,  4.7011336 ],\n",
       "        ...,\n",
       "        [ 1.23120685,  2.59660984],\n",
       "        [ 0.01603834,  2.47815996],\n",
       "        [-0.75870241,  1.83576643]]),\n",
       " array([[ 2.2450928 ,  0.08741382],\n",
       "        [ 3.0618157 , -0.473993  ],\n",
       "        [ 3.78750585, -1.07665008],\n",
       "        ...,\n",
       "        [ 1.01023278,  0.33267341],\n",
       "        [ 2.83689312,  0.20127497],\n",
       "        [ 1.69118874, -2.54839017]]))"
      ]
     },
     "execution_count": 11,
     "metadata": {},
     "output_type": "execute_result"
    }
   ],
   "source": [
    "num_samples_per_class = 1000\n",
    "negative_samples = np.random.multivariate_normal(\n",
    "    mean=[0, 3],\n",
    "    cov=[[1, 0.5],[0.5, 1]],\n",
    "    size=num_samples_per_class)\n",
    "positive_samples = np.random.multivariate_normal(\n",
    "    mean=[3, 0],\n",
    "    cov=[[1, 0.5],[0.5, 1]],\n",
    "    size=num_samples_per_class)\n",
    "negative_samples.shape,negative_samples,positive_samples"
   ]
  },
  {
   "cell_type": "markdown",
   "id": "6ba9ac30",
   "metadata": {},
   "source": [
    "## merge two array v1.push_back(v2)"
   ]
  },
  {
   "cell_type": "code",
   "execution_count": 12,
   "id": "1c2ba4bb",
   "metadata": {},
   "outputs": [
    {
     "name": "stdout",
     "output_type": "stream",
     "text": [
      "input size:(2000, 2)\n",
      "input data:[[-0.3799273   2.73035   ]\n",
      " [ 0.23031992  3.8601725 ]\n",
      " [ 0.86659706  4.7011337 ]\n",
      " ...\n",
      " [ 1.0102328   0.3326734 ]\n",
      " [ 2.836893    0.20127496]\n",
      " [ 1.6911887  -2.5483902 ]]\n",
      "\n",
      "[[0.]\n",
      " [0.]\n",
      " [0.]\n",
      " ...\n",
      " [1.]\n",
      " [1.]\n",
      " [1.]]\n"
     ]
    }
   ],
   "source": [
    "inputs = np.vstack((negative_samples, positive_samples)).astype(np.float32)\n",
    "print(f'input size:{inputs.shape}\\ninput data:{inputs}\\n')\n",
    "targets = np.vstack((np.zeros((num_samples_per_class, 1), dtype=\"float32\"),\n",
    "                     np.ones((num_samples_per_class, 1), dtype=\"float32\")))\n",
    "print(targets)"
   ]
  },
  {
   "cell_type": "code",
   "execution_count": 13,
   "id": "1c0ddf8b",
   "metadata": {},
   "outputs": [
    {
     "data": {
      "image/png": "[encoded data removed]",
      "text/plain": [
       "<Figure size 432x288 with 1 Axes>"
      ]
     },
     "metadata": {
      "needs_background": "light"
     },
     "output_type": "display_data"
    }
   ],
   "source": [
    "import matplotlib.pyplot as plt\n",
    "plt.scatter(inputs[:, 0], inputs[:, 1], c=targets[:, 0])\n",
    "plt.show()\n",
    "# inputs[:,0] --> col=0 的所有row \n",
    "# inputs[:,1] --> col=1 的所有row\n",
    "# c=targets[:, 0] 兩個顏色 c=color"
   ]
  },
  {
   "cell_type": "code",
   "execution_count": 14,
   "id": "279183c6",
   "metadata": {},
   "outputs": [
    {
     "data": {
      "text/plain": [
       "(TensorShape([1]), TensorShape([2, 1]))"
      ]
     },
     "execution_count": 14,
     "metadata": {},
     "output_type": "execute_result"
    }
   ],
   "source": [
    "input_dim = 2\n",
    "output_dim = 1\n",
    "W = tf.Variable(initial_value=tf.random.uniform(shape=(input_dim, output_dim)))\n",
    "b = tf.Variable(initial_value=tf.zeros(shape=(output_dim,)))\n",
    "c = tf.Variable(initial_value=tf.zeros(shape=(output_dim)))\n",
    "b.shape,W.shape"
   ]
  },
  {
   "cell_type": "markdown",
   "id": "01405d59",
   "metadata": {},
   "source": [
    "## 創建linear model \n",
    "* 只有一層Wx+b  \n",
    "* loss=MSE  \n"
   ]
  },
  {
   "cell_type": "code",
   "execution_count": 15,
   "id": "36b56f1e",
   "metadata": {},
   "outputs": [
    {
     "name": "stdout",
     "output_type": "stream",
     "text": [
      "Loss at step 0: 0.3162\n",
      "Loss at step 1: 0.1220\n",
      "Loss at step 2: 0.0954\n",
      "Loss at step 3: 0.0872\n",
      "Loss at step 4: 0.0817\n",
      "Loss at step 5: 0.0770\n",
      "Loss at step 6: 0.0726\n",
      "Loss at step 7: 0.0687\n",
      "Loss at step 8: 0.0650\n",
      "Loss at step 9: 0.0617\n",
      "Loss at step 10: 0.0587\n",
      "Loss at step 11: 0.0559\n",
      "Loss at step 12: 0.0534\n",
      "Loss at step 13: 0.0510\n",
      "Loss at step 14: 0.0489\n",
      "Loss at step 15: 0.0470\n",
      "Loss at step 16: 0.0452\n",
      "Loss at step 17: 0.0436\n",
      "Loss at step 18: 0.0421\n",
      "Loss at step 19: 0.0408\n",
      "Loss at step 20: 0.0395\n",
      "Loss at step 21: 0.0384\n",
      "Loss at step 22: 0.0373\n",
      "Loss at step 23: 0.0364\n",
      "Loss at step 24: 0.0355\n",
      "Loss at step 25: 0.0347\n",
      "Loss at step 26: 0.0340\n",
      "Loss at step 27: 0.0333\n",
      "Loss at step 28: 0.0327\n",
      "Loss at step 29: 0.0322\n",
      "Loss at step 30: 0.0317\n",
      "Loss at step 31: 0.0312\n",
      "Loss at step 32: 0.0308\n",
      "Loss at step 33: 0.0304\n",
      "Loss at step 34: 0.0301\n",
      "Loss at step 35: 0.0297\n",
      "Loss at step 36: 0.0294\n",
      "Loss at step 37: 0.0292\n",
      "Loss at step 38: 0.0289\n",
      "Loss at step 39: 0.0287\n"
     ]
    },
    {
     "data": {
      "image/png": "[encoded data removed]",
      "text/plain": [
       "<Figure size 432x288 with 1 Axes>"
      ]
     },
     "metadata": {
      "needs_background": "light"
     },
     "output_type": "display_data"
    }
   ],
   "source": [
    "def model(inputs):\n",
    "    return tf.matmul(inputs, W) + b\n",
    "\n",
    "def square_loss(targets, predictions):\n",
    "    per_sample_losses = tf.square(targets - predictions)\n",
    "    return tf.reduce_mean(per_sample_losses)\n",
    "\n",
    "learning_rate = 0.1\n",
    "\n",
    "def training_step(inputs, targets):\n",
    "    with tf.GradientTape() as tape:\n",
    "        predictions = model(inputs)\n",
    "        loss = square_loss(targets, predictions)\n",
    "    grad_loss_wrt_W, grad_loss_wrt_b = tape.gradient(loss, [W, b])\n",
    "    W.assign_sub(grad_loss_wrt_W * learning_rate)\n",
    "    b.assign_sub(grad_loss_wrt_b * learning_rate)\n",
    "    return loss\n",
    "\n",
    "for step in range(40):\n",
    "    loss = training_step(inputs, targets)\n",
    "    print(f\"Loss at step {step}: {loss:.4f}\")\n",
    "\n",
    "predictions = model(inputs)\n",
    "plt.scatter(inputs[:, 0], inputs[:, 1], c=predictions[:, 0] > 0.5)\n",
    "plt.show()\n",
    "\n"
   ]
  },
  {
   "cell_type": "code",
   "execution_count": 16,
   "id": "039fbccf",
   "metadata": {},
   "outputs": [
    {
     "data": {
      "text/plain": [
       "<matplotlib.collections.PathCollection at 0x13fc9956c40>"
      ]
     },
     "execution_count": 16,
     "metadata": {},
     "output_type": "execute_result"
    },
    {
     "data": {
      "image/png": "[encoded data removed]",
      "text/plain": [
       "<Figure size 432x288 with 1 Axes>"
      ]
     },
     "metadata": {
      "needs_background": "light"
     },
     "output_type": "display_data"
    }
   ],
   "source": [
    "x = np.linspace(-1, 4, 100)\n",
    "y = - W[0] /  W[1] * x + (0.5 - b) / W[1]\n",
    "plt.plot(x, y, \"-r\")\n",
    "plt.scatter(inputs[:, 0], inputs[:, 1], c=predictions[:, 0] > 0.5)"
   ]
  },
  {
   "cell_type": "markdown",
   "id": "ee808b3b",
   "metadata": {},
   "source": [
    "# 自己打造neural network"
   ]
  },
  {
   "cell_type": "code",
   "execution_count": 17,
   "id": "79ae5ae8",
   "metadata": {},
   "outputs": [],
   "source": [
    "from tensorflow import keras\n",
    "\n",
    "class SimpleDense(keras.layers.Layer):\n",
    "\n",
    "    def __init__(self, units, activation=None):\n",
    "        super().__init__()\n",
    "        self.units = units\n",
    "        self.activation = activation\n",
    "\n",
    "    def build(self, input_shape):\n",
    "        input_dim = input_shape[-1]\n",
    "        self.W = self.add_weight(shape=(input_dim, self.units),\n",
    "                                 initializer=\"random_normal\")\n",
    "        self.b = self.add_weight(shape=(self.units,),\n",
    "                                 initializer=\"zeros\")\n",
    "\n",
    "    def call(self, inputs):\n",
    "        y = tf.matmul(inputs, self.W) + self.b\n",
    "        if self.activation is not None:\n",
    "            y = self.activation(y)\n",
    "        return y"
   ]
  },
  {
   "cell_type": "code",
   "execution_count": 18,
   "id": "29a81eea",
   "metadata": {},
   "outputs": [
    {
     "name": "stdout",
     "output_type": "stream",
     "text": [
      "(2, 32)\n"
     ]
    }
   ],
   "source": [
    "my_dense = SimpleDense(units=32, activation=tf.nn.relu)\n",
    "input_tensor = tf.ones(shape=(2, 784))\n",
    "output_tensor = my_dense(input_tensor)\n",
    "print(output_tensor.shape)"
   ]
  },
  {
   "cell_type": "markdown",
   "id": "67498dcd",
   "metadata": {},
   "source": [
    "# 使用keras API"
   ]
  },
  {
   "cell_type": "code",
   "execution_count": 19,
   "id": "d6754579",
   "metadata": {},
   "outputs": [],
   "source": [
    "from tensorflow.keras import layers\n",
    "layer = layers.Dense(32, activation=\"relu\")\n",
    "from tensorflow.keras import models\n",
    "from tensorflow.keras import layers\n",
    "model = models.Sequential([\n",
    "    layers.Dense(32, activation=\"relu\"),\n",
    "    layers.Dense(32)\n",
    "])\n",
    "\n",
    "model = keras.Sequential([\n",
    "    SimpleDense(32, activation=\"relu\"),\n",
    "    SimpleDense(64, activation=\"relu\"),\n",
    "    SimpleDense(32, activation=\"relu\"),\n",
    "    SimpleDense(10, activation=\"softmax\")\n",
    "])\n",
    "\n"
   ]
  },
  {
   "cell_type": "markdown",
   "id": "53643b4b",
   "metadata": {},
   "source": [
    "# layers --> models"
   ]
  },
  {
   "cell_type": "code",
   "execution_count": 20,
   "id": "a8093f5e",
   "metadata": {},
   "outputs": [],
   "source": [
    "model = keras.Sequential([keras.layers.Dense(1)])\n",
    "model.compile(optimizer=\"rmsprop\",\n",
    "              loss=\"mean_squared_error\",\n",
    "              metrics=[\"accuracy\"])\n",
    "\n",
    "model.compile(optimizer=keras.optimizers.RMSprop(),\n",
    "              loss=keras.losses.MeanSquaredError(),\n",
    "              metrics=[keras.metrics.BinaryAccuracy()])"
   ]
  },
  {
   "cell_type": "code",
   "execution_count": 21,
   "id": "971aaa1f",
   "metadata": {},
   "outputs": [
    {
     "name": "stdout",
     "output_type": "stream",
     "text": [
      "Epoch 1/5\n",
      "16/16 [==============================] - 0s 2ms/step - loss: 11.2004 - binary_accuracy: 0.0884\n",
      "Epoch 2/5\n",
      "16/16 [==============================] - 0s 1ms/step - loss: 10.5771 - binary_accuracy: 0.1051\n",
      "Epoch 3/5\n",
      "16/16 [==============================] - 0s 1ms/step - loss: 10.2669 - binary_accuracy: 0.1043\n",
      "Epoch 4/5\n",
      "16/16 [==============================] - 0s 2ms/step - loss: 10.6133 - binary_accuracy: 0.0984\n",
      "Epoch 5/5\n",
      "16/16 [==============================] - 0s 2ms/step - loss: 9.7736 - binary_accuracy: 0.1130\n"
     ]
    },
    {
     "data": {
      "text/plain": [
       "{'loss': [11.26073169708252,\n",
       "  10.864363670349121,\n",
       "  10.529621124267578,\n",
       "  10.211675643920898,\n",
       "  9.896231651306152],\n",
       " 'binary_accuracy': [0.09849999845027924,\n",
       "  0.10050000250339508,\n",
       "  0.10300000011920929,\n",
       "  0.10450000315904617,\n",
       "  0.10750000178813934]}"
      ]
     },
     "execution_count": 21,
     "metadata": {},
     "output_type": "execute_result"
    }
   ],
   "source": [
    "history = model.fit(\n",
    "    inputs,\n",
    "    targets,\n",
    "    epochs=5,\n",
    "    batch_size=128\n",
    ")\n",
    "history.history"
   ]
  },
  {
   "cell_type": "markdown",
   "id": "dec33553",
   "metadata": {},
   "source": [
    "# Monitoring loss and metrics on validation data"
   ]
  },
  {
   "cell_type": "code",
   "execution_count": 22,
   "id": "ecc614e5",
   "metadata": {},
   "outputs": [
    {
     "name": "stdout",
     "output_type": "stream",
     "text": [
      "Epoch 1/5\n",
      "88/88 [==============================] - 1s 13ms/step - loss: 0.3245 - binary_accuracy: 0.9299 - val_loss: 0.0307 - val_binary_accuracy: 0.9967\n",
      "Epoch 2/5\n",
      "88/88 [==============================] - 0s 3ms/step - loss: 0.0670 - binary_accuracy: 0.9609 - val_loss: 0.0279 - val_binary_accuracy: 0.9967\n",
      "Epoch 3/5\n",
      "88/88 [==============================] - 0s 3ms/step - loss: 0.0627 - binary_accuracy: 0.9679 - val_loss: 0.1328 - val_binary_accuracy: 0.8617\n",
      "Epoch 4/5\n",
      "88/88 [==============================] - 0s 3ms/step - loss: 0.0801 - binary_accuracy: 0.9324 - val_loss: 0.1492 - val_binary_accuracy: 0.8567\n",
      "Epoch 5/5\n",
      "88/88 [==============================] - 0s 2ms/step - loss: 0.0887 - binary_accuracy: 0.9353 - val_loss: 0.0268 - val_binary_accuracy: 0.9983\n"
     ]
    },
    {
     "data": {
      "text/plain": [
       "<tensorflow.python.keras.callbacks.History at 0x1413dd78fd0>"
      ]
     },
     "execution_count": 22,
     "metadata": {},
     "output_type": "execute_result"
    }
   ],
   "source": [
    "model = keras.Sequential([keras.layers.Dense(1)])\n",
    "model.compile(optimizer=keras.optimizers.RMSprop(learning_rate=0.1),\n",
    "              loss=keras.losses.MeanSquaredError(),\n",
    "              metrics=[keras.metrics.BinaryAccuracy()])\n",
    "\n",
    "indices_permutation = np.random.permutation(len(inputs))\n",
    "shuffled_inputs = inputs[indices_permutation]\n",
    "shuffled_targets = targets[indices_permutation]\n",
    "\n",
    "num_validation_samples = int(0.3 * len(inputs))\n",
    "val_inputs = shuffled_inputs[:num_validation_samples]\n",
    "val_targets = shuffled_targets[:num_validation_samples]\n",
    "training_inputs = shuffled_inputs[num_validation_samples:]\n",
    "training_targets = shuffled_targets[num_validation_samples:]\n",
    "model.fit(\n",
    "    training_inputs,\n",
    "    training_targets,\n",
    "    epochs=5,\n",
    "    batch_size=16,\n",
    "    validation_data=(val_inputs, val_targets)\n",
    ")"
   ]
  },
  {
   "cell_type": "code",
   "execution_count": 23,
   "id": "323e7a1d",
   "metadata": {},
   "outputs": [
    {
     "name": "stdout",
     "output_type": "stream",
     "text": [
      "[[-0.09837961]\n",
      " [ 0.9563551 ]\n",
      " [-0.10432082]\n",
      " [-0.01415879]\n",
      " [ 0.34145898]\n",
      " [ 0.8959993 ]\n",
      " [ 0.11169234]\n",
      " [ 0.9651066 ]\n",
      " [ 0.05598187]\n",
      " [ 0.3265876 ]]\n"
     ]
    }
   ],
   "source": [
    "predictions = model.predict(val_inputs, batch_size=128)\n",
    "print(predictions[:10])"
   ]
  },
  {
   "cell_type": "code",
   "execution_count": 29,
   "id": "faf4dfe4",
   "metadata": {},
   "outputs": [
    {
     "name": "stdout",
     "output_type": "stream",
     "text": [
      "Model: \"sequential_3\"\n",
      "_________________________________________________________________\n",
      "Layer (type)                 Output Shape              Param #   \n",
      "=================================================================\n",
      "dense_4 (Dense)              (None, 1)                 3         \n",
      "=================================================================\n",
      "Total params: 3\n",
      "Trainable params: 3\n",
      "Non-trainable params: 0\n",
      "_________________________________________________________________\n"
     ]
    },
    {
     "data": {
      "image/png": "[encoded data removed]",
      "text/plain": [
       "<IPython.core.display.Image object>"
      ]
     },
     "execution_count": 29,
     "metadata": {},
     "output_type": "execute_result"
    }
   ],
   "source": [
    "from tensorflow.keras.utils import plot_model\n",
    "model.summary()\n",
    "\n",
    "plot_model(model, \n",
    "    show_shapes= True,\n",
    "    expand_nested=True\n",
    ")\n",
    "# plot_model??"
   ]
  },
  {
   "cell_type": "code",
   "execution_count": null,
   "id": "1a20ff57",
   "metadata": {},
   "outputs": [],
   "source": []
  }
 ],
 "metadata": {
  "kernelspec": {
   "display_name": "Python 3 (ipykernel)",
   "language": "python",
   "name": "python3"
  },
  "language_info": {
   "codemirror_mode": {
    "name": "ipython",
    "version": 3
   },
   "file_extension": ".py",
   "mimetype": "text/x-python",
   "name": "python",
   "nbconvert_exporter": "python",
   "pygments_lexer": "ipython3",
   "version": "3.8.13"
  },
  "vscode": {
   "interpreter": {
    "hash": "a5980b3a08a94ca7d4924634a4e2ea7a5238b35723e0e305f23d28d43ee7ce05"
   }
  }
 },
 "nbformat": 4,
 "nbformat_minor": 5
}
