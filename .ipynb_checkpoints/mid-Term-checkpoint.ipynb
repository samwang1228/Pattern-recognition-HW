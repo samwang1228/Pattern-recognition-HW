{
 "cells": [
  {
   "cell_type": "code",
   "execution_count": 32,
   "id": "f574937d",
   "metadata": {},
   "outputs": [],
   "source": [
    "from tensorflow.keras.datasets import mnist\n",
    "((trn_images, trn_labels), \n",
    " (tst_images, tst_labels))=  mnist.load_data()"
   ]
  },
  {
   "cell_type": "code",
   "execution_count": 33,
   "id": "53869802",
   "metadata": {},
   "outputs": [
    {
     "data": {
      "text/plain": [
       "47040000"
      ]
     },
     "execution_count": 33,
     "metadata": {},
     "output_type": "execute_result"
    }
   ],
   "source": [
    "trn_images.nbytes"
   ]
  },
  {
   "cell_type": "code",
   "execution_count": 7,
   "id": "f067efa2",
   "metadata": {},
   "outputs": [
    {
     "data": {
      "text/plain": [
       "array([5, 0, 4, 1, 9, 2, 1, 3, 1, 4], dtype=uint8)"
      ]
     },
     "execution_count": 7,
     "metadata": {},
     "output_type": "execute_result"
    }
   ],
   "source": [
    "trn_labels[:10]\n"
   ]
  },
  {
   "cell_type": "code",
   "execution_count": 10,
   "id": "6d2ab562",
   "metadata": {},
   "outputs": [
    {
     "data": {
      "text/plain": [
       "array([9, 2, 9, 5, 1, 8, 3, 5, 6, 8], dtype=uint8)"
      ]
     },
     "execution_count": 10,
     "metadata": {},
     "output_type": "execute_result"
    }
   ],
   "source": [
    "trn_labels[-10:]"
   ]
  },
  {
   "cell_type": "code",
   "execution_count": 12,
   "id": "4e4ccc54",
   "metadata": {},
   "outputs": [
    {
     "data": {
      "text/plain": [
       "(3, (60000, 28, 28))"
      ]
     },
     "execution_count": 12,
     "metadata": {},
     "output_type": "execute_result"
    }
   ],
   "source": [
    "trn_images.ndim,trn_images.shape"
   ]
  },
  {
   "cell_type": "code",
   "execution_count": 39,
   "id": "d7031c56",
   "metadata": {},
   "outputs": [],
   "source": [
    "from tensorflow import keras\n",
    "from tensorflow.keras import layers\n",
    "\n",
    "model= keras.Sequential([\n",
    "    keras.Input(28*28), # 28*28 == 784\n",
    "    layers.Dense(100, \n",
    "                 activation=\"relu\"),\n",
    "    layers.Dense(10,\n",
    "                 activation=\"softmax\")\n",
    "])"
   ]
  },
  {
   "cell_type": "code",
   "execution_count": 23,
   "id": "6036ac35",
   "metadata": {},
   "outputs": [
    {
     "name": "stdout",
     "output_type": "stream",
     "text": [
      "Model: \"sequential_1\"\n",
      "_________________________________________________________________\n",
      " Layer (type)                Output Shape              Param #   \n",
      "=================================================================\n",
      " dense_2 (Dense)             (None, 100)               78500     \n",
      "                                                                 \n",
      " dense_3 (Dense)             (None, 10)                1010      \n",
      "                                                                 \n",
      "=================================================================\n",
      "Total params: 79,510\n",
      "Trainable params: 79,510\n",
      "Non-trainable params: 0\n",
      "_________________________________________________________________\n"
     ]
    }
   ],
   "source": [
    "model.summary()"
   ]
  },
  {
   "cell_type": "code",
   "execution_count": 24,
   "id": "378b8005",
   "metadata": {},
   "outputs": [
    {
     "name": "stdout",
     "output_type": "stream",
     "text": [
      "00(784, 100)\n",
      "01(100,)\n",
      "10(100, 10)\n",
      "11(10,)\n"
     ]
    }
   ],
   "source": [
    "print(f'00{model.layers[0].weights[0].shape}')\n",
    "print(f'01{model.layers[0].weights[1].shape}')\n",
    "print(f'10{model.layers[1].weights[0].shape}')\n",
    "print(f'11{model.layers[1].weights[1].shape}') "
   ]
  },
  {
   "cell_type": "code",
   "execution_count": 41,
   "id": "7421d5c4",
   "metadata": {},
   "outputs": [],
   "source": [
    "model.compile(\n",
    "    loss=\"sparse_categorical_crossentropy\",\n",
    "    metrics= ['accuracy']\n",
    ")"
   ]
  },
  {
   "cell_type": "markdown",
   "id": "a8a0c915",
   "metadata": {},
   "source": [
    "# before model.fit()"
   ]
  },
  {
   "cell_type": "code",
   "execution_count": 42,
   "id": "88ad60b6",
   "metadata": {},
   "outputs": [
    {
     "name": "stdout",
     "output_type": "stream",
     "text": [
      "32/32 [==============================] - 0s 2ms/step - loss: 183.0529 - accuracy: 0.0920\n"
     ]
    }
   ],
   "source": [
    "tst_images= tst_images.reshape((-1, 28*28))\n",
    "\n",
    "result= model.evaluate(\n",
    "    tst_images[0:1000], \n",
    "    tst_labels[0:1000]\n",
    ")"
   ]
  },
  {
   "cell_type": "code",
   "execution_count": 34,
   "id": "0f70a86b",
   "metadata": {},
   "outputs": [],
   "source": [
    "trn_images= trn_images.reshape((-1, 28*28))"
   ]
  },
  {
   "cell_type": "code",
   "execution_count": 43,
   "id": "75e017af",
   "metadata": {},
   "outputs": [
    {
     "name": "stdout",
     "output_type": "stream",
     "text": [
      "Epoch 1/2\n",
      "1875/1875 [==============================] - 4s 2ms/step - loss: 2.2288 - accuracy: 0.8544\n",
      "Epoch 2/2\n",
      "1875/1875 [==============================] - 3s 2ms/step - loss: 0.5882 - accuracy: 0.9211\n"
     ]
    },
    {
     "data": {
      "text/plain": [
       "<keras.callbacks.History at 0x228e1556f40>"
      ]
     },
     "execution_count": 43,
     "metadata": {},
     "output_type": "execute_result"
    }
   ],
   "source": [
    "model.compile(\n",
    "    loss=\"sparse_categorical_crossentropy\",\n",
    "    metrics= ['accuracy']\n",
    ")\n",
    "\n",
    "model.fit(trn_images, \n",
    "          trn_labels, \n",
    "          epochs= 2)"
   ]
  },
  {
   "cell_type": "markdown",
   "id": "3827222c",
   "metadata": {},
   "source": [
    "# 1.9 after model.fit()"
   ]
  },
  {
   "cell_type": "code",
   "execution_count": 44,
   "id": "e4f16eb5",
   "metadata": {},
   "outputs": [
    {
     "name": "stdout",
     "output_type": "stream",
     "text": [
      "32/32 [==============================] - 0s 2ms/step - loss: 0.4290 - accuracy: 0.9200\n"
     ]
    }
   ],
   "source": [
    "tst_images= tst_images.reshape((-1, 28*28))\n",
    "\n",
    "result= model.evaluate(\n",
    "    tst_images[0:1000], \n",
    "    tst_labels[0:1000]\n",
    ")"
   ]
  },
  {
   "cell_type": "code",
   "execution_count": 45,
   "id": "0ef6bd19",
   "metadata": {},
   "outputs": [
    {
     "data": {
      "text/plain": [
       "0.8280000000000001"
      ]
     },
     "execution_count": 45,
     "metadata": {},
     "output_type": "execute_result"
    }
   ],
   "source": [
    "0.92-0.092"
   ]
  },
  {
   "cell_type": "markdown",
   "id": "c0de14d3",
   "metadata": {},
   "source": [
    "# 1.10 10 epochs"
   ]
  },
  {
   "cell_type": "code",
   "execution_count": 46,
   "id": "ed059916",
   "metadata": {},
   "outputs": [
    {
     "name": "stdout",
     "output_type": "stream",
     "text": [
      "Epoch 1/10\n",
      "1875/1875 [==============================] - 4s 2ms/step - loss: 0.4932 - accuracy: 0.9371\n",
      "Epoch 2/10\n",
      "1875/1875 [==============================] - 4s 2ms/step - loss: 0.4497 - accuracy: 0.9438\n",
      "Epoch 3/10\n",
      "1875/1875 [==============================] - 3s 2ms/step - loss: 0.4312 - accuracy: 0.9488\n",
      "Epoch 4/10\n",
      "1875/1875 [==============================] - 4s 2ms/step - loss: 0.3926 - accuracy: 0.9535\n",
      "Epoch 5/10\n",
      "1875/1875 [==============================] - 4s 2ms/step - loss: 0.3941 - accuracy: 0.9558\n",
      "Epoch 6/10\n",
      "1875/1875 [==============================] - 3s 2ms/step - loss: 0.3818 - accuracy: 0.9582\n",
      "Epoch 7/10\n",
      "1875/1875 [==============================] - 3s 2ms/step - loss: 0.3587 - accuracy: 0.9604\n",
      "Epoch 8/10\n",
      "1875/1875 [==============================] - 3s 2ms/step - loss: 0.3540 - accuracy: 0.9626\n",
      "Epoch 9/10\n",
      "1875/1875 [==============================] - 4s 2ms/step - loss: 0.3300 - accuracy: 0.9631\n",
      "Epoch 10/10\n",
      "1875/1875 [==============================] - 4s 2ms/step - loss: 0.3352 - accuracy: 0.9655\n"
     ]
    },
    {
     "data": {
      "text/plain": [
       "<keras.callbacks.History at 0x228ea336b20>"
      ]
     },
     "execution_count": 46,
     "metadata": {},
     "output_type": "execute_result"
    }
   ],
   "source": [
    "model.fit(trn_images, \n",
    "          trn_labels, \n",
    "          epochs= 10)"
   ]
  },
  {
   "cell_type": "code",
   "execution_count": 47,
   "id": "b900d8ad",
   "metadata": {},
   "outputs": [
    {
     "name": "stdout",
     "output_type": "stream",
     "text": [
      "32/32 [==============================] - 0s 2ms/step - loss: 0.6005 - accuracy: 0.9510\n"
     ]
    }
   ],
   "source": [
    "result= model.evaluate(\n",
    "    tst_images[0:1000], \n",
    "    tst_labels[0:1000]\n",
    ")"
   ]
  },
  {
   "cell_type": "code",
   "execution_count": null,
   "id": "7ff41100",
   "metadata": {},
   "outputs": [],
   "source": []
  },
  {
   "cell_type": "code",
   "execution_count": null,
   "id": "2dff9642",
   "metadata": {},
   "outputs": [],
   "source": []
  },
  {
   "cell_type": "markdown",
   "id": "7cf01d1e",
   "metadata": {},
   "source": [
    "# 3"
   ]
  },
  {
   "cell_type": "code",
   "execution_count": 48,
   "id": "0db755a6",
   "metadata": {},
   "outputs": [
    {
     "name": "stdout",
     "output_type": "stream",
     "text": [
      "Epoch 1/10\n",
      "1875/1875 [==============================] - 5s 3ms/step - loss: 0.7042 - accuracy: 0.7808\n",
      "Epoch 2/10\n",
      "1875/1875 [==============================] - 5s 3ms/step - loss: 0.4073 - accuracy: 0.8776\n",
      "Epoch 3/10\n",
      "1875/1875 [==============================] - 5s 3ms/step - loss: 0.3571 - accuracy: 0.8937\n",
      "Epoch 4/10\n",
      "1875/1875 [==============================] - 5s 3ms/step - loss: 0.3233 - accuracy: 0.9032\n",
      "Epoch 5/10\n",
      "1875/1875 [==============================] - 5s 3ms/step - loss: 0.2866 - accuracy: 0.9151\n",
      "Epoch 6/10\n",
      "1875/1875 [==============================] - 5s 3ms/step - loss: 0.2677 - accuracy: 0.9209\n",
      "Epoch 7/10\n",
      "1875/1875 [==============================] - 5s 3ms/step - loss: 0.2570 - accuracy: 0.9235\n",
      "Epoch 8/10\n",
      "1875/1875 [==============================] - 5s 3ms/step - loss: 0.2502 - accuracy: 0.9262\n",
      "Epoch 9/10\n",
      "1875/1875 [==============================] - 5s 2ms/step - loss: 0.2334 - accuracy: 0.9312\n",
      "Epoch 10/10\n",
      "1875/1875 [==============================] - 5s 2ms/step - loss: 0.2276 - accuracy: 0.9325\n"
     ]
    },
    {
     "data": {
      "text/plain": [
       "<keras.callbacks.History at 0x228ea6babe0>"
      ]
     },
     "execution_count": 48,
     "metadata": {},
     "output_type": "execute_result"
    }
   ],
   "source": [
    "x=  keras.Input(shape=(28*28,), name=\"x\")\n",
    "\n",
    "h1= layers.Dense(50, activation=\"relu\",    name='h1')(x)\n",
    "h2= layers.Dense(50, activation=\"sigmoid\", name='h2')(x)\n",
    "h12=layers.Concatenate(name='h12')([h1,h2])\n",
    "\n",
    "h3= layers.Dense(50, activation=\"tanh\",    name='h3')(h12)\n",
    "y=  layers.Dense(10,  activation=\"softmax\", name='y')(h3)\n",
    "\n",
    "model= keras.Model(\n",
    "    inputs=  x, \n",
    "    outputs= y)\n",
    "\n",
    "model.compile(\n",
    "    loss=\"sparse_categorical_crossentropy\",\n",
    "    metrics= ['accuracy']\n",
    ")\n",
    "\n",
    "model.fit(trn_images, \n",
    "          trn_labels, \n",
    "          epochs= 10)"
   ]
  },
  {
   "cell_type": "code",
   "execution_count": 52,
   "id": "23fbd110",
   "metadata": {},
   "outputs": [
    {
     "name": "stdout",
     "output_type": "stream",
     "text": [
      "You must install pydot (`pip install pydot`) and install graphviz (see instructions at https://graphviz.gitlab.io/download/) for plot_model/model_to_dot to work.\n"
     ]
    }
   ],
   "source": [
    "from tensorflow.keras.utils import plot_model\n",
    "plot_model(model, \n",
    "    show_shapes= True, \n",
    "    show_layer_activations= True)"
   ]
  },
  {
   "cell_type": "code",
   "execution_count": null,
   "id": "a5abf077",
   "metadata": {},
   "outputs": [],
   "source": []
  }
 ],
 "metadata": {
  "kernelspec": {
   "display_name": "Python 3 (ipykernel)",
   "language": "python",
   "name": "python3"
  },
  "language_info": {
   "codemirror_mode": {
    "name": "ipython",
    "version": 3
   },
   "file_extension": ".py",
   "mimetype": "text/x-python",
   "name": "python",
   "nbconvert_exporter": "python",
   "pygments_lexer": "ipython3",
   "version": "3.8.13"
  }
 },
 "nbformat": 4,
 "nbformat_minor": 5
}
