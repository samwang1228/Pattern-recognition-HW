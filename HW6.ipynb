{
 "cells": [
  {
   "cell_type": "markdown",
   "metadata": {},
   "source": [
    "# B0829011 王紹丞HW6"
   ]
  },
  {
   "cell_type": "markdown",
   "metadata": {
    "id": "P7itMEtqQFLK"
   },
   "source": [
    "## [函數式API](https://keras.io/guides/functional_api/)\n",
    "\n",
    "使用Input()方法來檢立一個張量，並將張量直接傳入層(layer)或模型(model)之中，  \n",
    "取得處理後的結果張量。\n",
    "```python\n",
    "from keras import Input,layers\n",
    "\n",
    "input_tensor = Input(shape=(32,)) #建立一個輸入張量\n",
    "print(input_tensor.shape)\n",
    "\n",
    "dense = layers.Dense(16,activation='relu') #建立一個Dense層，並將其想像成一個函數\n",
    "output_tensor = dense(input_tensor) # 將張量輸入層函數，他會回傳經處理後的結果張亮\n",
    "print(output_tensor.shape)\n",
    "```"
   ]
  },
  {
   "cell_type": "markdown",
   "metadata": {
    "id": "kWlaJkQvPsuX"
   },
   "source": [
    "# 超越序列式模型\n",
    "\n",
    "* 單輸入模型\n",
    "* 多輸入模型\n",
    "* 殘差連接層(residual connections)層：透過特徵圖(張量)相加，將先前的資訊重新注入下游資料流"
   ]
  },
  {
   "cell_type": "markdown",
   "metadata": {
    "id": "NUAIZlg0SRhq"
   },
   "source": [
    "### 序列式 與 函數式 "
   ]
  },
  {
   "cell_type": "markdown",
   "metadata": {
    "id": "DOQISgnqVhgt"
   },
   "source": [
    "序列式(Sequential)建立模型  \n",
    "![pic 7-1](https://raw.githubusercontent.com/hank199599/deep_learning_keras_log/main/pictures/7-1.png)"
   ]
  },
  {
   "cell_type": "markdown",
   "metadata": {
    "colab_type": "text"
   },
   "source": [
    "# Working with Keras: A deep dive"
   ]
  },
  {
   "cell_type": "markdown",
   "metadata": {
    "colab_type": "text"
   },
   "source": [
    "## A spectrum of workflows"
   ]
  },
  {
   "cell_type": "markdown",
   "metadata": {
    "colab_type": "text"
   },
   "source": [
    "## Different ways to build Keras models"
   ]
  },
  {
   "cell_type": "markdown",
   "metadata": {
    "colab_type": "text"
   },
   "source": [
    "### The Sequential model"
   ]
  },
  {
   "cell_type": "markdown",
   "metadata": {
    "colab_type": "text"
   },
   "source": [
    "**The `Sequential` class**"
   ]
  },
  {
   "cell_type": "code",
   "execution_count": 1,
   "metadata": {
    "colab_type": "code"
   },
   "outputs": [],
   "source": [
    "from tensorflow import keras\n",
    "from tensorflow.keras import layers\n",
    "\n",
    "model = keras.Sequential([\n",
    "    layers.Dense(64, activation=\"relu\"),\n",
    "    layers.Dense(10, activation=\"softmax\")\n",
    "])"
   ]
  },
  {
   "cell_type": "markdown",
   "metadata": {
    "colab_type": "text"
   },
   "source": [
    "**Incrementally building a Sequential model**"
   ]
  },
  {
   "cell_type": "code",
   "execution_count": 2,
   "metadata": {
    "colab_type": "code"
   },
   "outputs": [],
   "source": [
    "model = keras.Sequential()\n",
    "model.add(layers.Dense(64, activation=\"relu\"))\n",
    "model.add(layers.Dense(10, activation=\"softmax\"))"
   ]
  },
  {
   "cell_type": "markdown",
   "metadata": {
    "colab_type": "text"
   },
   "source": [
    "**Calling a model for the first time to build it**"
   ]
  },
  {
   "cell_type": "code",
   "execution_count": 3,
   "metadata": {
    "colab_type": "code"
   },
   "outputs": [
    {
     "data": {
      "text/plain": [
       "[<tf.Variable 'dense_2/kernel:0' shape=(3, 64) dtype=float32, numpy=\n",
       " array([[ 0.15343621, -0.04371941, -0.10706487,  0.11899823,  0.10279033,\n",
       "         -0.06130299, -0.0249168 , -0.25058872,  0.06272474, -0.19775139,\n",
       "         -0.17574513,  0.01224566, -0.11477119, -0.11318099, -0.08671644,\n",
       "         -0.27412096,  0.24637336,  0.12298891, -0.03870684, -0.11025833,\n",
       "         -0.06699339, -0.2702416 ,  0.10347909, -0.204947  ,  0.08763605,\n",
       "          0.21800655, -0.16516602, -0.04750556, -0.15179059, -0.25874117,\n",
       "          0.05076477, -0.25224856,  0.11720499, -0.2879623 , -0.18904829,\n",
       "          0.24888295,  0.2547794 , -0.17825198, -0.16922255, -0.10723241,\n",
       "         -0.27512047,  0.00963539, -0.14843312, -0.02951002,  0.15729511,\n",
       "         -0.07414375,  0.18340927, -0.22178227,  0.07393655, -0.22470737,\n",
       "          0.0133563 , -0.26077408, -0.2709662 ,  0.06104472, -0.15195368,\n",
       "          0.03090015,  0.09102613, -0.11274542, -0.1093293 ,  0.15652406,\n",
       "          0.08638474,  0.15494129,  0.23327577,  0.18633974],\n",
       "        [ 0.02194211, -0.14471442,  0.2929594 , -0.14836334,  0.08763114,\n",
       "          0.06729874,  0.16652149,  0.06458542,  0.15512002,  0.10312858,\n",
       "         -0.2563872 ,  0.22387838, -0.27687868,  0.2790171 ,  0.25031263,\n",
       "          0.19153318,  0.26593405,  0.01427028, -0.20936033, -0.21113552,\n",
       "         -0.24688971,  0.12678966, -0.08160026, -0.14798349, -0.21820106,\n",
       "          0.20710331, -0.19114503,  0.17254362, -0.28982383,  0.06702676,\n",
       "         -0.06170148,  0.14674175,  0.23579663, -0.19078131,  0.13252193,\n",
       "         -0.12314409, -0.26466337, -0.05832589,  0.01271182,  0.01404181,\n",
       "          0.11798012,  0.17261526,  0.00394765,  0.04612511, -0.14550602,\n",
       "          0.2598179 ,  0.24712169, -0.2564948 , -0.12152922, -0.06446482,\n",
       "         -0.25626162, -0.28568953,  0.01634842,  0.09049729, -0.06678833,\n",
       "         -0.06021895, -0.00585499, -0.13981386,  0.24096066, -0.16111477,\n",
       "          0.17536849,  0.13405725,  0.14278197, -0.18284506],\n",
       "        [-0.08526681,  0.1243453 , -0.1418581 , -0.08553158, -0.15099378,\n",
       "          0.017324  ,  0.26790023,  0.29766357, -0.25168383, -0.21850193,\n",
       "          0.08471239, -0.06059001,  0.28783232,  0.29593384,  0.17782655,\n",
       "          0.29816628,  0.13315457, -0.12083907, -0.17887871, -0.16264789,\n",
       "         -0.16837473, -0.12748352, -0.07523109,  0.29025954, -0.17955258,\n",
       "         -0.07216164,  0.02295411,  0.26582873,  0.12178257,  0.11021787,\n",
       "          0.12371701,  0.22457254, -0.12631413, -0.254251  ,  0.29176134,\n",
       "          0.08337852, -0.01992533, -0.2899678 , -0.03219754, -0.2887504 ,\n",
       "         -0.2824846 ,  0.00380653, -0.15674873, -0.23760036, -0.11276047,\n",
       "          0.14701316, -0.10985777, -0.10112406, -0.12730864,  0.0310626 ,\n",
       "         -0.19080108, -0.05732267,  0.28636944, -0.2699749 ,  0.15475714,\n",
       "          0.2214306 , -0.24772191, -0.23248231, -0.09163271,  0.25027   ,\n",
       "         -0.28839144, -0.00059959, -0.28236294,  0.27451956]],\n",
       "       dtype=float32)>,\n",
       " <tf.Variable 'dense_2/bias:0' shape=(64,) dtype=float32, numpy=\n",
       " array([0., 0., 0., 0., 0., 0., 0., 0., 0., 0., 0., 0., 0., 0., 0., 0., 0.,\n",
       "        0., 0., 0., 0., 0., 0., 0., 0., 0., 0., 0., 0., 0., 0., 0., 0., 0.,\n",
       "        0., 0., 0., 0., 0., 0., 0., 0., 0., 0., 0., 0., 0., 0., 0., 0., 0.,\n",
       "        0., 0., 0., 0., 0., 0., 0., 0., 0., 0., 0., 0., 0.], dtype=float32)>,\n",
       " <tf.Variable 'dense_3/kernel:0' shape=(64, 10) dtype=float32, numpy=\n",
       " array([[-3.96654159e-02,  4.04027402e-02,  1.76587492e-01,\n",
       "          2.25292832e-01,  6.28849566e-02, -9.42440778e-02,\n",
       "          1.37339443e-01,  1.59678757e-01,  1.31777495e-01,\n",
       "          2.46034473e-01],\n",
       "        [-7.70679414e-02, -2.34409139e-01, -2.19390720e-01,\n",
       "         -1.29934579e-01,  1.20228946e-01,  5.11853695e-02,\n",
       "          5.22004366e-02,  1.01636052e-01,  1.73756570e-01,\n",
       "         -1.84267223e-01],\n",
       "        [-9.66203958e-02, -2.77956724e-01, -1.48462266e-01,\n",
       "          2.34429926e-01, -5.73805124e-02, -2.69687623e-01,\n",
       "          2.54691452e-01,  6.32048547e-02,  1.40235931e-01,\n",
       "         -1.49154112e-01],\n",
       "        [ 2.64945656e-01, -1.71318814e-01, -1.82798654e-01,\n",
       "         -9.98207629e-02,  1.65323198e-01,  2.38604873e-01,\n",
       "         -2.61444747e-02,  7.62341321e-02, -2.81428158e-01,\n",
       "         -5.16444296e-02],\n",
       "        [-2.72363126e-01, -4.34300005e-02, -2.63630420e-01,\n",
       "          2.09125817e-01,  1.69907331e-01, -2.36754715e-01,\n",
       "         -1.67478263e-01,  1.92402571e-01,  1.31646395e-02,\n",
       "         -7.48439580e-02],\n",
       "        [-1.69597834e-01, -9.31470543e-02, -9.78022814e-04,\n",
       "         -1.70477122e-01,  1.06235325e-01, -2.61535645e-01,\n",
       "         -2.17731848e-01, -6.42997026e-02, -2.04136670e-01,\n",
       "         -1.05097160e-01],\n",
       "        [-2.81421095e-01,  4.40179706e-02, -7.98678845e-02,\n",
       "          6.79444671e-02,  2.69613832e-01, -7.31013268e-02,\n",
       "          1.36011064e-01, -1.89046547e-01,  1.16117477e-01,\n",
       "         -4.20287699e-02],\n",
       "        [-2.16003865e-01, -9.93817896e-02, -2.09301859e-01,\n",
       "          7.73415267e-02,  9.14231539e-02,  1.76448643e-01,\n",
       "          2.27937102e-03, -2.30576530e-01, -6.76355660e-02,\n",
       "          1.70617521e-01],\n",
       "        [ 1.30251139e-01, -1.86016530e-01,  1.53694004e-01,\n",
       "         -1.69194907e-01, -4.80266213e-02,  2.64898866e-01,\n",
       "         -4.73648459e-02, -1.47319481e-01, -1.61779791e-01,\n",
       "         -2.68073171e-01],\n",
       "        [-1.97853118e-01, -1.43927068e-01, -2.24041402e-01,\n",
       "         -1.45957291e-01, -1.16090238e-01,  1.71697289e-01,\n",
       "         -1.83527574e-01, -1.72172382e-01,  8.14985931e-02,\n",
       "         -1.21525094e-01],\n",
       "        [-2.73757100e-01, -1.53175667e-01,  2.67320424e-01,\n",
       "         -2.33246058e-01, -1.64309129e-01, -1.02252752e-01,\n",
       "         -4.99887615e-02, -1.37292132e-01,  9.48117673e-02,\n",
       "          4.86098528e-02],\n",
       "        [ 3.30656469e-02, -1.23710722e-01, -1.43393934e-01,\n",
       "         -2.00106889e-01, -3.02966535e-02, -6.44007176e-02,\n",
       "         -2.61955529e-01,  1.50694668e-01, -1.64292693e-01,\n",
       "         -2.36072153e-01],\n",
       "        [ 2.48150080e-01, -1.21765286e-01, -1.58962309e-02,\n",
       "         -1.25129804e-01,  3.13746631e-02, -8.69995058e-02,\n",
       "         -6.31631762e-02,  8.40467215e-02, -2.67939746e-01,\n",
       "         -3.63083631e-02],\n",
       "        [ 1.93331301e-01,  2.01999933e-01,  1.38879508e-01,\n",
       "          1.81648552e-01, -2.73508132e-02, -2.81424642e-01,\n",
       "          1.48185283e-01, -1.46210924e-01,  2.33137220e-01,\n",
       "         -1.92213565e-01],\n",
       "        [-1.66079670e-01,  2.14406699e-01, -2.15087235e-01,\n",
       "          2.78351903e-02,  1.93004489e-01, -5.49162179e-02,\n",
       "         -8.39026719e-02,  1.58727169e-04, -2.37296462e-01,\n",
       "         -2.46466368e-01],\n",
       "        [-1.52780414e-01,  1.76838517e-01, -1.31452173e-01,\n",
       "         -2.56223738e-01,  1.24414861e-02, -5.28246909e-02,\n",
       "         -2.52771556e-01,  1.96376443e-03,  2.18601555e-01,\n",
       "         -1.13398239e-01],\n",
       "        [-3.45270932e-02, -2.07938045e-01,  2.45852619e-01,\n",
       "         -1.76467389e-01, -2.23855972e-02, -2.01428294e-01,\n",
       "         -1.03897452e-02, -1.71568573e-01, -2.43094593e-01,\n",
       "         -1.46907941e-01],\n",
       "        [-2.43385732e-02,  1.31405592e-01, -1.95726290e-01,\n",
       "         -2.25117773e-01,  5.42855263e-02,  5.72974086e-02,\n",
       "         -7.14148134e-02, -1.13610327e-02, -9.44695473e-02,\n",
       "          1.43189311e-01],\n",
       "        [ 2.24836469e-02, -2.79571474e-01,  2.57627219e-01,\n",
       "         -1.70735925e-01,  2.55030781e-01, -1.25520438e-01,\n",
       "         -1.42816871e-01,  1.98616654e-01,  1.32305473e-01,\n",
       "          2.29170889e-01],\n",
       "        [-1.31041721e-01,  8.01587105e-03,  6.26606643e-02,\n",
       "          2.30265945e-01, -1.25836805e-01,  2.25174278e-01,\n",
       "          2.82987982e-01, -7.55233914e-02,  2.47400075e-01,\n",
       "          1.05817914e-02],\n",
       "        [-1.92166865e-02, -8.79718065e-02,  9.90007818e-02,\n",
       "          7.04219341e-02,  1.03128642e-01,  2.02751845e-01,\n",
       "         -1.24832720e-01, -2.24317610e-02, -2.84566879e-01,\n",
       "         -4.58201021e-02],\n",
       "        [-4.65166420e-02,  2.84395307e-01, -1.57037526e-01,\n",
       "          6.06179237e-05, -2.38497421e-01,  1.62733287e-01,\n",
       "          2.15226620e-01,  1.48940593e-01, -1.27622619e-01,\n",
       "         -1.22976303e-02],\n",
       "        [-2.08091438e-02, -1.23944879e-03, -1.19836226e-01,\n",
       "         -6.41634464e-02, -1.68281794e-01, -4.63090986e-02,\n",
       "          1.28700912e-01, -1.25003457e-01,  1.23920292e-01,\n",
       "          2.13846028e-01],\n",
       "        [-2.19374493e-01,  1.40783817e-01, -2.03867346e-01,\n",
       "          2.22206503e-01, -2.76247621e-01, -2.39410192e-01,\n",
       "         -6.75780028e-02, -2.82136708e-01, -1.71343923e-01,\n",
       "          2.66032070e-01],\n",
       "        [ 3.83929610e-02, -1.33326396e-01, -6.05362058e-02,\n",
       "         -1.51357800e-01, -7.02606440e-02, -1.24367550e-01,\n",
       "         -2.49725282e-02, -9.40918028e-02,  2.37079948e-01,\n",
       "          4.99106944e-02],\n",
       "        [ 9.73863304e-02, -7.08673596e-02,  2.07280189e-01,\n",
       "         -2.00990066e-01, -1.11277848e-01,  5.91638684e-03,\n",
       "         -1.48888469e-01,  1.21812463e-01,  1.27841502e-01,\n",
       "          2.80225366e-01],\n",
       "        [ 2.34565824e-01, -4.45752889e-02, -1.38604149e-01,\n",
       "          2.82899946e-01,  3.63756418e-02, -1.44958034e-01,\n",
       "         -1.60272509e-01, -2.77302891e-01, -1.25038907e-01,\n",
       "         -1.77796647e-01],\n",
       "        [ 2.94843018e-02,  2.73905665e-01, -1.37801439e-01,\n",
       "          1.11677587e-01, -2.70488918e-01,  1.33414447e-01,\n",
       "         -2.78448701e-01,  2.27166414e-02, -1.88577369e-01,\n",
       "         -2.47814655e-02],\n",
       "        [-5.26742488e-02, -7.55341202e-02, -2.10835606e-01,\n",
       "         -4.66207117e-02, -2.37116486e-01, -9.11276340e-02,\n",
       "         -4.26819324e-02,  1.49023443e-01,  1.66073829e-01,\n",
       "         -1.63806677e-01],\n",
       "        [ 2.27265507e-01, -1.22245744e-01,  2.19534904e-01,\n",
       "          1.38198733e-01,  1.02548480e-01, -1.12251654e-01,\n",
       "         -6.17713779e-02, -1.00731015e-01,  1.41043276e-01,\n",
       "         -1.98289722e-01],\n",
       "        [-2.52102196e-01,  1.19409263e-01,  1.93578303e-02,\n",
       "         -2.66291738e-01,  1.72781020e-01,  1.41093135e-02,\n",
       "          1.01306736e-02, -5.31314760e-02, -1.49322137e-01,\n",
       "         -1.41737774e-01],\n",
       "        [ 4.56955135e-02,  8.87305439e-02,  8.84123445e-02,\n",
       "         -1.13192260e-01,  1.04077131e-01,  3.03831697e-03,\n",
       "          2.82396466e-01, -3.55856866e-02,  6.50400221e-02,\n",
       "          5.99956214e-02],\n",
       "        [ 1.49894714e-01,  5.15154600e-02, -5.55970669e-02,\n",
       "          1.27206266e-01, -8.80676061e-02, -4.67146039e-02,\n",
       "          2.24807411e-01,  7.29906559e-02,  1.39112771e-01,\n",
       "          1.75281763e-01],\n",
       "        [-1.78999245e-01, -7.66327083e-02, -1.00668564e-01,\n",
       "          1.88459575e-01,  2.54385799e-01,  7.96808600e-02,\n",
       "         -1.47698775e-01,  2.71383494e-01,  5.04167378e-02,\n",
       "          1.38847530e-01],\n",
       "        [ 1.12116367e-01,  3.39003503e-02, -2.81077176e-01,\n",
       "         -2.09802136e-01,  1.36474878e-01, -1.36820987e-01,\n",
       "          2.52698749e-01, -1.16010308e-02, -2.27494359e-01,\n",
       "         -4.91935015e-02],\n",
       "        [ 8.96317661e-02, -4.32291627e-03,  1.16044879e-02,\n",
       "          8.29978585e-02,  1.41845793e-01, -1.87038660e-01,\n",
       "         -2.60371745e-01,  2.08257735e-02, -2.91025639e-02,\n",
       "          4.92594838e-02],\n",
       "        [ 2.45809466e-01, -2.83106238e-01,  1.92382485e-01,\n",
       "          2.65528888e-01,  1.12020224e-01,  3.67721915e-03,\n",
       "          1.55645996e-01, -2.32498199e-01,  2.05094099e-01,\n",
       "         -1.02364227e-01],\n",
       "        [ 9.11215842e-02, -1.85821146e-01, -1.10399365e-01,\n",
       "          8.97062421e-02,  1.74291879e-01, -1.60037965e-01,\n",
       "          1.16597384e-01,  4.65148091e-02, -1.79948807e-01,\n",
       "         -2.35886410e-01],\n",
       "        [ 2.40169168e-02, -2.03612208e-01, -2.72706240e-01,\n",
       "          2.57947147e-02, -1.07707575e-01,  2.61326522e-01,\n",
       "          2.24369258e-01,  1.85487270e-02, -1.26364633e-01,\n",
       "         -2.50584453e-01],\n",
       "        [-1.89233303e-01,  3.37323844e-02, -8.65414590e-02,\n",
       "         -2.10727543e-01, -1.80822253e-01,  7.43607283e-02,\n",
       "         -1.94969803e-01,  2.41829485e-01, -1.17765203e-01,\n",
       "          1.98968321e-01],\n",
       "        [-6.18155152e-02, -1.72201991e-01, -2.17065111e-01,\n",
       "          8.05763900e-02,  1.31872475e-01,  1.11063719e-02,\n",
       "         -1.80898637e-01, -2.68512666e-02, -1.26207411e-01,\n",
       "         -5.15588224e-02],\n",
       "        [ 2.68048793e-01,  1.40839458e-01, -6.04944527e-02,\n",
       "         -1.67138755e-01, -2.56461889e-01,  1.19587541e-01,\n",
       "         -1.50982782e-01, -1.04566067e-01,  8.73364210e-02,\n",
       "         -8.53837430e-02],\n",
       "        [-1.68068618e-01, -5.38522601e-02,  2.52448916e-02,\n",
       "         -3.46860290e-02, -2.60235786e-01,  2.28840619e-01,\n",
       "         -2.09296763e-01, -1.42269075e-01,  1.62103683e-01,\n",
       "          1.45702630e-01],\n",
       "        [-1.00757763e-01, -2.73006439e-01, -2.66176164e-02,\n",
       "          2.03462124e-01, -1.68599173e-01, -1.58054918e-01,\n",
       "         -8.87194723e-02,  1.29017204e-01,  1.88626796e-01,\n",
       "         -1.14662260e-01],\n",
       "        [ 1.47245020e-01,  1.47907674e-01, -1.21072277e-01,\n",
       "          2.68816620e-01,  2.02890903e-01, -2.06873477e-01,\n",
       "         -3.35316360e-02, -3.62439305e-02, -8.95393640e-02,\n",
       "         -2.69441247e-01],\n",
       "        [-8.50208700e-02, -1.93296939e-01,  1.68906927e-01,\n",
       "          2.45187134e-01,  4.05637920e-02, -7.02131838e-02,\n",
       "          1.54864818e-01,  7.65193999e-02,  1.18635386e-01,\n",
       "          2.02744037e-01],\n",
       "        [-4.28421497e-02, -1.70082629e-01,  2.77334183e-01,\n",
       "         -2.75595933e-01, -2.60631353e-01,  2.38938242e-01,\n",
       "         -1.65108249e-01,  7.16590881e-03,  9.68236029e-02,\n",
       "          2.00687826e-01],\n",
       "        [ 2.79339463e-01, -2.62835175e-01, -2.13514507e-01,\n",
       "          2.44809479e-01, -1.95489153e-01, -6.59534782e-02,\n",
       "          1.15204692e-01, -8.13048929e-02, -2.07740486e-01,\n",
       "          7.67188668e-02],\n",
       "        [ 2.79035181e-01, -3.45300734e-02,  2.68585533e-01,\n",
       "          2.31479406e-02,  1.56133652e-01,  9.41596925e-02,\n",
       "          1.64182931e-01, -5.51910251e-02,  2.38775223e-01,\n",
       "         -2.50086218e-01],\n",
       "        [-1.89302087e-01,  6.40717447e-02,  2.37617284e-01,\n",
       "          2.81514198e-01, -3.80148888e-02, -5.70548624e-02,\n",
       "         -2.75567174e-01, -2.66233444e-01, -1.32191151e-01,\n",
       "         -2.18764305e-01],\n",
       "        [ 1.19694680e-01, -9.72832739e-02, -1.20135680e-01,\n",
       "          2.46007472e-01,  9.82342660e-02, -2.73805231e-01,\n",
       "          1.56649619e-01, -4.60481346e-02,  1.06838852e-01,\n",
       "         -1.19236216e-01],\n",
       "        [-8.26735497e-02,  2.48525113e-01,  2.28448212e-02,\n",
       "         -1.10866994e-01, -1.26312912e-01,  1.02690220e-01,\n",
       "         -1.41228542e-01,  2.25800782e-01,  2.41052538e-01,\n",
       "          2.00261474e-01],\n",
       "        [-7.00093061e-02,  2.30189711e-01,  2.46141404e-01,\n",
       "          7.01130331e-02, -2.67466635e-01,  1.16631508e-01,\n",
       "         -1.25438973e-01,  5.35375178e-02, -1.29823387e-01,\n",
       "         -2.70320296e-01],\n",
       "        [ 1.45682603e-01, -1.30253807e-01,  9.11900997e-02,\n",
       "          1.91816837e-01,  1.30770773e-01,  7.56053329e-02,\n",
       "         -2.52427459e-01,  2.09695607e-01, -1.71166658e-02,\n",
       "          9.64920819e-02],\n",
       "        [ 1.59172297e-01,  2.72408932e-01, -1.32439435e-02,\n",
       "         -9.42781568e-03,  2.06001490e-01,  2.02080697e-01,\n",
       "          1.12995803e-02, -2.50323892e-01,  1.00346297e-01,\n",
       "         -2.21555158e-01],\n",
       "        [-2.56527007e-01, -1.28549859e-01, -2.59147853e-01,\n",
       "         -1.88773841e-01, -8.60977322e-02, -2.34895021e-01,\n",
       "          2.20593363e-01, -5.50287813e-02,  2.14079231e-01,\n",
       "          2.37296909e-01],\n",
       "        [-2.32346803e-01,  2.50809282e-01, -1.97541848e-01,\n",
       "          1.38376355e-02,  5.97685575e-04,  8.82597268e-02,\n",
       "         -4.99320030e-02, -5.18534631e-02, -3.59609127e-02,\n",
       "          2.65979677e-01],\n",
       "        [ 5.70744276e-04,  2.09286302e-01, -3.37800384e-02,\n",
       "          1.08263582e-01, -2.47792929e-01,  3.91265154e-02,\n",
       "         -2.43525147e-01,  1.52190655e-01, -1.44713283e-01,\n",
       "         -1.57430813e-01],\n",
       "        [-9.93302613e-02,  2.45287627e-01,  2.04765797e-01,\n",
       "          6.21600449e-02,  1.51084960e-02, -4.70230877e-02,\n",
       "         -2.06893384e-02, -1.29470706e-01,  6.26682043e-02,\n",
       "         -1.81128308e-01],\n",
       "        [ 2.08898723e-01, -9.47176814e-02, -1.61234438e-01,\n",
       "          1.68490410e-02, -2.37450778e-01, -1.76872477e-01,\n",
       "          2.79945284e-01,  1.93787456e-01, -9.90621746e-02,\n",
       "          1.02029532e-01],\n",
       "        [ 2.82597274e-01,  1.09750420e-01,  2.02192873e-01,\n",
       "         -1.32865965e-01,  1.52486593e-01, -2.35247910e-02,\n",
       "         -2.54486710e-01,  2.17201978e-01, -1.14531636e-01,\n",
       "         -1.65419519e-01],\n",
       "        [-1.51141092e-01,  8.62997770e-03, -1.42410010e-01,\n",
       "          1.34901702e-02,  2.52934545e-01,  1.99116260e-01,\n",
       "          1.58792675e-01,  2.29392976e-01, -2.62801021e-01,\n",
       "          1.84854597e-01],\n",
       "        [ 1.13722473e-01,  1.66584283e-01,  7.48470426e-03,\n",
       "          2.60787457e-01,  7.37785101e-02,  2.12740779e-01,\n",
       "          1.81131095e-01,  1.06723934e-01, -2.24110976e-01,\n",
       "          1.16440356e-01],\n",
       "        [-1.04977205e-01, -7.15836585e-02,  1.12408340e-01,\n",
       "          6.38488531e-02, -2.63519168e-01,  1.28918558e-01,\n",
       "          1.80132449e-01, -1.68852270e-01, -1.93725795e-01,\n",
       "         -1.01275831e-01]], dtype=float32)>,\n",
       " <tf.Variable 'dense_3/bias:0' shape=(10,) dtype=float32, numpy=array([0., 0., 0., 0., 0., 0., 0., 0., 0., 0.], dtype=float32)>]"
      ]
     },
     "execution_count": 3,
     "metadata": {},
     "output_type": "execute_result"
    }
   ],
   "source": [
    "model.build(input_shape=(None, 3))\n",
    "model.weights"
   ]
  },
  {
   "cell_type": "markdown",
   "metadata": {
    "colab_type": "text"
   },
   "source": [
    "**The summary method**"
   ]
  },
  {
   "cell_type": "code",
   "execution_count": 4,
   "metadata": {
    "colab_type": "code"
   },
   "outputs": [
    {
     "name": "stdout",
     "output_type": "stream",
     "text": [
      "Model: \"sequential_1\"\n",
      "_________________________________________________________________\n",
      " Layer (type)                Output Shape              Param #   \n",
      "=================================================================\n",
      " dense_2 (Dense)             (None, 64)                256       \n",
      "                                                                 \n",
      " dense_3 (Dense)             (None, 10)                650       \n",
      "                                                                 \n",
      "=================================================================\n",
      "Total params: 906\n",
      "Trainable params: 906\n",
      "Non-trainable params: 0\n",
      "_________________________________________________________________\n"
     ]
    }
   ],
   "source": [
    "model.summary()"
   ]
  },
  {
   "cell_type": "markdown",
   "metadata": {
    "colab_type": "text"
   },
   "source": [
    "**Naming models and layers with the `name` argument**"
   ]
  },
  {
   "cell_type": "code",
   "execution_count": 5,
   "metadata": {
    "colab_type": "code"
   },
   "outputs": [
    {
     "name": "stdout",
     "output_type": "stream",
     "text": [
      "Model: \"my_example_model\"\n",
      "_________________________________________________________________\n",
      " Layer (type)                Output Shape              Param #   \n",
      "=================================================================\n",
      " my_first_layer (Dense)      (None, 64)                256       \n",
      "                                                                 \n",
      " my_last_layer (Dense)       (None, 10)                650       \n",
      "                                                                 \n",
      "=================================================================\n",
      "Total params: 906\n",
      "Trainable params: 906\n",
      "Non-trainable params: 0\n",
      "_________________________________________________________________\n"
     ]
    }
   ],
   "source": [
    "model = keras.Sequential(name=\"my_example_model\")\n",
    "model.add(layers.Dense(64, activation=\"relu\", name=\"my_first_layer\"))\n",
    "model.add(layers.Dense(10, activation=\"softmax\", name=\"my_last_layer\"))\n",
    "model.build((None, 3))\n",
    "model.summary()"
   ]
  },
  {
   "cell_type": "markdown",
   "metadata": {
    "colab_type": "text"
   },
   "source": [
    "**Specifying the input shape of your model in advance**"
   ]
  },
  {
   "cell_type": "code",
   "execution_count": 6,
   "metadata": {
    "colab_type": "code"
   },
   "outputs": [],
   "source": [
    "model = keras.Sequential()\n",
    "model.add(keras.Input(shape=(3,)))\n",
    "model.add(layers.Dense(64, activation=\"relu\"))"
   ]
  },
  {
   "cell_type": "code",
   "execution_count": 7,
   "metadata": {
    "colab_type": "code"
   },
   "outputs": [
    {
     "name": "stdout",
     "output_type": "stream",
     "text": [
      "Model: \"sequential_2\"\n",
      "_________________________________________________________________\n",
      " Layer (type)                Output Shape              Param #   \n",
      "=================================================================\n",
      " dense_4 (Dense)             (None, 64)                256       \n",
      "                                                                 \n",
      "=================================================================\n",
      "Total params: 256\n",
      "Trainable params: 256\n",
      "Non-trainable params: 0\n",
      "_________________________________________________________________\n"
     ]
    }
   ],
   "source": [
    "model.summary()"
   ]
  },
  {
   "cell_type": "code",
   "execution_count": 8,
   "metadata": {
    "colab_type": "code"
   },
   "outputs": [
    {
     "name": "stdout",
     "output_type": "stream",
     "text": [
      "Model: \"sequential_2\"\n",
      "_________________________________________________________________\n",
      " Layer (type)                Output Shape              Param #   \n",
      "=================================================================\n",
      " dense_4 (Dense)             (None, 64)                256       \n",
      "                                                                 \n",
      " dense_5 (Dense)             (None, 10)                650       \n",
      "                                                                 \n",
      "=================================================================\n",
      "Total params: 906\n",
      "Trainable params: 906\n",
      "Non-trainable params: 0\n",
      "_________________________________________________________________\n"
     ]
    }
   ],
   "source": [
    "model.add(layers.Dense(10, activation=\"softmax\"))\n",
    "model.summary()"
   ]
  },
  {
   "cell_type": "markdown",
   "metadata": {
    "colab_type": "text"
   },
   "source": [
    "### The Functional API"
   ]
  },
  {
   "cell_type": "markdown",
   "metadata": {
    "colab_type": "text"
   },
   "source": [
    "#### A simple example"
   ]
  },
  {
   "cell_type": "markdown",
   "metadata": {
    "colab_type": "text"
   },
   "source": [
    "**A simple Functional model with two `Dense` layers**"
   ]
  },
  {
   "cell_type": "code",
   "execution_count": 9,
   "metadata": {
    "colab_type": "code"
   },
   "outputs": [],
   "source": [
    "inputs = keras.Input(shape=(3,), name=\"my_input\")\n",
    "features = layers.Dense(64, activation=\"relu\")(inputs)\n",
    "outputs = layers.Dense(10, activation=\"softmax\")(features)\n",
    "model = keras.Model(inputs=inputs, outputs=outputs)"
   ]
  },
  {
   "cell_type": "code",
   "execution_count": 10,
   "metadata": {
    "colab_type": "code"
   },
   "outputs": [],
   "source": [
    "inputs = keras.Input(shape=(3,), name=\"my_input\")"
   ]
  },
  {
   "cell_type": "code",
   "execution_count": 11,
   "metadata": {
    "colab_type": "code"
   },
   "outputs": [
    {
     "data": {
      "text/plain": [
       "TensorShape([None, 3])"
      ]
     },
     "execution_count": 11,
     "metadata": {},
     "output_type": "execute_result"
    }
   ],
   "source": [
    "inputs.shape"
   ]
  },
  {
   "cell_type": "code",
   "execution_count": 12,
   "metadata": {
    "colab_type": "code"
   },
   "outputs": [
    {
     "data": {
      "text/plain": [
       "tf.float32"
      ]
     },
     "execution_count": 12,
     "metadata": {},
     "output_type": "execute_result"
    }
   ],
   "source": [
    "inputs.dtype"
   ]
  },
  {
   "cell_type": "code",
   "execution_count": 13,
   "metadata": {
    "colab_type": "code"
   },
   "outputs": [],
   "source": [
    "features = layers.Dense(64, activation=\"relu\")(inputs)"
   ]
  },
  {
   "cell_type": "code",
   "execution_count": 14,
   "metadata": {
    "colab_type": "code"
   },
   "outputs": [
    {
     "data": {
      "text/plain": [
       "TensorShape([None, 64])"
      ]
     },
     "execution_count": 14,
     "metadata": {},
     "output_type": "execute_result"
    }
   ],
   "source": [
    "features.shape"
   ]
  },
  {
   "cell_type": "code",
   "execution_count": 15,
   "metadata": {
    "colab_type": "code"
   },
   "outputs": [],
   "source": [
    "outputs = layers.Dense(10, activation=\"softmax\")(features)\n",
    "model = keras.Model(inputs=inputs, outputs=outputs)"
   ]
  },
  {
   "cell_type": "code",
   "execution_count": 16,
   "metadata": {
    "colab_type": "code"
   },
   "outputs": [
    {
     "name": "stdout",
     "output_type": "stream",
     "text": [
      "Model: \"model_1\"\n",
      "_________________________________________________________________\n",
      " Layer (type)                Output Shape              Param #   \n",
      "=================================================================\n",
      " my_input (InputLayer)       [(None, 3)]               0         \n",
      "                                                                 \n",
      " dense_8 (Dense)             (None, 64)                256       \n",
      "                                                                 \n",
      " dense_9 (Dense)             (None, 10)                650       \n",
      "                                                                 \n",
      "=================================================================\n",
      "Total params: 906\n",
      "Trainable params: 906\n",
      "Non-trainable params: 0\n",
      "_________________________________________________________________\n"
     ]
    }
   ],
   "source": [
    "model.summary()"
   ]
  },
  {
   "cell_type": "markdown",
   "metadata": {
    "colab_type": "text"
   },
   "source": [
    "#### Multi-input, multi-output models"
   ]
  },
  {
   "cell_type": "markdown",
   "metadata": {
    "colab_type": "text"
   },
   "source": [
    "**A multi-input, multi-output Functional model**"
   ]
  },
  {
   "cell_type": "code",
   "execution_count": 17,
   "metadata": {
    "colab_type": "code"
   },
   "outputs": [],
   "source": [
    "vocabulary_size = 10000\n",
    "num_tags = 100\n",
    "num_departments = 4\n",
    "\n",
    "title = keras.Input(shape=(vocabulary_size,), name=\"title\")\n",
    "text_body = keras.Input(shape=(vocabulary_size,), name=\"text_body\")\n",
    "tags = keras.Input(shape=(num_tags,), name=\"tags\")\n",
    "\n",
    "features = layers.Concatenate()([title, text_body, tags])\n",
    "features = layers.Dense(64, activation=\"relu\")(features)\n",
    "\n",
    "priority = layers.Dense(1, activation=\"sigmoid\", name=\"priority\")(features)\n",
    "department = layers.Dense(\n",
    "    num_departments, activation=\"softmax\", name=\"department\")(features)\n",
    "\n",
    "model = keras.Model(inputs=[title, text_body, tags], outputs=[priority, department])"
   ]
  },
  {
   "cell_type": "markdown",
   "metadata": {
    "colab_type": "text"
   },
   "source": [
    "#### Training a multi-input, multi-output model"
   ]
  },
  {
   "cell_type": "markdown",
   "metadata": {
    "colab_type": "text"
   },
   "source": [
    "**Training a model by providing lists of input & target arrays**"
   ]
  },
  {
   "cell_type": "code",
   "execution_count": 18,
   "metadata": {
    "colab_type": "code"
   },
   "outputs": [
    {
     "name": "stdout",
     "output_type": "stream",
     "text": [
      "40/40 [==============================] - 3s 5ms/step - loss: 21.2150 - priority_loss: 0.3304 - department_loss: 20.8847 - priority_mean_absolute_error: 0.4961 - department_accuracy: 0.2992\n",
      "40/40 [==============================] - 0s 3ms/step - loss: 18.8085 - priority_loss: 0.3429 - department_loss: 18.4656 - priority_mean_absolute_error: 0.5087 - department_accuracy: 0.5695\n"
     ]
    }
   ],
   "source": [
    "import numpy as np\n",
    "\n",
    "num_samples = 1280\n",
    "\n",
    "title_data = np.random.randint(0, 2, size=(num_samples, vocabulary_size))\n",
    "text_body_data = np.random.randint(0, 2, size=(num_samples, vocabulary_size))\n",
    "tags_data = np.random.randint(0, 2, size=(num_samples, num_tags))\n",
    "\n",
    "priority_data = np.random.random(size=(num_samples, 1))\n",
    "department_data = np.random.randint(0, 2, size=(num_samples, num_departments))\n",
    "\n",
    "model.compile(optimizer=\"rmsprop\",\n",
    "              loss=[\"mean_squared_error\", \"categorical_crossentropy\"],\n",
    "              metrics=[[\"mean_absolute_error\"], [\"accuracy\"]])\n",
    "model.fit([title_data, text_body_data, tags_data],\n",
    "          [priority_data, department_data],\n",
    "          epochs=1)\n",
    "model.evaluate([title_data, text_body_data, tags_data],\n",
    "               [priority_data, department_data])\n",
    "priority_preds, department_preds = model.predict([title_data, text_body_data, tags_data])"
   ]
  },
  {
   "cell_type": "markdown",
   "metadata": {
    "colab_type": "text"
   },
   "source": [
    "**Training a model by providing dicts of input & target arrays**"
   ]
  },
  {
   "cell_type": "code",
   "execution_count": 19,
   "metadata": {
    "colab_type": "code"
   },
   "outputs": [
    {
     "name": "stdout",
     "output_type": "stream",
     "text": [
      "40/40 [==============================] - 1s 4ms/step - loss: 30.6268 - priority_loss: 0.3429 - department_loss: 30.2840 - priority_mean_absolute_error: 0.5087 - department_accuracy: 0.2820\n",
      "40/40 [==============================] - 0s 3ms/step - loss: 21.3700 - priority_loss: 0.3429 - department_loss: 21.0272 - priority_mean_absolute_error: 0.5087 - department_accuracy: 0.2758\n"
     ]
    }
   ],
   "source": [
    "model.compile(optimizer=\"rmsprop\",\n",
    "              loss={\"priority\": \"mean_squared_error\", \"department\": \"categorical_crossentropy\"},\n",
    "              metrics={\"priority\": [\"mean_absolute_error\"], \"department\": [\"accuracy\"]})\n",
    "model.fit({\"title\": title_data, \"text_body\": text_body_data, \"tags\": tags_data},\n",
    "          {\"priority\": priority_data, \"department\": department_data},\n",
    "          epochs=1)\n",
    "model.evaluate({\"title\": title_data, \"text_body\": text_body_data, \"tags\": tags_data},\n",
    "               {\"priority\": priority_data, \"department\": department_data})\n",
    "priority_preds, department_preds = model.predict(\n",
    "    {\"title\": title_data, \"text_body\": text_body_data, \"tags\": tags_data})"
   ]
  },
  {
   "cell_type": "markdown",
   "metadata": {
    "colab_type": "text"
   },
   "source": [
    "#### The power of the Functional API: Access to layer connectivity"
   ]
  },
  {
   "cell_type": "code",
   "execution_count": 20,
   "metadata": {
    "colab_type": "code"
   },
   "outputs": [
    {
     "name": "stdout",
     "output_type": "stream",
     "text": [
      "You must install pydot (`pip install pydot`) and install graphviz (see instructions at https://graphviz.gitlab.io/download/) for plot_model/model_to_dot to work.\n"
     ]
    }
   ],
   "source": [
    "keras.utils.plot_model(model, \"ticket_classifier.png\")"
   ]
  },
  {
   "cell_type": "code",
   "execution_count": 21,
   "metadata": {
    "colab_type": "code"
   },
   "outputs": [
    {
     "name": "stdout",
     "output_type": "stream",
     "text": [
      "You must install pydot (`pip install pydot`) and install graphviz (see instructions at https://graphviz.gitlab.io/download/) for plot_model/model_to_dot to work.\n"
     ]
    }
   ],
   "source": [
    "keras.utils.plot_model(model, \"ticket_classifier_with_shape_info.png\", show_shapes=True)"
   ]
  },
  {
   "cell_type": "markdown",
   "metadata": {
    "colab_type": "text"
   },
   "source": [
    "**Retrieving the inputs or outputs of a layer in a Functional model**"
   ]
  },
  {
   "cell_type": "code",
   "execution_count": 22,
   "metadata": {
    "colab_type": "code"
   },
   "outputs": [
    {
     "data": {
      "text/plain": [
       "[<keras.engine.input_layer.InputLayer at 0x2039196b700>,\n",
       " <keras.engine.input_layer.InputLayer at 0x2039196b7f0>,\n",
       " <keras.engine.input_layer.InputLayer at 0x2039196ba30>,\n",
       " <keras.layers.merge.Concatenate at 0x2039196b460>,\n",
       " <keras.layers.core.dense.Dense at 0x203faa78790>,\n",
       " <keras.layers.core.dense.Dense at 0x203faa78550>,\n",
       " <keras.layers.core.dense.Dense at 0x203d41ef670>]"
      ]
     },
     "execution_count": 22,
     "metadata": {},
     "output_type": "execute_result"
    }
   ],
   "source": [
    "model.layers"
   ]
  },
  {
   "cell_type": "code",
   "execution_count": 23,
   "metadata": {
    "colab_type": "code"
   },
   "outputs": [
    {
     "data": {
      "text/plain": [
       "[<KerasTensor: shape=(None, 10000) dtype=float32 (created by layer 'title')>,\n",
       " <KerasTensor: shape=(None, 10000) dtype=float32 (created by layer 'text_body')>,\n",
       " <KerasTensor: shape=(None, 100) dtype=float32 (created by layer 'tags')>]"
      ]
     },
     "execution_count": 23,
     "metadata": {},
     "output_type": "execute_result"
    }
   ],
   "source": [
    "model.layers[3].input"
   ]
  },
  {
   "cell_type": "code",
   "execution_count": 24,
   "metadata": {
    "colab_type": "code"
   },
   "outputs": [
    {
     "data": {
      "text/plain": [
       "<KerasTensor: shape=(None, 20100) dtype=float32 (created by layer 'concatenate')>"
      ]
     },
     "execution_count": 24,
     "metadata": {},
     "output_type": "execute_result"
    }
   ],
   "source": [
    "model.layers[3].output"
   ]
  },
  {
   "cell_type": "markdown",
   "metadata": {
    "colab_type": "text"
   },
   "source": [
    "**Creating a new model by reusing intermediate layer outputs**"
   ]
  },
  {
   "cell_type": "code",
   "execution_count": 25,
   "metadata": {
    "colab_type": "code"
   },
   "outputs": [],
   "source": [
    "features = model.layers[4].output\n",
    "difficulty = layers.Dense(3, activation=\"softmax\", name=\"difficulty\")(features)\n",
    "\n",
    "new_model = keras.Model(\n",
    "    inputs=[title, text_body, tags],\n",
    "    outputs=[priority, department, difficulty])"
   ]
  },
  {
   "cell_type": "code",
   "execution_count": 26,
   "metadata": {
    "colab_type": "code"
   },
   "outputs": [
    {
     "name": "stdout",
     "output_type": "stream",
     "text": [
      "You must install pydot (`pip install pydot`) and install graphviz (see instructions at https://graphviz.gitlab.io/download/) for plot_model/model_to_dot to work.\n"
     ]
    }
   ],
   "source": [
    "keras.utils.plot_model(new_model, \"updated_ticket_classifier.png\", show_shapes=True)"
   ]
  },
  {
   "cell_type": "markdown",
   "metadata": {
    "colab_type": "text"
   },
   "source": [
    "### Subclassing the Model class"
   ]
  },
  {
   "cell_type": "markdown",
   "metadata": {
    "colab_type": "text"
   },
   "source": [
    "#### Rewriting our previous example as a subclassed model"
   ]
  },
  {
   "cell_type": "markdown",
   "metadata": {
    "colab_type": "text"
   },
   "source": [
    "**A simple subclassed model**"
   ]
  },
  {
   "cell_type": "code",
   "execution_count": 27,
   "metadata": {
    "colab_type": "code"
   },
   "outputs": [],
   "source": [
    "class CustomerTicketModel(keras.Model):\n",
    "\n",
    "    def __init__(self, num_departments):\n",
    "        super().__init__()\n",
    "        self.concat_layer = layers.Concatenate()\n",
    "        self.mixing_layer = layers.Dense(64, activation=\"relu\")\n",
    "        self.priority_scorer = layers.Dense(1, activation=\"sigmoid\")\n",
    "        self.department_classifier = layers.Dense(\n",
    "            num_departments, activation=\"softmax\")\n",
    "\n",
    "    def call(self, inputs):\n",
    "        title = inputs[\"title\"]\n",
    "        text_body = inputs[\"text_body\"]\n",
    "        tags = inputs[\"tags\"]\n",
    "\n",
    "        features = self.concat_layer([title, text_body, tags])\n",
    "        features = self.mixing_layer(features)\n",
    "        priority = self.priority_scorer(features)\n",
    "        department = self.department_classifier(features)\n",
    "        return priority, department"
   ]
  },
  {
   "cell_type": "code",
   "execution_count": 28,
   "metadata": {
    "colab_type": "code"
   },
   "outputs": [],
   "source": [
    "model = CustomerTicketModel(num_departments=4)\n",
    "\n",
    "priority, department = model(\n",
    "    {\"title\": title_data, \"text_body\": text_body_data, \"tags\": tags_data})"
   ]
  },
  {
   "cell_type": "code",
   "execution_count": 29,
   "metadata": {
    "colab_type": "code"
   },
   "outputs": [
    {
     "name": "stdout",
     "output_type": "stream",
     "text": [
      "40/40 [==============================] - 1s 4ms/step - loss: 28.1161 - output_1_loss: 0.3038 - output_2_loss: 27.8123 - output_1_mean_absolute_error: 0.4698 - output_2_accuracy: 0.2203\n",
      "40/40 [==============================] - 0s 3ms/step - loss: 16.1201 - output_1_loss: 0.3254 - output_2_loss: 15.7947 - output_1_mean_absolute_error: 0.4913 - output_2_accuracy: 0.5656\n"
     ]
    }
   ],
   "source": [
    "model.compile(optimizer=\"rmsprop\",\n",
    "              loss=[\"mean_squared_error\", \"categorical_crossentropy\"],\n",
    "              metrics=[[\"mean_absolute_error\"], [\"accuracy\"]])\n",
    "model.fit({\"title\": title_data,\n",
    "           \"text_body\": text_body_data,\n",
    "           \"tags\": tags_data},\n",
    "          [priority_data, department_data],\n",
    "          epochs=1)\n",
    "model.evaluate({\"title\": title_data,\n",
    "                \"text_body\": text_body_data,\n",
    "                \"tags\": tags_data},\n",
    "               [priority_data, department_data])\n",
    "priority_preds, department_preds = model.predict({\"title\": title_data,\n",
    "                                                  \"text_body\": text_body_data,\n",
    "                                                  \"tags\": tags_data})"
   ]
  },
  {
   "cell_type": "markdown",
   "metadata": {
    "colab_type": "text"
   },
   "source": [
    "#### Beware: What subclassed models don't support"
   ]
  },
  {
   "cell_type": "markdown",
   "metadata": {
    "colab_type": "text"
   },
   "source": [
    "### Mixing and matching different components"
   ]
  },
  {
   "cell_type": "markdown",
   "metadata": {
    "colab_type": "text"
   },
   "source": [
    "**Creating a Functional model that includes a subclassed model**"
   ]
  },
  {
   "cell_type": "code",
   "execution_count": 30,
   "metadata": {
    "colab_type": "code"
   },
   "outputs": [],
   "source": [
    "class Classifier(keras.Model):\n",
    "\n",
    "    def __init__(self, num_classes=2):\n",
    "        super().__init__()\n",
    "        if num_classes == 2:\n",
    "            num_units = 1\n",
    "            activation = \"sigmoid\"\n",
    "        else:\n",
    "            num_units = num_classes\n",
    "            activation = \"softmax\"\n",
    "        self.dense = layers.Dense(num_units, activation=activation)\n",
    "\n",
    "    def call(self, inputs):\n",
    "        return self.dense(inputs)\n",
    "\n",
    "inputs = keras.Input(shape=(3,))\n",
    "features = layers.Dense(64, activation=\"relu\")(inputs)\n",
    "outputs = Classifier(num_classes=10)(features)\n",
    "model = keras.Model(inputs=inputs, outputs=outputs)"
   ]
  },
  {
   "cell_type": "markdown",
   "metadata": {
    "colab_type": "text"
   },
   "source": [
    "**Creating a subclassed model that includes a Functional model**"
   ]
  },
  {
   "cell_type": "code",
   "execution_count": 31,
   "metadata": {
    "colab_type": "code"
   },
   "outputs": [],
   "source": [
    "inputs = keras.Input(shape=(64,))\n",
    "outputs = layers.Dense(1, activation=\"sigmoid\")(inputs)\n",
    "binary_classifier = keras.Model(inputs=inputs, outputs=outputs)\n",
    "\n",
    "class MyModel(keras.Model):\n",
    "\n",
    "    def __init__(self, num_classes=2):\n",
    "        super().__init__()\n",
    "        self.dense = layers.Dense(64, activation=\"relu\")\n",
    "        self.classifier = binary_classifier\n",
    "\n",
    "    def call(self, inputs):\n",
    "        features = self.dense(inputs)\n",
    "        return self.classifier(features)\n",
    "\n",
    "model = MyModel()"
   ]
  },
  {
   "cell_type": "markdown",
   "metadata": {
    "colab_type": "text"
   },
   "source": [
    "### Remember: Use the right tool for the job"
   ]
  },
  {
   "cell_type": "markdown",
   "metadata": {
    "colab_type": "text"
   },
   "source": [
    "## Using built-in training and evaluation loops"
   ]
  },
  {
   "cell_type": "markdown",
   "metadata": {
    "colab_type": "text"
   },
   "source": [
    "**The standard workflow: `compile()`, `fit()`, `evaluate()`, `predict()`**"
   ]
  },
  {
   "cell_type": "code",
   "execution_count": 32,
   "metadata": {
    "colab_type": "code"
   },
   "outputs": [
    {
     "name": "stdout",
     "output_type": "stream",
     "text": [
      "Epoch 1/3\n",
      "1563/1563 [==============================] - 5s 3ms/step - loss: 0.2946 - accuracy: 0.9117 - val_loss: 0.1459 - val_accuracy: 0.9578\n",
      "Epoch 2/3\n",
      "1563/1563 [==============================] - 4s 3ms/step - loss: 0.1662 - accuracy: 0.9543 - val_loss: 0.1276 - val_accuracy: 0.9658\n",
      "Epoch 3/3\n",
      "1563/1563 [==============================] - 4s 3ms/step - loss: 0.1379 - accuracy: 0.9627 - val_loss: 0.1152 - val_accuracy: 0.9721\n",
      "313/313 [==============================] - 1s 2ms/step - loss: 0.1101 - accuracy: 0.9730\n"
     ]
    }
   ],
   "source": [
    "from tensorflow.keras.datasets import mnist\n",
    "\n",
    "def get_mnist_model():\n",
    "    inputs = keras.Input(shape=(28 * 28,))\n",
    "    features = layers.Dense(512, activation=\"relu\")(inputs)\n",
    "    features = layers.Dropout(0.5)(features)\n",
    "    outputs = layers.Dense(10, activation=\"softmax\")(features)\n",
    "    model = keras.Model(inputs, outputs)\n",
    "    return model\n",
    "\n",
    "(images, labels), (test_images, test_labels) = mnist.load_data()\n",
    "images = images.reshape((60000, 28 * 28)).astype(\"float32\") / 255\n",
    "test_images = test_images.reshape((10000, 28 * 28)).astype(\"float32\") / 255\n",
    "train_images, val_images = images[10000:], images[:10000]\n",
    "train_labels, val_labels = labels[10000:], labels[:10000]\n",
    "\n",
    "model = get_mnist_model()\n",
    "model.compile(optimizer=\"rmsprop\",\n",
    "              loss=\"sparse_categorical_crossentropy\",\n",
    "              metrics=[\"accuracy\"])\n",
    "model.fit(train_images, train_labels,\n",
    "          epochs=3,\n",
    "          validation_data=(val_images, val_labels))\n",
    "test_metrics = model.evaluate(test_images, test_labels)\n",
    "predictions = model.predict(test_images)"
   ]
  },
  {
   "cell_type": "markdown",
   "metadata": {
    "colab_type": "text"
   },
   "source": [
    "### Writing your own metrics"
   ]
  },
  {
   "cell_type": "markdown",
   "metadata": {
    "colab_type": "text"
   },
   "source": [
    "**Implementing a custom metric by subclassing the `Metric` class**"
   ]
  },
  {
   "cell_type": "code",
   "execution_count": 33,
   "metadata": {
    "colab_type": "code"
   },
   "outputs": [],
   "source": [
    "import tensorflow as tf\n",
    "\n",
    "class RootMeanSquaredError(keras.metrics.Metric):\n",
    "\n",
    "    def __init__(self, name=\"rmse\", **kwargs):\n",
    "        super().__init__(name=name, **kwargs)\n",
    "        self.mse_sum = self.add_weight(name=\"mse_sum\", initializer=\"zeros\")\n",
    "        self.total_samples = self.add_weight(\n",
    "            name=\"total_samples\", initializer=\"zeros\", dtype=\"int32\")\n",
    "\n",
    "    def update_state(self, y_true, y_pred, sample_weight=None):\n",
    "        y_true = tf.one_hot(y_true, depth=tf.shape(y_pred)[1])\n",
    "        mse = tf.reduce_sum(tf.square(y_true - y_pred))\n",
    "        self.mse_sum.assign_add(mse)\n",
    "        num_samples = tf.shape(y_pred)[0]\n",
    "        self.total_samples.assign_add(num_samples)\n",
    "\n",
    "    def result(self):\n",
    "        return tf.sqrt(self.mse_sum / tf.cast(self.total_samples, tf.float32))\n",
    "\n",
    "    def reset_state(self):\n",
    "        self.mse_sum.assign(0.)\n",
    "        self.total_samples.assign(0)"
   ]
  },
  {
   "cell_type": "code",
   "execution_count": 34,
   "metadata": {
    "colab_type": "code"
   },
   "outputs": [
    {
     "name": "stdout",
     "output_type": "stream",
     "text": [
      "Epoch 1/3\n",
      "1563/1563 [==============================] - 5s 3ms/step - loss: 0.2923 - accuracy: 0.9128 - rmse: 7.1862 - val_loss: 0.1474 - val_accuracy: 0.9585 - val_rmse: 7.3618\n",
      "Epoch 2/3\n",
      "1563/1563 [==============================] - 4s 3ms/step - loss: 0.1651 - accuracy: 0.9533 - rmse: 7.3560 - val_loss: 0.1255 - val_accuracy: 0.9676 - val_rmse: 7.4002\n",
      "Epoch 3/3\n",
      "1563/1563 [==============================] - 5s 3ms/step - loss: 0.1394 - accuracy: 0.9624 - rmse: 7.3915 - val_loss: 0.1134 - val_accuracy: 0.9707 - val_rmse: 7.4180\n",
      "313/313 [==============================] - 1s 2ms/step - loss: 0.1053 - accuracy: 0.9726 - rmse: 7.4318\n"
     ]
    }
   ],
   "source": [
    "model = get_mnist_model()\n",
    "model.compile(optimizer=\"rmsprop\",\n",
    "              loss=\"sparse_categorical_crossentropy\",\n",
    "              metrics=[\"accuracy\", RootMeanSquaredError()])\n",
    "model.fit(train_images, train_labels,\n",
    "          epochs=3,\n",
    "          validation_data=(val_images, val_labels))\n",
    "test_metrics = model.evaluate(test_images, test_labels)"
   ]
  },
  {
   "cell_type": "markdown",
   "metadata": {
    "colab_type": "text"
   },
   "source": [
    "### Using callbacks"
   ]
  },
  {
   "cell_type": "markdown",
   "metadata": {
    "colab_type": "text"
   },
   "source": [
    "#### The EarlyStopping and ModelCheckpoint callbacks"
   ]
  },
  {
   "cell_type": "markdown",
   "metadata": {
    "colab_type": "text"
   },
   "source": [
    "**Using the `callbacks` argument in the `fit()` method**"
   ]
  },
  {
   "cell_type": "code",
   "execution_count": 35,
   "metadata": {
    "colab_type": "code"
   },
   "outputs": [
    {
     "name": "stdout",
     "output_type": "stream",
     "text": [
      "Epoch 1/10\n",
      "1563/1563 [==============================] - 5s 3ms/step - loss: 0.2936 - accuracy: 0.9136 - val_loss: 0.1573 - val_accuracy: 0.9559\n",
      "Epoch 2/10\n",
      "1563/1563 [==============================] - 4s 3ms/step - loss: 0.1668 - accuracy: 0.9533 - val_loss: 0.1130 - val_accuracy: 0.9689\n",
      "Epoch 3/10\n",
      "1563/1563 [==============================] - 5s 3ms/step - loss: 0.1389 - accuracy: 0.9630 - val_loss: 0.1056 - val_accuracy: 0.9734\n",
      "Epoch 4/10\n",
      "1563/1563 [==============================] - 4s 3ms/step - loss: 0.1247 - accuracy: 0.9677 - val_loss: 0.1144 - val_accuracy: 0.9728\n",
      "Epoch 5/10\n",
      "1563/1563 [==============================] - 4s 3ms/step - loss: 0.1161 - accuracy: 0.9708 - val_loss: 0.1147 - val_accuracy: 0.9722\n"
     ]
    },
    {
     "data": {
      "text/plain": [
       "<keras.callbacks.History at 0x203a51c6850>"
      ]
     },
     "execution_count": 35,
     "metadata": {},
     "output_type": "execute_result"
    }
   ],
   "source": [
    "callbacks_list = [\n",
    "    keras.callbacks.EarlyStopping(\n",
    "        monitor=\"val_accuracy\",\n",
    "        patience=2,\n",
    "    ),\n",
    "    keras.callbacks.ModelCheckpoint(\n",
    "        filepath=\"checkpoint_path.keras\",\n",
    "        monitor=\"val_loss\",\n",
    "        save_best_only=True,\n",
    "    )\n",
    "]\n",
    "model = get_mnist_model()\n",
    "model.compile(optimizer=\"rmsprop\",\n",
    "              loss=\"sparse_categorical_crossentropy\",\n",
    "              metrics=[\"accuracy\"])\n",
    "model.fit(train_images, train_labels,\n",
    "          epochs=10,\n",
    "          callbacks=callbacks_list,\n",
    "          validation_data=(val_images, val_labels))"
   ]
  },
  {
   "cell_type": "code",
   "execution_count": 36,
   "metadata": {
    "colab_type": "code"
   },
   "outputs": [],
   "source": [
    "model = keras.models.load_model(\"checkpoint_path.keras\")"
   ]
  },
  {
   "cell_type": "markdown",
   "metadata": {
    "colab_type": "text"
   },
   "source": [
    "### Writing your own callbacks"
   ]
  },
  {
   "cell_type": "markdown",
   "metadata": {
    "colab_type": "text"
   },
   "source": [
    "**Creating a custom callback by subclassing the `Callback` class**"
   ]
  },
  {
   "cell_type": "code",
   "execution_count": 38,
   "metadata": {
    "colab_type": "code"
   },
   "outputs": [],
   "source": [
    "from matplotlib import pyplot as plt\n",
    "\n",
    "class LossHistory(keras.callbacks.Callback):\n",
    "    def on_train_begin(self, logs):\n",
    "        self.per_batch_losses = []\n",
    "\n",
    "    def on_batch_end(self, batch, logs):\n",
    "        self.per_batch_losses.append(logs.get(\"loss\"))\n",
    "\n",
    "    def on_epoch_end(self, epoch, logs):\n",
    "        plt.clf()\n",
    "        plt.plot(range(len(self.per_batch_losses)), self.per_batch_losses,\n",
    "                 label=\"Training loss for each batch\")\n",
    "        plt.xlabel(f\"Batch (epoch {epoch})\")\n",
    "        plt.ylabel(\"Loss\")\n",
    "        plt.legend()\n",
    "        plt.savefig(f\"plot_at_epoch_{epoch}\")\n",
    "        self.per_batch_losses = []"
   ]
  },
  {
   "cell_type": "code",
   "execution_count": 39,
   "metadata": {
    "colab_type": "code"
   },
   "outputs": [
    {
     "name": "stdout",
     "output_type": "stream",
     "text": [
      "Epoch 1/10\n",
      "1563/1563 [==============================] - 4s 3ms/step - loss: 0.2941 - accuracy: 0.9132 - val_loss: 0.1458 - val_accuracy: 0.9580\n",
      "Epoch 2/10\n",
      "1563/1563 [==============================] - 4s 3ms/step - loss: 0.1595 - accuracy: 0.9555 - val_loss: 0.1324 - val_accuracy: 0.9650\n",
      "Epoch 3/10\n",
      "1563/1563 [==============================] - 4s 3ms/step - loss: 0.1414 - accuracy: 0.9624 - val_loss: 0.1094 - val_accuracy: 0.9714\n",
      "Epoch 4/10\n",
      "1563/1563 [==============================] - 4s 3ms/step - loss: 0.1248 - accuracy: 0.9674 - val_loss: 0.1147 - val_accuracy: 0.9729\n",
      "Epoch 5/10\n",
      "1563/1563 [==============================] - 4s 3ms/step - loss: 0.1168 - accuracy: 0.9708 - val_loss: 0.1081 - val_accuracy: 0.9742\n",
      "Epoch 6/10\n",
      "1563/1563 [==============================] - 4s 3ms/step - loss: 0.1116 - accuracy: 0.9725 - val_loss: 0.1189 - val_accuracy: 0.9752\n",
      "Epoch 7/10\n",
      "1563/1563 [==============================] - 4s 3ms/step - loss: 0.1022 - accuracy: 0.9754 - val_loss: 0.1129 - val_accuracy: 0.9765\n",
      "Epoch 8/10\n",
      "1563/1563 [==============================] - 4s 3ms/step - loss: 0.1001 - accuracy: 0.9766 - val_loss: 0.1142 - val_accuracy: 0.9767\n",
      "Epoch 9/10\n",
      "1563/1563 [==============================] - 4s 3ms/step - loss: 0.0967 - accuracy: 0.9783 - val_loss: 0.1095 - val_accuracy: 0.9776\n",
      "Epoch 10/10\n",
      "1563/1563 [==============================] - 4s 3ms/step - loss: 0.0950 - accuracy: 0.9783 - val_loss: 0.1112 - val_accuracy: 0.9793\n"
     ]
    },
    {
     "data": {
      "text/plain": [
       "<keras.callbacks.History at 0x203ce939d90>"
      ]
     },
     "execution_count": 39,
     "metadata": {},
     "output_type": "execute_result"
    },
    {
     "data": {
      "image/png": "[encoded data removed]",
      "text/plain": [
       "<Figure size 640x480 with 1 Axes>"
      ]
     },
     "metadata": {},
     "output_type": "display_data"
    }
   ],
   "source": [
    "model = get_mnist_model()\n",
    "model.compile(optimizer=\"rmsprop\",\n",
    "              loss=\"sparse_categorical_crossentropy\",\n",
    "              metrics=[\"accuracy\"])\n",
    "model.fit(train_images, train_labels,\n",
    "          epochs=10,\n",
    "          callbacks=[LossHistory()],\n",
    "          validation_data=(val_images, val_labels))"
   ]
  },
  {
   "cell_type": "markdown",
   "metadata": {
    "colab_type": "text"
   },
   "source": [
    "### Monitoring and visualization with TensorBoard"
   ]
  },
  {
   "cell_type": "code",
   "execution_count": 40,
   "metadata": {
    "colab_type": "code"
   },
   "outputs": [
    {
     "name": "stdout",
     "output_type": "stream",
     "text": [
      "Epoch 1/10\n",
      "1563/1563 [==============================] - 4s 3ms/step - loss: 0.2892 - accuracy: 0.9139 - val_loss: 0.1585 - val_accuracy: 0.9560\n",
      "Epoch 2/10\n",
      "1563/1563 [==============================] - 4s 3ms/step - loss: 0.1653 - accuracy: 0.9528 - val_loss: 0.1200 - val_accuracy: 0.9675\n",
      "Epoch 3/10\n",
      "1563/1563 [==============================] - 4s 3ms/step - loss: 0.1402 - accuracy: 0.9631 - val_loss: 0.1138 - val_accuracy: 0.9709\n",
      "Epoch 4/10\n",
      "1563/1563 [==============================] - 4s 3ms/step - loss: 0.1247 - accuracy: 0.9676 - val_loss: 0.1111 - val_accuracy: 0.9732\n",
      "Epoch 5/10\n",
      "1563/1563 [==============================] - 4s 2ms/step - loss: 0.1169 - accuracy: 0.9712 - val_loss: 0.1070 - val_accuracy: 0.9746\n",
      "Epoch 6/10\n",
      "1563/1563 [==============================] - 4s 2ms/step - loss: 0.1141 - accuracy: 0.9717 - val_loss: 0.1071 - val_accuracy: 0.9757\n",
      "Epoch 7/10\n",
      "1563/1563 [==============================] - 4s 3ms/step - loss: 0.1053 - accuracy: 0.9753 - val_loss: 0.1123 - val_accuracy: 0.9778\n",
      "Epoch 8/10\n",
      "1563/1563 [==============================] - 4s 2ms/step - loss: 0.1033 - accuracy: 0.9753 - val_loss: 0.1168 - val_accuracy: 0.9776\n",
      "Epoch 9/10\n",
      "1563/1563 [==============================] - 4s 3ms/step - loss: 0.0994 - accuracy: 0.9774 - val_loss: 0.1122 - val_accuracy: 0.9777\n",
      "Epoch 10/10\n",
      "1563/1563 [==============================] - 4s 3ms/step - loss: 0.0932 - accuracy: 0.9787 - val_loss: 0.1148 - val_accuracy: 0.9777\n"
     ]
    },
    {
     "data": {
      "text/plain": [
       "<keras.callbacks.History at 0x204ca01d910>"
      ]
     },
     "execution_count": 40,
     "metadata": {},
     "output_type": "execute_result"
    }
   ],
   "source": [
    "model = get_mnist_model()\n",
    "model.compile(optimizer=\"rmsprop\",\n",
    "              loss=\"sparse_categorical_crossentropy\",\n",
    "              metrics=[\"accuracy\"])\n",
    "\n",
    "tensorboard = keras.callbacks.TensorBoard(\n",
    "    log_dir=\"/full_path_to_your_log_dir\",\n",
    ")\n",
    "model.fit(train_images, train_labels,\n",
    "          epochs=10,\n",
    "          validation_data=(val_images, val_labels),\n",
    "          callbacks=[tensorboard])"
   ]
  },
  {
   "cell_type": "code",
   "execution_count": 41,
   "metadata": {
    "colab_type": "code"
   },
   "outputs": [
    {
     "data": {
      "text/html": [
       "\n",
       "      <iframe id=\"tensorboard-frame-dc6c3c07a87e881d\" width=\"100%\" height=\"800\" frameborder=\"0\">\n",
       "      </iframe>\n",
       "      <script>\n",
       "        (function() {\n",
       "          const frame = document.getElementById(\"tensorboard-frame-dc6c3c07a87e881d\");\n",
       "          const url = new URL(\"/\", window.location);\n",
       "          const port = 6006;\n",
       "          if (port) {\n",
       "            url.port = port;\n",
       "          }\n",
       "          frame.src = url;\n",
       "        })();\n",
       "      </script>\n",
       "    "
      ],
      "text/plain": [
       "<IPython.core.display.HTML object>"
      ]
     },
     "metadata": {},
     "output_type": "display_data"
    }
   ],
   "source": [
    "%load_ext tensorboard\n",
    "%tensorboard --logdir /full_path_to_your_log_dir"
   ]
  },
  {
   "cell_type": "markdown",
   "metadata": {
    "colab_type": "text"
   },
   "source": [
    "## Writing your own training and evaluation loops"
   ]
  },
  {
   "cell_type": "markdown",
   "metadata": {
    "colab_type": "text"
   },
   "source": [
    "### Training versus inference"
   ]
  },
  {
   "cell_type": "markdown",
   "metadata": {
    "colab_type": "text"
   },
   "source": [
    "### Low-level usage of metrics"
   ]
  },
  {
   "cell_type": "code",
   "execution_count": 42,
   "metadata": {
    "colab_type": "code"
   },
   "outputs": [
    {
     "name": "stdout",
     "output_type": "stream",
     "text": [
      "result: 1.00\n"
     ]
    }
   ],
   "source": [
    "metric = keras.metrics.SparseCategoricalAccuracy()\n",
    "targets = [0, 1, 2]\n",
    "predictions = [[1, 0, 0], [0, 1, 0], [0, 0, 1]]\n",
    "metric.update_state(targets, predictions)\n",
    "current_result = metric.result()\n",
    "print(f\"result: {current_result:.2f}\")"
   ]
  },
  {
   "cell_type": "code",
   "execution_count": 43,
   "metadata": {
    "colab_type": "code"
   },
   "outputs": [
    {
     "name": "stdout",
     "output_type": "stream",
     "text": [
      "Mean of values: 2.00\n"
     ]
    }
   ],
   "source": [
    "values = [0, 1, 2, 3, 4]\n",
    "mean_tracker = keras.metrics.Mean()\n",
    "for value in values:\n",
    "    mean_tracker.update_state(value)\n",
    "print(f\"Mean of values: {mean_tracker.result():.2f}\")"
   ]
  },
  {
   "cell_type": "markdown",
   "metadata": {
    "colab_type": "text"
   },
   "source": [
    "### A complete training and evaluation loop"
   ]
  },
  {
   "cell_type": "markdown",
   "metadata": {
    "colab_type": "text"
   },
   "source": [
    "**Writing a step-by-step training loop: the training step function**"
   ]
  },
  {
   "cell_type": "code",
   "execution_count": 44,
   "metadata": {
    "colab_type": "code"
   },
   "outputs": [],
   "source": [
    "model = get_mnist_model()\n",
    "\n",
    "loss_fn = keras.losses.SparseCategoricalCrossentropy()\n",
    "optimizer = keras.optimizers.RMSprop()\n",
    "metrics = [keras.metrics.SparseCategoricalAccuracy()]\n",
    "loss_tracking_metric = keras.metrics.Mean()\n",
    "\n",
    "def train_step(inputs, targets):\n",
    "    with tf.GradientTape() as tape:\n",
    "        predictions = model(inputs, training=True)\n",
    "        loss = loss_fn(targets, predictions)\n",
    "    gradients = tape.gradient(loss, model.trainable_weights)\n",
    "    optimizer.apply_gradients(zip(gradients, model.trainable_weights))\n",
    "\n",
    "    logs = {}\n",
    "    for metric in metrics:\n",
    "        metric.update_state(targets, predictions)\n",
    "        logs[metric.name] = metric.result()\n",
    "\n",
    "    loss_tracking_metric.update_state(loss)\n",
    "    logs[\"loss\"] = loss_tracking_metric.result()\n",
    "    return logs"
   ]
  },
  {
   "cell_type": "markdown",
   "metadata": {
    "colab_type": "text"
   },
   "source": [
    "**Writing a step-by-step training loop: resetting the metrics**"
   ]
  },
  {
   "cell_type": "code",
   "execution_count": 45,
   "metadata": {
    "colab_type": "code"
   },
   "outputs": [],
   "source": [
    "def reset_metrics():\n",
    "    for metric in metrics:\n",
    "        metric.reset_state()\n",
    "    loss_tracking_metric.reset_state()"
   ]
  },
  {
   "cell_type": "markdown",
   "metadata": {
    "colab_type": "text"
   },
   "source": [
    "**Writing a step-by-step training loop: the loop itself**"
   ]
  },
  {
   "cell_type": "code",
   "execution_count": 46,
   "metadata": {
    "colab_type": "code"
   },
   "outputs": [
    {
     "name": "stdout",
     "output_type": "stream",
     "text": [
      "Results at the end of epoch 0\n",
      "...sparse_categorical_accuracy: 0.9139\n",
      "...loss: 0.2914\n",
      "Results at the end of epoch 1\n",
      "...sparse_categorical_accuracy: 0.9530\n",
      "...loss: 0.1673\n",
      "Results at the end of epoch 2\n",
      "...sparse_categorical_accuracy: 0.9617\n",
      "...loss: 0.1439\n"
     ]
    }
   ],
   "source": [
    "training_dataset = tf.data.Dataset.from_tensor_slices((train_images, train_labels))\n",
    "training_dataset = training_dataset.batch(32)\n",
    "epochs = 3\n",
    "for epoch in range(epochs):\n",
    "    reset_metrics()\n",
    "    for inputs_batch, targets_batch in training_dataset:\n",
    "        logs = train_step(inputs_batch, targets_batch)\n",
    "    print(f\"Results at the end of epoch {epoch}\")\n",
    "    for key, value in logs.items():\n",
    "        print(f\"...{key}: {value:.4f}\")"
   ]
  },
  {
   "cell_type": "markdown",
   "metadata": {
    "colab_type": "text"
   },
   "source": [
    "**Writing a step-by-step evaluation loop**"
   ]
  },
  {
   "cell_type": "code",
   "execution_count": 47,
   "metadata": {
    "colab_type": "code"
   },
   "outputs": [
    {
     "name": "stdout",
     "output_type": "stream",
     "text": [
      "Evaluation results:\n",
      "...val_sparse_categorical_accuracy: 0.9659\n",
      "...val_loss: 0.1326\n"
     ]
    }
   ],
   "source": [
    "def test_step(inputs, targets):\n",
    "    predictions = model(inputs, training=False)\n",
    "    loss = loss_fn(targets, predictions)\n",
    "\n",
    "    logs = {}\n",
    "    for metric in metrics:\n",
    "        metric.update_state(targets, predictions)\n",
    "        logs[\"val_\" + metric.name] = metric.result()\n",
    "\n",
    "    loss_tracking_metric.update_state(loss)\n",
    "    logs[\"val_loss\"] = loss_tracking_metric.result()\n",
    "    return logs\n",
    "\n",
    "val_dataset = tf.data.Dataset.from_tensor_slices((val_images, val_labels))\n",
    "val_dataset = val_dataset.batch(32)\n",
    "reset_metrics()\n",
    "for inputs_batch, targets_batch in val_dataset:\n",
    "    logs = test_step(inputs_batch, targets_batch)\n",
    "print(\"Evaluation results:\")\n",
    "for key, value in logs.items():\n",
    "    print(f\"...{key}: {value:.4f}\")"
   ]
  },
  {
   "cell_type": "markdown",
   "metadata": {
    "colab_type": "text"
   },
   "source": [
    "### Make it fast with tf.function"
   ]
  },
  {
   "cell_type": "markdown",
   "metadata": {
    "colab_type": "text"
   },
   "source": [
    "**Adding a `tf.function` decorator to our evaluation-step function**"
   ]
  },
  {
   "cell_type": "code",
   "execution_count": 48,
   "metadata": {
    "colab_type": "code"
   },
   "outputs": [
    {
     "name": "stdout",
     "output_type": "stream",
     "text": [
      "Evaluation results:\n",
      "...val_sparse_categorical_accuracy: 0.9659\n",
      "...val_loss: 0.1326\n"
     ]
    }
   ],
   "source": [
    "@tf.function\n",
    "def test_step(inputs, targets):\n",
    "    predictions = model(inputs, training=False)\n",
    "    loss = loss_fn(targets, predictions)\n",
    "\n",
    "    logs = {}\n",
    "    for metric in metrics:\n",
    "        metric.update_state(targets, predictions)\n",
    "        logs[\"val_\" + metric.name] = metric.result()\n",
    "\n",
    "    loss_tracking_metric.update_state(loss)\n",
    "    logs[\"val_loss\"] = loss_tracking_metric.result()\n",
    "    return logs\n",
    "\n",
    "val_dataset = tf.data.Dataset.from_tensor_slices((val_images, val_labels))\n",
    "val_dataset = val_dataset.batch(32)\n",
    "reset_metrics()\n",
    "for inputs_batch, targets_batch in val_dataset:\n",
    "    logs = test_step(inputs_batch, targets_batch)\n",
    "print(\"Evaluation results:\")\n",
    "for key, value in logs.items():\n",
    "    print(f\"...{key}: {value:.4f}\")"
   ]
  },
  {
   "cell_type": "markdown",
   "metadata": {
    "colab_type": "text"
   },
   "source": [
    "### Leveraging fit() with a custom training loop"
   ]
  },
  {
   "cell_type": "markdown",
   "metadata": {
    "colab_type": "text"
   },
   "source": [
    "**Implementing a custom training step to use with `fit()`**"
   ]
  },
  {
   "cell_type": "code",
   "execution_count": 49,
   "metadata": {
    "colab_type": "code"
   },
   "outputs": [],
   "source": [
    "loss_fn = keras.losses.SparseCategoricalCrossentropy()\n",
    "loss_tracker = keras.metrics.Mean(name=\"loss\")\n",
    "\n",
    "class CustomModel(keras.Model):\n",
    "    def train_step(self, data):\n",
    "        inputs, targets = data\n",
    "        with tf.GradientTape() as tape:\n",
    "            predictions = self(inputs, training=True)\n",
    "            loss = loss_fn(targets, predictions)\n",
    "        gradients = tape.gradient(loss, self.trainable_weights)\n",
    "        self.optimizer.apply_gradients(zip(gradients, self.trainable_weights))\n",
    "\n",
    "        loss_tracker.update_state(loss)\n",
    "        return {\"loss\": loss_tracker.result()}\n",
    "\n",
    "    @property\n",
    "    def metrics(self):\n",
    "        return [loss_tracker]"
   ]
  },
  {
   "cell_type": "code",
   "execution_count": 50,
   "metadata": {
    "colab_type": "code"
   },
   "outputs": [
    {
     "name": "stdout",
     "output_type": "stream",
     "text": [
      "Epoch 1/3\n",
      "1563/1563 [==============================] - 3s 2ms/step - loss: 0.2951\n",
      "Epoch 2/3\n",
      "1563/1563 [==============================] - 3s 2ms/step - loss: 0.1671\n",
      "Epoch 3/3\n",
      "1563/1563 [==============================] - 3s 2ms/step - loss: 0.1402\n"
     ]
    },
    {
     "data": {
      "text/plain": [
       "<keras.callbacks.History at 0x204c9fee130>"
      ]
     },
     "execution_count": 50,
     "metadata": {},
     "output_type": "execute_result"
    }
   ],
   "source": [
    "inputs = keras.Input(shape=(28 * 28,))\n",
    "features = layers.Dense(512, activation=\"relu\")(inputs)\n",
    "features = layers.Dropout(0.5)(features)\n",
    "outputs = layers.Dense(10, activation=\"softmax\")(features)\n",
    "model = CustomModel(inputs, outputs)\n",
    "\n",
    "model.compile(optimizer=keras.optimizers.RMSprop())\n",
    "model.fit(train_images, train_labels, epochs=3)"
   ]
  },
  {
   "cell_type": "code",
   "execution_count": 51,
   "metadata": {
    "colab_type": "code"
   },
   "outputs": [],
   "source": [
    "class CustomModel(keras.Model):\n",
    "    def train_step(self, data):\n",
    "        inputs, targets = data\n",
    "        with tf.GradientTape() as tape:\n",
    "            predictions = self(inputs, training=True)\n",
    "            loss = self.compiled_loss(targets, predictions)\n",
    "        gradients = tape.gradient(loss, self.trainable_weights)\n",
    "        self.optimizer.apply_gradients(zip(gradients, self.trainable_weights))\n",
    "        self.compiled_metrics.update_state(targets, predictions)\n",
    "        return {m.name: m.result() for m in self.metrics}"
   ]
  },
  {
   "cell_type": "code",
   "execution_count": 52,
   "metadata": {
    "colab_type": "code"
   },
   "outputs": [
    {
     "name": "stdout",
     "output_type": "stream",
     "text": [
      "Epoch 1/3\n",
      "1563/1563 [==============================] - 4s 2ms/step - loss: 0.2961 - sparse_categorical_accuracy: 0.9115\n",
      "Epoch 2/3\n",
      "1563/1563 [==============================] - 4s 2ms/step - loss: 0.1670 - sparse_categorical_accuracy: 0.9526\n",
      "Epoch 3/3\n",
      "1563/1563 [==============================] - 4s 2ms/step - loss: 0.1383 - sparse_categorical_accuracy: 0.9624\n"
     ]
    },
    {
     "data": {
      "text/plain": [
       "<keras.callbacks.History at 0x204cefa5fa0>"
      ]
     },
     "execution_count": 52,
     "metadata": {},
     "output_type": "execute_result"
    }
   ],
   "source": [
    "inputs = keras.Input(shape=(28 * 28,))\n",
    "features = layers.Dense(512, activation=\"relu\")(inputs)\n",
    "features = layers.Dropout(0.5)(features)\n",
    "outputs = layers.Dense(10, activation=\"softmax\")(features)\n",
    "model = CustomModel(inputs, outputs)\n",
    "\n",
    "model.compile(optimizer=keras.optimizers.RMSprop(),\n",
    "              loss=keras.losses.SparseCategoricalCrossentropy(),\n",
    "              metrics=[keras.metrics.SparseCategoricalAccuracy()])\n",
    "model.fit(train_images, train_labels, epochs=3)"
   ]
  },
  {
   "cell_type": "markdown",
   "metadata": {
    "colab_type": "text"
   },
   "source": [
    "## Summary"
   ]
  }
 ],
 "metadata": {
  "colab": {
   "collapsed_sections": [],
   "name": "chapter07_working-with-keras.i",
   "private_outputs": false,
   "provenance": [],
   "toc_visible": true
  },
  "kernelspec": {
   "display_name": "Python 3 (ipykernel)",
   "language": "python",
   "name": "python3"
  },
  "language_info": {
   "codemirror_mode": {
    "name": "ipython",
    "version": 3
   },
   "file_extension": ".py",
   "mimetype": "text/x-python",
   "name": "python",
   "nbconvert_exporter": "python",
   "pygments_lexer": "ipython3",
   "version": "3.8.13"
  }
 },
 "nbformat": 4,
 "nbformat_minor": 1
}
